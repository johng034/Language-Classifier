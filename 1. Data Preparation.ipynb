{
 "cells": [
  {
   "cell_type": "code",
   "execution_count": 1,
   "metadata": {},
   "outputs": [],
   "source": [
    "# Import libraries\n",
    "import os\n",
    "import re\n",
    "import nltk\n",
    "import pandas as pd"
   ]
  },
  {
   "cell_type": "markdown",
   "metadata": {},
   "source": [
    "**NOTE:** If this is your first time using the `nltk` library, uncomment the following cell to download the necessary modules. For this notebook, you will need to download the *stopwords* folder."
   ]
  },
  {
   "cell_type": "code",
   "execution_count": 2,
   "metadata": {},
   "outputs": [],
   "source": [
    "# nltk.download()"
   ]
  },
  {
   "cell_type": "markdown",
   "metadata": {},
   "source": [
    "Link to [dataset](https://www.kaggle.com/zarajamshaid/language-identification-datasst) on Kaggle.\n",
    "\n",
    "Link to [original dataset](https://zenodo.org/record/841984) from Zenodo.\n",
    "\n",
    "The dataset contains 1,000 rows for 235 languages (235,000 data points in total)."
   ]
  },
  {
   "cell_type": "code",
   "execution_count": 3,
   "metadata": {},
   "outputs": [
    {
     "data": {
      "text/html": [
       "<div>\n",
       "<style scoped>\n",
       "    .dataframe tbody tr th:only-of-type {\n",
       "        vertical-align: middle;\n",
       "    }\n",
       "\n",
       "    .dataframe tbody tr th {\n",
       "        vertical-align: top;\n",
       "    }\n",
       "\n",
       "    .dataframe thead th {\n",
       "        text-align: right;\n",
       "    }\n",
       "</style>\n",
       "<table border=\"1\" class=\"dataframe\">\n",
       "  <thead>\n",
       "    <tr style=\"text-align: right;\">\n",
       "      <th></th>\n",
       "      <th>Label</th>\n",
       "      <th>English</th>\n",
       "      <th>Wiki Code</th>\n",
       "      <th>ISO 369-3</th>\n",
       "      <th>German</th>\n",
       "      <th>Language family</th>\n",
       "      <th>Writing system</th>\n",
       "      <th>Remarks</th>\n",
       "      <th>Synonyms</th>\n",
       "    </tr>\n",
       "  </thead>\n",
       "  <tbody>\n",
       "    <tr>\n",
       "      <th>0</th>\n",
       "      <td>ace</td>\n",
       "      <td>Achinese</td>\n",
       "      <td>ace</td>\n",
       "      <td>ace</td>\n",
       "      <td>Achinesisch</td>\n",
       "      <td>Austronesian</td>\n",
       "      <td>NaN</td>\n",
       "      <td>NaN</td>\n",
       "      <td>NaN</td>\n",
       "    </tr>\n",
       "    <tr>\n",
       "      <th>1</th>\n",
       "      <td>afr</td>\n",
       "      <td>Afrikaans</td>\n",
       "      <td>af</td>\n",
       "      <td>afr</td>\n",
       "      <td>Afrikaans</td>\n",
       "      <td>Indo-European</td>\n",
       "      <td>NaN</td>\n",
       "      <td>NaN</td>\n",
       "      <td>NaN</td>\n",
       "    </tr>\n",
       "    <tr>\n",
       "      <th>2</th>\n",
       "      <td>als</td>\n",
       "      <td>Alemannic German</td>\n",
       "      <td>als</td>\n",
       "      <td>gsw</td>\n",
       "      <td>Alemannisch</td>\n",
       "      <td>Indo-European</td>\n",
       "      <td>NaN</td>\n",
       "      <td>(ursprünglich nur Elsässisch)</td>\n",
       "      <td>NaN</td>\n",
       "    </tr>\n",
       "    <tr>\n",
       "      <th>3</th>\n",
       "      <td>amh</td>\n",
       "      <td>Amharic</td>\n",
       "      <td>am</td>\n",
       "      <td>amh</td>\n",
       "      <td>Amharisch</td>\n",
       "      <td>Afro-Asiatic</td>\n",
       "      <td>NaN</td>\n",
       "      <td>NaN</td>\n",
       "      <td>NaN</td>\n",
       "    </tr>\n",
       "    <tr>\n",
       "      <th>4</th>\n",
       "      <td>ang</td>\n",
       "      <td>Old English</td>\n",
       "      <td>ang</td>\n",
       "      <td>ang</td>\n",
       "      <td>Altenglisch</td>\n",
       "      <td>Indo-European</td>\n",
       "      <td>NaN</td>\n",
       "      <td>(ca. 450-1100)</td>\n",
       "      <td>Angelsächsisch</td>\n",
       "    </tr>\n",
       "  </tbody>\n",
       "</table>\n",
       "</div>"
      ],
      "text/plain": [
       "  Label           English Wiki Code ISO 369-3       German Language family  \\\n",
       "0   ace          Achinese       ace       ace  Achinesisch    Austronesian   \n",
       "1   afr         Afrikaans        af       afr    Afrikaans   Indo-European   \n",
       "2   als  Alemannic German       als       gsw  Alemannisch   Indo-European   \n",
       "3   amh           Amharic        am       amh    Amharisch    Afro-Asiatic   \n",
       "4   ang      Old English        ang       ang  Altenglisch   Indo-European   \n",
       "\n",
       "  Writing system                        Remarks        Synonyms  \n",
       "0            NaN                            NaN             NaN  \n",
       "1            NaN                            NaN             NaN  \n",
       "2            NaN  (ursprünglich nur Elsässisch)             NaN  \n",
       "3            NaN                            NaN             NaN  \n",
       "4            NaN                 (ca. 450-1100)  Angelsächsisch  "
      ]
     },
     "execution_count": 3,
     "metadata": {},
     "output_type": "execute_result"
    }
   ],
   "source": [
    "df = pd.read_csv('./wili-2018/labels.csv', sep=';')\n",
    "df.head()"
   ]
  },
  {
   "cell_type": "markdown",
   "metadata": {},
   "source": [
    "# Read Data From Text File\n"
   ]
  },
  {
   "cell_type": "code",
   "execution_count": 4,
   "metadata": {},
   "outputs": [],
   "source": [
    "def read_data(filename):\n",
    "    data = []\n",
    "    with open(f'./wili-2018/{filename}', 'r', encoding=\"utf8\") as f:\n",
    "        for line in f:\n",
    "            data.append(line)\n",
    "    return data"
   ]
  },
  {
   "cell_type": "markdown",
   "metadata": {},
   "source": [
    "## Paragraphs\n",
    "We will save the training and testing paragraphs to their own list"
   ]
  },
  {
   "cell_type": "code",
   "execution_count": 5,
   "metadata": {},
   "outputs": [],
   "source": [
    "# Training set\n",
    "raw_training_sentences = read_data('x_train.txt')\n",
    "\n",
    "# Testing set\n",
    "raw_testing_sentences = read_data('x_test.txt')"
   ]
  },
  {
   "cell_type": "code",
   "execution_count": 6,
   "metadata": {},
   "outputs": [
    {
     "data": {
      "text/plain": [
       "['Klement Gottwaldi surnukeha palsameeriti ning paigutati mausoleumi. Surnukeha oli aga liiga hilja ja oskamatult palsameeritud ning hakkas ilmutama lagunemise tundemärke. 1962. aastal viidi ta surnukeha mausoleumist ära ja kremeeriti. Zlíni linn kandis aastatel 1949–1989 nime Gottwaldov. Ukrainas Harkivi oblastis kandis Zmiivi linn aastatel 1976–1990 nime Gotvald.\\n',\n",
       " 'Sebes, Joseph; Pereira Thomas (1961) (på eng). The Jesuits and the Sino-Russian treaty of Nerchinsk (1689): the diary of Thomas Pereira. Bibliotheca Instituti historici S. I., 99-0105377-3 ; 18. Rome. Libris 677492\\n']"
      ]
     },
     "execution_count": 6,
     "metadata": {},
     "output_type": "execute_result"
    }
   ],
   "source": [
    "raw_training_sentences[:2]"
   ]
  },
  {
   "cell_type": "code",
   "execution_count": 7,
   "metadata": {},
   "outputs": [
    {
     "data": {
      "text/plain": [
       "[\"Ne l fin de l seclo XIX l Japon era inda çconhecido i sótico pa l mundo oucidental. Cula antroduçon de la stética japonesa, particularmente na Sposiçon Ounibersal de 1900, an Paris, l Oucidente adquiriu un apetite ansaciable pul Japon i Heiarn se tornou mundialmente coincido pula perfundidade, ouriginalidade i sinceridade de ls sous cuntos. An sous radadeiros anhos, alguns críticos, cumo George Orwell, acusórun Heiarn de trasferir sou nacionalismo i fazer l Japon parecer mais sótico, mas, cumo l'home qu'oufereciu al Oucidente alguns de sous purmeiros lampeijos de l Japon pré-andustrial i de l Período Meiji, sou trabalho inda ye balioso até hoije.\\n\",\n",
       " 'Schiedam is gelegen tussen Rotterdam en Vlaardingen, oorspronkelijk aan de Schie en later ook aan de Nieuwe Maas. Per 30 april 2017 had de gemeente 77.833 inwoners (bron: CBS). De stad is vooral bekend om haar jenever, de historische binnenstad met grachten, en de hoogste windmolens ter wereld.\\n']"
      ]
     },
     "execution_count": 7,
     "metadata": {},
     "output_type": "execute_result"
    }
   ],
   "source": [
    "raw_testing_sentences[:2]"
   ]
  },
  {
   "cell_type": "markdown",
   "metadata": {},
   "source": [
    "## Language Labels\n",
    "We will save the training and testing labels to their own list"
   ]
  },
  {
   "cell_type": "code",
   "execution_count": 8,
   "metadata": {},
   "outputs": [],
   "source": [
    "# Training set\n",
    "raw_training_language = read_data('y_train.txt')\n",
    "\n",
    "# Testing set\n",
    "raw_testing_language = read_data('y_test.txt')"
   ]
  },
  {
   "cell_type": "code",
   "execution_count": 9,
   "metadata": {},
   "outputs": [
    {
     "data": {
      "text/plain": [
       "['est\\n', 'swe\\n', 'mai\\n', 'oci\\n', 'tha\\n']"
      ]
     },
     "execution_count": 9,
     "metadata": {},
     "output_type": "execute_result"
    }
   ],
   "source": [
    "raw_training_language[:5]"
   ]
  },
  {
   "cell_type": "code",
   "execution_count": 10,
   "metadata": {},
   "outputs": [
    {
     "data": {
      "text/plain": [
       "['mwl\\n', 'nld\\n', 'ava\\n', 'tcy\\n', 'bjn\\n']"
      ]
     },
     "execution_count": 10,
     "metadata": {},
     "output_type": "execute_result"
    }
   ],
   "source": [
    "raw_testing_language[:5]"
   ]
  },
  {
   "cell_type": "markdown",
   "metadata": {},
   "source": [
    "## Remove New Line Character (`/n`)\n",
    "All the lists end with `/n` so we will write a function to remove it "
   ]
  },
  {
   "cell_type": "code",
   "execution_count": 11,
   "metadata": {},
   "outputs": [],
   "source": [
    "def remove_newline(text):\n",
    "    return [txt[:-1] for txt in text]"
   ]
  },
  {
   "cell_type": "code",
   "execution_count": 12,
   "metadata": {},
   "outputs": [],
   "source": [
    "# Training data\n",
    "training_sentences = remove_newline(raw_training_sentences)\n",
    "training_language  = remove_newline(raw_training_language)\n",
    "\n",
    "# Testing data\n",
    "testing_sentences  = remove_newline(raw_testing_sentences)\n",
    "testing_language   = remove_newline(raw_testing_language)"
   ]
  },
  {
   "cell_type": "code",
   "execution_count": 13,
   "metadata": {},
   "outputs": [
    {
     "name": "stdout",
     "output_type": "stream",
     "text": [
      "\n",
      "Training set (Sentence): 117500\n",
      "Training set (Language): 117500\n",
      "\n",
      "Testing set (Sentence): 117500\n",
      "Testing set (Language): 117500\n",
      "\n"
     ]
    }
   ],
   "source": [
    "print(f\"\"\"\n",
    "Training set (Sentence): {len(training_sentences)}\n",
    "Training set (Language): {len(training_language)}\n",
    "\n",
    "Testing set (Sentence): {len(testing_sentences)}\n",
    "Testing set (Language): {len(testing_language)}\n",
    "\"\"\")"
   ]
  },
  {
   "cell_type": "code",
   "execution_count": 14,
   "metadata": {},
   "outputs": [],
   "source": [
    "# Training set\n",
    "df_train = pd.DataFrame(data={'sentence': training_sentences, 'language_code':training_language})\n",
    "\n",
    "# Testing set\n",
    "df_test = pd.DataFrame(data={'sentence': testing_sentences, 'language_code':testing_language})"
   ]
  },
  {
   "cell_type": "code",
   "execution_count": 15,
   "metadata": {},
   "outputs": [
    {
     "data": {
      "text/html": [
       "<div>\n",
       "<style scoped>\n",
       "    .dataframe tbody tr th:only-of-type {\n",
       "        vertical-align: middle;\n",
       "    }\n",
       "\n",
       "    .dataframe tbody tr th {\n",
       "        vertical-align: top;\n",
       "    }\n",
       "\n",
       "    .dataframe thead th {\n",
       "        text-align: right;\n",
       "    }\n",
       "</style>\n",
       "<table border=\"1\" class=\"dataframe\">\n",
       "  <thead>\n",
       "    <tr style=\"text-align: right;\">\n",
       "      <th></th>\n",
       "      <th>sentence</th>\n",
       "      <th>language_code</th>\n",
       "    </tr>\n",
       "  </thead>\n",
       "  <tbody>\n",
       "    <tr>\n",
       "      <th>0</th>\n",
       "      <td>Klement Gottwaldi surnukeha palsameeriti ning ...</td>\n",
       "      <td>est</td>\n",
       "    </tr>\n",
       "    <tr>\n",
       "      <th>1</th>\n",
       "      <td>Sebes, Joseph; Pereira Thomas (1961) (på eng)....</td>\n",
       "      <td>swe</td>\n",
       "    </tr>\n",
       "    <tr>\n",
       "      <th>2</th>\n",
       "      <td>भारतीय स्वातन्त्र्य आन्दोलन राष्ट्रीय एवम क्षे...</td>\n",
       "      <td>mai</td>\n",
       "    </tr>\n",
       "    <tr>\n",
       "      <th>3</th>\n",
       "      <td>Après lo cort periòde d'establiment a Basilèa,...</td>\n",
       "      <td>oci</td>\n",
       "    </tr>\n",
       "    <tr>\n",
       "      <th>4</th>\n",
       "      <td>ถนนเจริญกรุง (อักษรโรมัน: Thanon Charoen Krung...</td>\n",
       "      <td>tha</td>\n",
       "    </tr>\n",
       "    <tr>\n",
       "      <th>...</th>\n",
       "      <td>...</td>\n",
       "      <td>...</td>\n",
       "    </tr>\n",
       "    <tr>\n",
       "      <th>117495</th>\n",
       "      <td>Nekoliko prašćića je rođeno na farmi Arableovi...</td>\n",
       "      <td>bos</td>\n",
       "    </tr>\n",
       "    <tr>\n",
       "      <th>117496</th>\n",
       "      <td>Tahiti of Otaheite is 'n eilandj in 't zuje va...</td>\n",
       "      <td>lim</td>\n",
       "    </tr>\n",
       "    <tr>\n",
       "      <th>117497</th>\n",
       "      <td>同年，太后崩。絳侯周勃、陳平諸臣共謀誅呂。朱虛侯章已殺呂產，文帝使人持節勞章。朱虛侯欲奪節信...</td>\n",
       "      <td>lzh</td>\n",
       "    </tr>\n",
       "    <tr>\n",
       "      <th>117498</th>\n",
       "      <td>I det mindste opnåede Venedig den 18. april 14...</td>\n",
       "      <td>dan</td>\n",
       "    </tr>\n",
       "    <tr>\n",
       "      <th>117499</th>\n",
       "      <td>KR tók fljótlega að sér að bjóða uppá æfingar ...</td>\n",
       "      <td>isl</td>\n",
       "    </tr>\n",
       "  </tbody>\n",
       "</table>\n",
       "<p>117500 rows × 2 columns</p>\n",
       "</div>"
      ],
      "text/plain": [
       "                                                 sentence language_code\n",
       "0       Klement Gottwaldi surnukeha palsameeriti ning ...           est\n",
       "1       Sebes, Joseph; Pereira Thomas (1961) (på eng)....           swe\n",
       "2       भारतीय स्वातन्त्र्य आन्दोलन राष्ट्रीय एवम क्षे...           mai\n",
       "3       Après lo cort periòde d'establiment a Basilèa,...           oci\n",
       "4       ถนนเจริญกรุง (อักษรโรมัน: Thanon Charoen Krung...           tha\n",
       "...                                                   ...           ...\n",
       "117495  Nekoliko prašćića je rođeno na farmi Arableovi...           bos\n",
       "117496  Tahiti of Otaheite is 'n eilandj in 't zuje va...           lim\n",
       "117497  同年，太后崩。絳侯周勃、陳平諸臣共謀誅呂。朱虛侯章已殺呂產，文帝使人持節勞章。朱虛侯欲奪節信...           lzh\n",
       "117498  I det mindste opnåede Venedig den 18. april 14...           dan\n",
       "117499  KR tók fljótlega að sér að bjóða uppá æfingar ...           isl\n",
       "\n",
       "[117500 rows x 2 columns]"
      ]
     },
     "execution_count": 15,
     "metadata": {},
     "output_type": "execute_result"
    }
   ],
   "source": [
    "df_train"
   ]
  },
  {
   "cell_type": "code",
   "execution_count": 16,
   "metadata": {},
   "outputs": [
    {
     "data": {
      "text/html": [
       "<div>\n",
       "<style scoped>\n",
       "    .dataframe tbody tr th:only-of-type {\n",
       "        vertical-align: middle;\n",
       "    }\n",
       "\n",
       "    .dataframe tbody tr th {\n",
       "        vertical-align: top;\n",
       "    }\n",
       "\n",
       "    .dataframe thead th {\n",
       "        text-align: right;\n",
       "    }\n",
       "</style>\n",
       "<table border=\"1\" class=\"dataframe\">\n",
       "  <thead>\n",
       "    <tr style=\"text-align: right;\">\n",
       "      <th></th>\n",
       "      <th>sentence</th>\n",
       "      <th>language_code</th>\n",
       "    </tr>\n",
       "  </thead>\n",
       "  <tbody>\n",
       "    <tr>\n",
       "      <th>0</th>\n",
       "      <td>Ne l fin de l seclo XIX l Japon era inda çconh...</td>\n",
       "      <td>mwl</td>\n",
       "    </tr>\n",
       "    <tr>\n",
       "      <th>1</th>\n",
       "      <td>Schiedam is gelegen tussen Rotterdam en Vlaard...</td>\n",
       "      <td>nld</td>\n",
       "    </tr>\n",
       "    <tr>\n",
       "      <th>2</th>\n",
       "      <td>ГIурусаз батальонал, гьоркьор гIарадабиги лъун...</td>\n",
       "      <td>ava</td>\n",
       "    </tr>\n",
       "    <tr>\n",
       "      <th>3</th>\n",
       "      <td>ರಾಜ್ಯಶಾಸ್ತ್ರದ ಪಿತಾಮಹೆ ಅರಿಸ್ಟಾಟಲ್. ರಾಜ್ಯಶಾಸ್ತ್ರ...</td>\n",
       "      <td>tcy</td>\n",
       "    </tr>\n",
       "    <tr>\n",
       "      <th>4</th>\n",
       "      <td>Halukum adalah kelenjar tiroid nang menonjol d...</td>\n",
       "      <td>bjn</td>\n",
       "    </tr>\n",
       "    <tr>\n",
       "      <th>...</th>\n",
       "      <td>...</td>\n",
       "      <td>...</td>\n",
       "    </tr>\n",
       "    <tr>\n",
       "      <th>117495</th>\n",
       "      <td>Wakati wa mimba,homa ya Q ni vigumu kutibu kwa...</td>\n",
       "      <td>swa</td>\n",
       "    </tr>\n",
       "    <tr>\n",
       "      <th>117496</th>\n",
       "      <td>گیلون یک ته تاریخی منطقه‌ سفیدرود دلتای طرف ای...</td>\n",
       "      <td>glk</td>\n",
       "    </tr>\n",
       "    <tr>\n",
       "      <th>117497</th>\n",
       "      <td>តាម​រយៈ​ការ​ចិញ្ចឹម​មនោសញ្ចេតនា​ជាតិនិយម​បែប​ន...</td>\n",
       "      <td>khm</td>\n",
       "    </tr>\n",
       "    <tr>\n",
       "      <th>117498</th>\n",
       "      <td>روس اک وفاق اے تے 1 مارچ 2008ء توں اسدیاں 83 و...</td>\n",
       "      <td>pnb</td>\n",
       "    </tr>\n",
       "    <tr>\n",
       "      <th>117499</th>\n",
       "      <td>Chute annaée-lo, la Normaundie n'est pus recou...</td>\n",
       "      <td>nrm</td>\n",
       "    </tr>\n",
       "  </tbody>\n",
       "</table>\n",
       "<p>117500 rows × 2 columns</p>\n",
       "</div>"
      ],
      "text/plain": [
       "                                                 sentence language_code\n",
       "0       Ne l fin de l seclo XIX l Japon era inda çconh...           mwl\n",
       "1       Schiedam is gelegen tussen Rotterdam en Vlaard...           nld\n",
       "2       ГIурусаз батальонал, гьоркьор гIарадабиги лъун...           ava\n",
       "3       ರಾಜ್ಯಶಾಸ್ತ್ರದ ಪಿತಾಮಹೆ ಅರಿಸ್ಟಾಟಲ್. ರಾಜ್ಯಶಾಸ್ತ್ರ...           tcy\n",
       "4       Halukum adalah kelenjar tiroid nang menonjol d...           bjn\n",
       "...                                                   ...           ...\n",
       "117495  Wakati wa mimba,homa ya Q ni vigumu kutibu kwa...           swa\n",
       "117496  گیلون یک ته تاریخی منطقه‌ سفیدرود دلتای طرف ای...           glk\n",
       "117497  តាម​រយៈ​ការ​ចិញ្ចឹម​មនោសញ្ចេតនា​ជាតិនិយម​បែប​ន...           khm\n",
       "117498  روس اک وفاق اے تے 1 مارچ 2008ء توں اسدیاں 83 و...           pnb\n",
       "117499  Chute annaée-lo, la Normaundie n'est pus recou...           nrm\n",
       "\n",
       "[117500 rows x 2 columns]"
      ]
     },
     "execution_count": 16,
     "metadata": {},
     "output_type": "execute_result"
    }
   ],
   "source": [
    "df_test"
   ]
  },
  {
   "cell_type": "markdown",
   "metadata": {},
   "source": [
    "# Replace Language Code\n",
    "We want the full name of the language instead of the language code. We can find the full name from the `df` DataFrame.\n",
    "\n",
    "We can combine the two DataFrames and get the relevant columns"
   ]
  },
  {
   "cell_type": "code",
   "execution_count": 17,
   "metadata": {},
   "outputs": [
    {
     "data": {
      "text/html": [
       "<div>\n",
       "<style scoped>\n",
       "    .dataframe tbody tr th:only-of-type {\n",
       "        vertical-align: middle;\n",
       "    }\n",
       "\n",
       "    .dataframe tbody tr th {\n",
       "        vertical-align: top;\n",
       "    }\n",
       "\n",
       "    .dataframe thead th {\n",
       "        text-align: right;\n",
       "    }\n",
       "</style>\n",
       "<table border=\"1\" class=\"dataframe\">\n",
       "  <thead>\n",
       "    <tr style=\"text-align: right;\">\n",
       "      <th></th>\n",
       "      <th>Label</th>\n",
       "      <th>English</th>\n",
       "      <th>Wiki Code</th>\n",
       "      <th>ISO 369-3</th>\n",
       "      <th>German</th>\n",
       "      <th>Language family</th>\n",
       "      <th>Writing system</th>\n",
       "      <th>Remarks</th>\n",
       "      <th>Synonyms</th>\n",
       "    </tr>\n",
       "  </thead>\n",
       "  <tbody>\n",
       "    <tr>\n",
       "      <th>0</th>\n",
       "      <td>ace</td>\n",
       "      <td>Achinese</td>\n",
       "      <td>ace</td>\n",
       "      <td>ace</td>\n",
       "      <td>Achinesisch</td>\n",
       "      <td>Austronesian</td>\n",
       "      <td>NaN</td>\n",
       "      <td>NaN</td>\n",
       "      <td>NaN</td>\n",
       "    </tr>\n",
       "    <tr>\n",
       "      <th>1</th>\n",
       "      <td>afr</td>\n",
       "      <td>Afrikaans</td>\n",
       "      <td>af</td>\n",
       "      <td>afr</td>\n",
       "      <td>Afrikaans</td>\n",
       "      <td>Indo-European</td>\n",
       "      <td>NaN</td>\n",
       "      <td>NaN</td>\n",
       "      <td>NaN</td>\n",
       "    </tr>\n",
       "    <tr>\n",
       "      <th>2</th>\n",
       "      <td>als</td>\n",
       "      <td>Alemannic German</td>\n",
       "      <td>als</td>\n",
       "      <td>gsw</td>\n",
       "      <td>Alemannisch</td>\n",
       "      <td>Indo-European</td>\n",
       "      <td>NaN</td>\n",
       "      <td>(ursprünglich nur Elsässisch)</td>\n",
       "      <td>NaN</td>\n",
       "    </tr>\n",
       "    <tr>\n",
       "      <th>3</th>\n",
       "      <td>amh</td>\n",
       "      <td>Amharic</td>\n",
       "      <td>am</td>\n",
       "      <td>amh</td>\n",
       "      <td>Amharisch</td>\n",
       "      <td>Afro-Asiatic</td>\n",
       "      <td>NaN</td>\n",
       "      <td>NaN</td>\n",
       "      <td>NaN</td>\n",
       "    </tr>\n",
       "    <tr>\n",
       "      <th>4</th>\n",
       "      <td>ang</td>\n",
       "      <td>Old English</td>\n",
       "      <td>ang</td>\n",
       "      <td>ang</td>\n",
       "      <td>Altenglisch</td>\n",
       "      <td>Indo-European</td>\n",
       "      <td>NaN</td>\n",
       "      <td>(ca. 450-1100)</td>\n",
       "      <td>Angelsächsisch</td>\n",
       "    </tr>\n",
       "  </tbody>\n",
       "</table>\n",
       "</div>"
      ],
      "text/plain": [
       "  Label           English Wiki Code ISO 369-3       German Language family  \\\n",
       "0   ace          Achinese       ace       ace  Achinesisch    Austronesian   \n",
       "1   afr         Afrikaans        af       afr    Afrikaans   Indo-European   \n",
       "2   als  Alemannic German       als       gsw  Alemannisch   Indo-European   \n",
       "3   amh           Amharic        am       amh    Amharisch    Afro-Asiatic   \n",
       "4   ang      Old English        ang       ang  Altenglisch   Indo-European   \n",
       "\n",
       "  Writing system                        Remarks        Synonyms  \n",
       "0            NaN                            NaN             NaN  \n",
       "1            NaN                            NaN             NaN  \n",
       "2            NaN  (ursprünglich nur Elsässisch)             NaN  \n",
       "3            NaN                            NaN             NaN  \n",
       "4            NaN                 (ca. 450-1100)  Angelsächsisch  "
      ]
     },
     "execution_count": 17,
     "metadata": {},
     "output_type": "execute_result"
    }
   ],
   "source": [
    "df.head()"
   ]
  },
  {
   "cell_type": "code",
   "execution_count": 18,
   "metadata": {},
   "outputs": [
    {
     "data": {
      "text/html": [
       "<div>\n",
       "<style scoped>\n",
       "    .dataframe tbody tr th:only-of-type {\n",
       "        vertical-align: middle;\n",
       "    }\n",
       "\n",
       "    .dataframe tbody tr th {\n",
       "        vertical-align: top;\n",
       "    }\n",
       "\n",
       "    .dataframe thead th {\n",
       "        text-align: right;\n",
       "    }\n",
       "</style>\n",
       "<table border=\"1\" class=\"dataframe\">\n",
       "  <thead>\n",
       "    <tr style=\"text-align: right;\">\n",
       "      <th></th>\n",
       "      <th>sentence</th>\n",
       "      <th>language_code</th>\n",
       "    </tr>\n",
       "  </thead>\n",
       "  <tbody>\n",
       "    <tr>\n",
       "      <th>0</th>\n",
       "      <td>Klement Gottwaldi surnukeha palsameeriti ning ...</td>\n",
       "      <td>est</td>\n",
       "    </tr>\n",
       "    <tr>\n",
       "      <th>1</th>\n",
       "      <td>Sebes, Joseph; Pereira Thomas (1961) (på eng)....</td>\n",
       "      <td>swe</td>\n",
       "    </tr>\n",
       "    <tr>\n",
       "      <th>2</th>\n",
       "      <td>भारतीय स्वातन्त्र्य आन्दोलन राष्ट्रीय एवम क्षे...</td>\n",
       "      <td>mai</td>\n",
       "    </tr>\n",
       "    <tr>\n",
       "      <th>3</th>\n",
       "      <td>Après lo cort periòde d'establiment a Basilèa,...</td>\n",
       "      <td>oci</td>\n",
       "    </tr>\n",
       "    <tr>\n",
       "      <th>4</th>\n",
       "      <td>ถนนเจริญกรุง (อักษรโรมัน: Thanon Charoen Krung...</td>\n",
       "      <td>tha</td>\n",
       "    </tr>\n",
       "  </tbody>\n",
       "</table>\n",
       "</div>"
      ],
      "text/plain": [
       "                                            sentence language_code\n",
       "0  Klement Gottwaldi surnukeha palsameeriti ning ...           est\n",
       "1  Sebes, Joseph; Pereira Thomas (1961) (på eng)....           swe\n",
       "2  भारतीय स्वातन्त्र्य आन्दोलन राष्ट्रीय एवम क्षे...           mai\n",
       "3  Après lo cort periòde d'establiment a Basilèa,...           oci\n",
       "4  ถนนเจริญกรุง (อักษรโรมัน: Thanon Charoen Krung...           tha"
      ]
     },
     "execution_count": 18,
     "metadata": {},
     "output_type": "execute_result"
    }
   ],
   "source": [
    "df_train.head()"
   ]
  },
  {
   "cell_type": "code",
   "execution_count": 19,
   "metadata": {},
   "outputs": [],
   "source": [
    "train_df = pd.merge(left=df_train, right=df, how='inner', \n",
    "                    left_on='language_code', right_on='Label')[['sentence', 'English']].copy()\n",
    "\n",
    "test_df = pd.merge(left=df_test, right=df, how='inner', \n",
    "                   left_on='language_code', right_on='Label')[['sentence', 'English']].copy()"
   ]
  },
  {
   "cell_type": "code",
   "execution_count": 20,
   "metadata": {},
   "outputs": [
    {
     "data": {
      "text/html": [
       "<div>\n",
       "<style scoped>\n",
       "    .dataframe tbody tr th:only-of-type {\n",
       "        vertical-align: middle;\n",
       "    }\n",
       "\n",
       "    .dataframe tbody tr th {\n",
       "        vertical-align: top;\n",
       "    }\n",
       "\n",
       "    .dataframe thead th {\n",
       "        text-align: right;\n",
       "    }\n",
       "</style>\n",
       "<table border=\"1\" class=\"dataframe\">\n",
       "  <thead>\n",
       "    <tr style=\"text-align: right;\">\n",
       "      <th></th>\n",
       "      <th>sentence</th>\n",
       "      <th>English</th>\n",
       "    </tr>\n",
       "  </thead>\n",
       "  <tbody>\n",
       "    <tr>\n",
       "      <th>0</th>\n",
       "      <td>Klement Gottwaldi surnukeha palsameeriti ning ...</td>\n",
       "      <td>Estonian</td>\n",
       "    </tr>\n",
       "    <tr>\n",
       "      <th>1</th>\n",
       "      <td>Dorota Rabczewska, artistinimega Doda (sündinu...</td>\n",
       "      <td>Estonian</td>\n",
       "    </tr>\n",
       "    <tr>\n",
       "      <th>2</th>\n",
       "      <td>Merilai, A., Maria-Kristiina Lotman (toim) (20...</td>\n",
       "      <td>Estonian</td>\n",
       "    </tr>\n",
       "    <tr>\n",
       "      <th>3</th>\n",
       "      <td>Teda on süüdistatud holokausti eitamises - 199...</td>\n",
       "      <td>Estonian</td>\n",
       "    </tr>\n",
       "    <tr>\n",
       "      <th>4</th>\n",
       "      <td>Neile on omistatud Vana-Kreeka laadide nimetus...</td>\n",
       "      <td>Estonian</td>\n",
       "    </tr>\n",
       "  </tbody>\n",
       "</table>\n",
       "</div>"
      ],
      "text/plain": [
       "                                            sentence   English\n",
       "0  Klement Gottwaldi surnukeha palsameeriti ning ...  Estonian\n",
       "1  Dorota Rabczewska, artistinimega Doda (sündinu...  Estonian\n",
       "2  Merilai, A., Maria-Kristiina Lotman (toim) (20...  Estonian\n",
       "3  Teda on süüdistatud holokausti eitamises - 199...  Estonian\n",
       "4  Neile on omistatud Vana-Kreeka laadide nimetus...  Estonian"
      ]
     },
     "execution_count": 20,
     "metadata": {},
     "output_type": "execute_result"
    }
   ],
   "source": [
    "train_df.head()"
   ]
  },
  {
   "cell_type": "code",
   "execution_count": 21,
   "metadata": {},
   "outputs": [
    {
     "data": {
      "text/html": [
       "<div>\n",
       "<style scoped>\n",
       "    .dataframe tbody tr th:only-of-type {\n",
       "        vertical-align: middle;\n",
       "    }\n",
       "\n",
       "    .dataframe tbody tr th {\n",
       "        vertical-align: top;\n",
       "    }\n",
       "\n",
       "    .dataframe thead th {\n",
       "        text-align: right;\n",
       "    }\n",
       "</style>\n",
       "<table border=\"1\" class=\"dataframe\">\n",
       "  <thead>\n",
       "    <tr style=\"text-align: right;\">\n",
       "      <th></th>\n",
       "      <th>sentence</th>\n",
       "      <th>English</th>\n",
       "    </tr>\n",
       "  </thead>\n",
       "  <tbody>\n",
       "    <tr>\n",
       "      <th>0</th>\n",
       "      <td>Ne l fin de l seclo XIX l Japon era inda çconh...</td>\n",
       "      <td>Mirandese</td>\n",
       "    </tr>\n",
       "    <tr>\n",
       "      <th>1</th>\n",
       "      <td>Modelo:Anfo/Asteroide 1997 AF22 (asteroide 294...</td>\n",
       "      <td>Mirandese</td>\n",
       "    </tr>\n",
       "    <tr>\n",
       "      <th>2</th>\n",
       "      <td>Ne l Oucidente, alguns trechos de l libro apar...</td>\n",
       "      <td>Mirandese</td>\n",
       "    </tr>\n",
       "    <tr>\n",
       "      <th>3</th>\n",
       "      <td>Na berdade, esse prémio nun ten ligaçon cun Al...</td>\n",
       "      <td>Mirandese</td>\n",
       "    </tr>\n",
       "    <tr>\n",
       "      <th>4</th>\n",
       "      <td>L'anterro fui rializado an 30 d'outubre, adond...</td>\n",
       "      <td>Mirandese</td>\n",
       "    </tr>\n",
       "  </tbody>\n",
       "</table>\n",
       "</div>"
      ],
      "text/plain": [
       "                                            sentence    English\n",
       "0  Ne l fin de l seclo XIX l Japon era inda çconh...  Mirandese\n",
       "1  Modelo:Anfo/Asteroide 1997 AF22 (asteroide 294...  Mirandese\n",
       "2  Ne l Oucidente, alguns trechos de l libro apar...  Mirandese\n",
       "3  Na berdade, esse prémio nun ten ligaçon cun Al...  Mirandese\n",
       "4  L'anterro fui rializado an 30 d'outubre, adond...  Mirandese"
      ]
     },
     "execution_count": 21,
     "metadata": {},
     "output_type": "execute_result"
    }
   ],
   "source": [
    "test_df.head()"
   ]
  },
  {
   "cell_type": "markdown",
   "metadata": {},
   "source": [
    "# Combine All Data\n",
    "We're going to combine all the data into a single DataFrame. We will split it again into a train and test set once we reduce the number of languages we use for this project. Currently there are 235 languages, but we will only use a subset of these languages."
   ]
  },
  {
   "cell_type": "code",
   "execution_count": 22,
   "metadata": {},
   "outputs": [],
   "source": [
    "full_df = pd.concat(objs=[train_df, test_df], axis=0, ignore_index=True)\n",
    "\n",
    "full_df.rename(columns={'sentence':'text', 'English':'language'}, inplace=True)"
   ]
  },
  {
   "cell_type": "code",
   "execution_count": 23,
   "metadata": {},
   "outputs": [
    {
     "data": {
      "text/html": [
       "<div>\n",
       "<style scoped>\n",
       "    .dataframe tbody tr th:only-of-type {\n",
       "        vertical-align: middle;\n",
       "    }\n",
       "\n",
       "    .dataframe tbody tr th {\n",
       "        vertical-align: top;\n",
       "    }\n",
       "\n",
       "    .dataframe thead th {\n",
       "        text-align: right;\n",
       "    }\n",
       "</style>\n",
       "<table border=\"1\" class=\"dataframe\">\n",
       "  <thead>\n",
       "    <tr style=\"text-align: right;\">\n",
       "      <th></th>\n",
       "      <th>text</th>\n",
       "      <th>language</th>\n",
       "    </tr>\n",
       "  </thead>\n",
       "  <tbody>\n",
       "    <tr>\n",
       "      <th>0</th>\n",
       "      <td>Klement Gottwaldi surnukeha palsameeriti ning ...</td>\n",
       "      <td>Estonian</td>\n",
       "    </tr>\n",
       "    <tr>\n",
       "      <th>1</th>\n",
       "      <td>Dorota Rabczewska, artistinimega Doda (sündinu...</td>\n",
       "      <td>Estonian</td>\n",
       "    </tr>\n",
       "    <tr>\n",
       "      <th>2</th>\n",
       "      <td>Merilai, A., Maria-Kristiina Lotman (toim) (20...</td>\n",
       "      <td>Estonian</td>\n",
       "    </tr>\n",
       "    <tr>\n",
       "      <th>3</th>\n",
       "      <td>Teda on süüdistatud holokausti eitamises - 199...</td>\n",
       "      <td>Estonian</td>\n",
       "    </tr>\n",
       "    <tr>\n",
       "      <th>4</th>\n",
       "      <td>Neile on omistatud Vana-Kreeka laadide nimetus...</td>\n",
       "      <td>Estonian</td>\n",
       "    </tr>\n",
       "  </tbody>\n",
       "</table>\n",
       "</div>"
      ],
      "text/plain": [
       "                                                text  language\n",
       "0  Klement Gottwaldi surnukeha palsameeriti ning ...  Estonian\n",
       "1  Dorota Rabczewska, artistinimega Doda (sündinu...  Estonian\n",
       "2  Merilai, A., Maria-Kristiina Lotman (toim) (20...  Estonian\n",
       "3  Teda on süüdistatud holokausti eitamises - 199...  Estonian\n",
       "4  Neile on omistatud Vana-Kreeka laadide nimetus...  Estonian"
      ]
     },
     "execution_count": 23,
     "metadata": {},
     "output_type": "execute_result"
    }
   ],
   "source": [
    "full_df.head()"
   ]
  },
  {
   "cell_type": "code",
   "execution_count": 24,
   "metadata": {},
   "outputs": [
    {
     "data": {
      "text/plain": [
       "(234000, 2)"
      ]
     },
     "execution_count": 24,
     "metadata": {},
     "output_type": "execute_result"
    }
   ],
   "source": [
    "full_df.shape"
   ]
  },
  {
   "cell_type": "markdown",
   "metadata": {},
   "source": [
    "## Notes on the dataset\n",
    "- `nltk.word_tokenize` currently only supports English. This is not a very important issue since most of the langauges have spaces, so they can still be tokenized.\n",
    "- Languages that do not use spaces to separate words (such as Chinese) are greatly affected by this.\n",
    "\n",
    "For this project, I will only keep the languages that `nltk` currently supports. An idea for a future project would be to include other languages in the dataset with packages that specialize in those languages."
   ]
  },
  {
   "cell_type": "markdown",
   "metadata": {},
   "source": [
    "### List of languages in the dataset"
   ]
  },
  {
   "cell_type": "code",
   "execution_count": 25,
   "metadata": {},
   "outputs": [
    {
     "data": {
      "text/plain": [
       "['estonian',\n",
       " 'swedish',\n",
       " 'maithili',\n",
       " 'occitan',\n",
       " 'thai',\n",
       " 'oromo',\n",
       " 'limburgan',\n",
       " 'gujarati',\n",
       " 'western panjabi',\n",
       " 'zeeuws',\n",
       " 'karachay-balkar',\n",
       " 'haitian creole',\n",
       " 'picard',\n",
       " 'tamil',\n",
       " 'vietnamese',\n",
       " 'panjabi',\n",
       " 'silesian',\n",
       " 'central kurdish',\n",
       " 'friulian',\n",
       " 'wu chinese',\n",
       " 'egyptian arabic',\n",
       " 'tongan',\n",
       " 'basque',\n",
       " 'banyumasan',\n",
       " 'gilaki',\n",
       " 'dutch',\n",
       " 'tibetan',\n",
       " 'japanese',\n",
       " 'aragonese',\n",
       " 'sardinian',\n",
       " 'extremaduran',\n",
       " 'sinhala',\n",
       " 'kurdish',\n",
       " 'chechen',\n",
       " 'turkmen',\n",
       " 'pangasinan',\n",
       " 'turkish',\n",
       " 'alemannic german',\n",
       " 'komi-permyak',\n",
       " 'latin',\n",
       " 'urdu',\n",
       " 'tatar',\n",
       " 'buryat',\n",
       " 'indonesian',\n",
       " 'kirghiz',\n",
       " 'cantonese',\n",
       " 'danish',\n",
       " 'portuguese',\n",
       " 'french',\n",
       " 'oriya',\n",
       " 'bokmål',\n",
       " 'lojban',\n",
       " 'konkani',\n",
       " 'amharic',\n",
       " 'central khmer',\n",
       " 'serbo-croatian',\n",
       " 'slovene',\n",
       " 'bosnian',\n",
       " 'tetum',\n",
       " 'standard chinese',\n",
       " 'korean',\n",
       " 'yakut',\n",
       " 'aromanian',\n",
       " 'asturian',\n",
       " 'wolof',\n",
       " 'bulgarian',\n",
       " 'scottish gaelic',\n",
       " 'malay',\n",
       " 'crimean tatar',\n",
       " 'luganda',\n",
       " 'sundanese',\n",
       " 'breton',\n",
       " 'mongolian',\n",
       " 'nepali (macrolanguage)',\n",
       " 'igbo',\n",
       " 'min dong',\n",
       " 'assamese',\n",
       " 'guarani',\n",
       " 'hindi',\n",
       " 'marathi',\n",
       " 'lingala',\n",
       " 'interlingue',\n",
       " 'lombard',\n",
       " 'burmese',\n",
       " 'iloko',\n",
       " 'kashubian',\n",
       " 'tuvan',\n",
       " 'irish',\n",
       " 'jamaican patois',\n",
       " 'sicilian',\n",
       " 'belarusian (taraschkewiza)',\n",
       " 'dimli',\n",
       " 'cornish',\n",
       " 'faroese',\n",
       " 'malagasy',\n",
       " 'yiddish',\n",
       " 'northern sami',\n",
       " 'spanish',\n",
       " 'kabardian',\n",
       " 'udmurt',\n",
       " 'icelandic',\n",
       " 'ripuarisch',\n",
       " 'sanskrit',\n",
       " 'azerbaijani',\n",
       " 'neapolitan',\n",
       " 'lower sorbian',\n",
       " 'pampanga',\n",
       " 'welsh',\n",
       " 'serbian',\n",
       " 'saterfriesisch',\n",
       " 'telugu',\n",
       " 'swahili (macrolanguage)',\n",
       " 'vlaams',\n",
       " 'mazanderani',\n",
       " 'belarusian',\n",
       " 'ladino',\n",
       " 'interlingua',\n",
       " 'avar',\n",
       " 'lao',\n",
       " 'minangkabau',\n",
       " 'italian',\n",
       " 'west low german',\n",
       " 'ossetian',\n",
       " 'kabyle',\n",
       " 'pushto',\n",
       " 'finnish',\n",
       " 'sindhi',\n",
       " 'karakalpak',\n",
       " 'persian',\n",
       " 'chavacano',\n",
       " 'catalan',\n",
       " 'classical nahuatl',\n",
       " 'eastern mari',\n",
       " 'tarantino dialect',\n",
       " 'arpitan',\n",
       " 'romanian',\n",
       " 'newari',\n",
       " 'bavarian',\n",
       " 'latgalian',\n",
       " 'võro',\n",
       " 'latvian',\n",
       " 'czech',\n",
       " 'yoruba',\n",
       " 'northern sotho',\n",
       " 'bashkir',\n",
       " 'russian',\n",
       " 'achinese',\n",
       " 'moksha',\n",
       " 'veps',\n",
       " 'samogitian',\n",
       " 'uighur',\n",
       " 'lithuanian',\n",
       " 'albanian',\n",
       " 'somali',\n",
       " 'slovak',\n",
       " 'scots',\n",
       " 'ukrainian',\n",
       " 'maori',\n",
       " 'croatian',\n",
       " 'volapük',\n",
       " 'english',\n",
       " 'manx',\n",
       " 'bengali',\n",
       " 'ido',\n",
       " 'javanese',\n",
       " 'tulu',\n",
       " 'western mari',\n",
       " 'fiji hindi',\n",
       " 'shona',\n",
       " 'waray',\n",
       " 'maltese',\n",
       " 'emilian',\n",
       " 'tswana',\n",
       " 'lezghian',\n",
       " 'hakka chinese',\n",
       " 'komi',\n",
       " 'south azerbaijani',\n",
       " 'quechua',\n",
       " 'literary chinese',\n",
       " 'arabic',\n",
       " 'western frisian',\n",
       " 'doteli',\n",
       " 'malayalam',\n",
       " 'hebrew',\n",
       " 'gagauz',\n",
       " 'chuvash',\n",
       " 'afrikaans',\n",
       " 'papiamento',\n",
       " 'kinyarwanda',\n",
       " 'old english ',\n",
       " 'kazakh',\n",
       " 'banjar',\n",
       " 'armenian',\n",
       " 'livvi-karelian',\n",
       " 'mingrelian',\n",
       " 'uzbek',\n",
       " 'central bikol',\n",
       " 'pennsylvania german',\n",
       " 'upper sorbian',\n",
       " 'sranan',\n",
       " 'georgian',\n",
       " 'tagalog',\n",
       " 'norwegian nynorsk',\n",
       " 'galician',\n",
       " 'romansh',\n",
       " 'kannada',\n",
       " 'cherokee',\n",
       " 'northern luri',\n",
       " 'dhivehi',\n",
       " 'erzya',\n",
       " 'corsican',\n",
       " 'hungarian',\n",
       " 'narom',\n",
       " 'palatine german',\n",
       " 'walloon',\n",
       " 'bhojpuri',\n",
       " 'esperanto',\n",
       " 'german',\n",
       " 'navajo',\n",
       " 'mirandese',\n",
       " 'polish',\n",
       " 'rusyn',\n",
       " 'venetian',\n",
       " 'low german',\n",
       " 'aymara',\n",
       " 'tajik',\n",
       " 'cebuano',\n",
       " 'xhosa',\n",
       " 'bishnupriya',\n",
       " 'modern greek',\n",
       " 'ligurian',\n",
       " 'hausa',\n",
       " 'macedonian',\n",
       " 'luxembourgish']"
      ]
     },
     "execution_count": 25,
     "metadata": {},
     "output_type": "execute_result"
    }
   ],
   "source": [
    "languages = full_df['language'].apply(lambda x: str.lower(x)).unique().tolist()\n",
    "\n",
    "languages"
   ]
  },
  {
   "cell_type": "markdown",
   "metadata": {},
   "source": [
    "### List of languages supported by `nltk`\n",
    "\n",
    "**NOTE:** In order for this to work on your device, it is necessary to find the location where the stopwords are saved in your system and replace the path in quotes with the correct filepath from your system."
   ]
  },
  {
   "cell_type": "code",
   "execution_count": 26,
   "metadata": {},
   "outputs": [
    {
     "data": {
      "text/plain": [
       "['arabic',\n",
       " 'azerbaijani',\n",
       " 'bengali',\n",
       " 'danish',\n",
       " 'dutch',\n",
       " 'english',\n",
       " 'finnish',\n",
       " 'french',\n",
       " 'german',\n",
       " 'greek',\n",
       " 'hungarian',\n",
       " 'indonesian',\n",
       " 'italian',\n",
       " 'kazakh',\n",
       " 'nepali',\n",
       " 'norwegian',\n",
       " 'portuguese',\n",
       " 'README',\n",
       " 'romanian',\n",
       " 'russian',\n",
       " 'slovene',\n",
       " 'spanish',\n",
       " 'swedish',\n",
       " 'tajik',\n",
       " 'turkish']"
      ]
     },
     "execution_count": 26,
     "metadata": {},
     "output_type": "execute_result"
    }
   ],
   "source": [
    "# # Windows\n",
    "supported_languages = os.listdir(\"C:\\\\users\\\\johng\\\\appdata\\\\roaming\\\\nltk_data\\\\corpora\\\\stopwords\")\n",
    "\n",
    "# Mac OS\n",
    "# supported_languages = os.listdir('/Users/johngonzalez/nltk_data/corpora/stopwords')\n",
    "\n",
    "supported_languages"
   ]
  },
  {
   "cell_type": "markdown",
   "metadata": {},
   "source": [
    "### Intersection between the two lists"
   ]
  },
  {
   "cell_type": "code",
   "execution_count": 27,
   "metadata": {},
   "outputs": [
    {
     "data": {
      "text/plain": [
       "['Slovene',\n",
       " 'Danish',\n",
       " 'Russian',\n",
       " 'Dutch',\n",
       " 'Spanish',\n",
       " 'Portuguese',\n",
       " 'Kazakh',\n",
       " 'Bengali',\n",
       " 'Turkish',\n",
       " 'Azerbaijani',\n",
       " 'Arabic',\n",
       " 'Romanian',\n",
       " 'French',\n",
       " 'Tajik',\n",
       " 'Finnish',\n",
       " 'Swedish',\n",
       " 'Indonesian',\n",
       " 'Hungarian',\n",
       " 'English',\n",
       " 'German',\n",
       " 'Italian']"
      ]
     },
     "execution_count": 27,
     "metadata": {},
     "output_type": "execute_result"
    }
   ],
   "source": [
    "# Find the intersection between lists\n",
    "final_languages = list(set(languages) & set(supported_languages))\n",
    "final_languages = [lang.capitalize() for lang in final_languages]\n",
    "\n",
    "final_languages"
   ]
  },
  {
   "cell_type": "code",
   "execution_count": 28,
   "metadata": {},
   "outputs": [
    {
     "name": "stdout",
     "output_type": "stream",
     "text": [
      "We will be using 21 languages from the 234 languages in the dataset\n"
     ]
    }
   ],
   "source": [
    "print(f'We will be using {len(final_languages)} languages from the {len(languages)} languages in the dataset')"
   ]
  },
  {
   "cell_type": "markdown",
   "metadata": {},
   "source": [
    "### Keep the rows with the supported languages"
   ]
  },
  {
   "cell_type": "code",
   "execution_count": 29,
   "metadata": {},
   "outputs": [],
   "source": [
    "df = full_df[full_df.language.isin(final_languages)]\n",
    "df = df.reset_index(drop=True)"
   ]
  },
  {
   "cell_type": "markdown",
   "metadata": {},
   "source": [
    "# Note\n",
    "I initially completed the project using the 21 languages, however, it included too many languages for the scope of this project. The more languages that were introduced, the less certain the algorithm was of its prediction. \n",
    "\n",
    "For this reason, I have decided to reduce the number of languages to those which I am most familiar with. In the future, I would like to create separate models for each family of languages such as Indo-European languages, Romance languages, Slavic languages, etc."
   ]
  },
  {
   "cell_type": "code",
   "execution_count": 30,
   "metadata": {},
   "outputs": [
    {
     "data": {
      "text/html": [
       "<div>\n",
       "<style scoped>\n",
       "    .dataframe tbody tr th:only-of-type {\n",
       "        vertical-align: middle;\n",
       "    }\n",
       "\n",
       "    .dataframe tbody tr th {\n",
       "        vertical-align: top;\n",
       "    }\n",
       "\n",
       "    .dataframe thead th {\n",
       "        text-align: right;\n",
       "    }\n",
       "</style>\n",
       "<table border=\"1\" class=\"dataframe\">\n",
       "  <thead>\n",
       "    <tr style=\"text-align: right;\">\n",
       "      <th></th>\n",
       "      <th>text</th>\n",
       "      <th>language</th>\n",
       "    </tr>\n",
       "  </thead>\n",
       "  <tbody>\n",
       "    <tr>\n",
       "      <th>0</th>\n",
       "      <td>Sebes, Joseph; Pereira Thomas (1961) (på eng)....</td>\n",
       "      <td>Swedish</td>\n",
       "    </tr>\n",
       "    <tr>\n",
       "      <th>1</th>\n",
       "      <td>Theokritos herdediktning har tjänat som förebi...</td>\n",
       "      <td>Swedish</td>\n",
       "    </tr>\n",
       "    <tr>\n",
       "      <th>2</th>\n",
       "      <td>Gatunätet i Lunds stadskärna är på många ställ...</td>\n",
       "      <td>Swedish</td>\n",
       "    </tr>\n",
       "    <tr>\n",
       "      <th>3</th>\n",
       "      <td>Detta fortskred under första halvan av seklet....</td>\n",
       "      <td>Swedish</td>\n",
       "    </tr>\n",
       "    <tr>\n",
       "      <th>4</th>\n",
       "      <td>Jesper Roine, född 1971, är en svensk national...</td>\n",
       "      <td>Swedish</td>\n",
       "    </tr>\n",
       "  </tbody>\n",
       "</table>\n",
       "</div>"
      ],
      "text/plain": [
       "                                                text language\n",
       "0  Sebes, Joseph; Pereira Thomas (1961) (på eng)....  Swedish\n",
       "1  Theokritos herdediktning har tjänat som förebi...  Swedish\n",
       "2  Gatunätet i Lunds stadskärna är på många ställ...  Swedish\n",
       "3  Detta fortskred under första halvan av seklet....  Swedish\n",
       "4  Jesper Roine, född 1971, är en svensk national...  Swedish"
      ]
     },
     "execution_count": 30,
     "metadata": {},
     "output_type": "execute_result"
    }
   ],
   "source": [
    "language_subset = ['English', 'Spanish', 'Italian', 'French', 'Portuguese', \n",
    "                   'German', 'Indonesian', 'Dutch', 'Swedish', 'Romanian']\n",
    "\n",
    "df = df[df.language.isin(language_subset)]\n",
    "df = df.reset_index(drop=True)\n",
    "\n",
    "df.head()"
   ]
  },
  {
   "cell_type": "code",
   "execution_count": 31,
   "metadata": {},
   "outputs": [
    {
     "data": {
      "text/plain": [
       "Dutch         1000\n",
       "Swedish       1000\n",
       "Spanish       1000\n",
       "German        1000\n",
       "Portuguese    1000\n",
       "French        1000\n",
       "Romanian      1000\n",
       "Indonesian    1000\n",
       "Italian       1000\n",
       "English       1000\n",
       "Name: language, dtype: int64"
      ]
     },
     "execution_count": 31,
     "metadata": {},
     "output_type": "execute_result"
    }
   ],
   "source": [
    "df.language.value_counts()"
   ]
  },
  {
   "cell_type": "code",
   "execution_count": 32,
   "metadata": {},
   "outputs": [
    {
     "name": "stdout",
     "output_type": "stream",
     "text": [
      "There are a total of 10000 data points left.\n"
     ]
    }
   ],
   "source": [
    "print(f'There are a total of {sum(df.language.value_counts())} data points left.')"
   ]
  },
  {
   "cell_type": "markdown",
   "metadata": {},
   "source": [
    "# Data Cleaning\n",
    "- Remove numbers from the text\n",
    "- Remove special characters from the text\n",
    "- Remove any extra whitespaces from the text"
   ]
  },
  {
   "cell_type": "code",
   "execution_count": 33,
   "metadata": {},
   "outputs": [],
   "source": [
    "def preprocess(text):\n",
    "    text = ''.join([char for char in text if not char.isdigit()])\n",
    "    text = re.sub(\"[\\[\\[\\]\\]\\(\\)?¿—\\\"\\\"«»,.;–:!]\", \"\", text)  # Remove special characters\n",
    "    text = text.replace('\\u200b', '')\n",
    "    text = re.sub(\"-\", \" \", text)  # Replace '-' with a space\n",
    "    text = re.sub(\"'\", \" \", text)  # Replace \" ' \" with a space\n",
    "    text = \" \".join(text.split())  # Remove any extra spaces\n",
    "    text = text.lower()\n",
    "    \n",
    "    return text"
   ]
  },
  {
   "cell_type": "code",
   "execution_count": 34,
   "metadata": {},
   "outputs": [
    {
     "data": {
      "text/html": [
       "<div>\n",
       "<style scoped>\n",
       "    .dataframe tbody tr th:only-of-type {\n",
       "        vertical-align: middle;\n",
       "    }\n",
       "\n",
       "    .dataframe tbody tr th {\n",
       "        vertical-align: top;\n",
       "    }\n",
       "\n",
       "    .dataframe thead th {\n",
       "        text-align: right;\n",
       "    }\n",
       "</style>\n",
       "<table border=\"1\" class=\"dataframe\">\n",
       "  <thead>\n",
       "    <tr style=\"text-align: right;\">\n",
       "      <th></th>\n",
       "      <th>text</th>\n",
       "      <th>language</th>\n",
       "      <th>cleaned_text</th>\n",
       "    </tr>\n",
       "  </thead>\n",
       "  <tbody>\n",
       "    <tr>\n",
       "      <th>0</th>\n",
       "      <td>Sebes, Joseph; Pereira Thomas (1961) (på eng)....</td>\n",
       "      <td>Swedish</td>\n",
       "      <td>sebes joseph pereira thomas på eng the jesuits...</td>\n",
       "    </tr>\n",
       "    <tr>\n",
       "      <th>1</th>\n",
       "      <td>Theokritos herdediktning har tjänat som förebi...</td>\n",
       "      <td>Swedish</td>\n",
       "      <td>theokritos herdediktning har tjänat som förebi...</td>\n",
       "    </tr>\n",
       "    <tr>\n",
       "      <th>2</th>\n",
       "      <td>Gatunätet i Lunds stadskärna är på många ställ...</td>\n",
       "      <td>Swedish</td>\n",
       "      <td>gatunätet i lunds stadskärna är på många ställ...</td>\n",
       "    </tr>\n",
       "    <tr>\n",
       "      <th>3</th>\n",
       "      <td>Detta fortskred under första halvan av seklet....</td>\n",
       "      <td>Swedish</td>\n",
       "      <td>detta fortskred under första halvan av seklet ...</td>\n",
       "    </tr>\n",
       "    <tr>\n",
       "      <th>4</th>\n",
       "      <td>Jesper Roine, född 1971, är en svensk national...</td>\n",
       "      <td>Swedish</td>\n",
       "      <td>jesper roine född är en svensk nationalekonom ...</td>\n",
       "    </tr>\n",
       "  </tbody>\n",
       "</table>\n",
       "</div>"
      ],
      "text/plain": [
       "                                                text language  \\\n",
       "0  Sebes, Joseph; Pereira Thomas (1961) (på eng)....  Swedish   \n",
       "1  Theokritos herdediktning har tjänat som förebi...  Swedish   \n",
       "2  Gatunätet i Lunds stadskärna är på många ställ...  Swedish   \n",
       "3  Detta fortskred under första halvan av seklet....  Swedish   \n",
       "4  Jesper Roine, född 1971, är en svensk national...  Swedish   \n",
       "\n",
       "                                        cleaned_text  \n",
       "0  sebes joseph pereira thomas på eng the jesuits...  \n",
       "1  theokritos herdediktning har tjänat som förebi...  \n",
       "2  gatunätet i lunds stadskärna är på många ställ...  \n",
       "3  detta fortskred under första halvan av seklet ...  \n",
       "4  jesper roine född är en svensk nationalekonom ...  "
      ]
     },
     "execution_count": 34,
     "metadata": {},
     "output_type": "execute_result"
    }
   ],
   "source": [
    "df['cleaned_text'] = df['text'].apply(lambda x: preprocess(x))\n",
    "\n",
    "df.head()"
   ]
  },
  {
   "cell_type": "markdown",
   "metadata": {},
   "source": [
    "# Save the DataFrame\n",
    "Save the DataFrame as a CSV file and a pickle object"
   ]
  },
  {
   "cell_type": "code",
   "execution_count": 35,
   "metadata": {},
   "outputs": [],
   "source": [
    "# CSV\n",
    "df.to_csv(\"./saved-items/cleaned_df.csv\", index=False)\n",
    "\n",
    "# Pickle object\n",
    "df.to_pickle(\"./saved-items/cleaned_df.pkl\")"
   ]
  }
 ],
 "metadata": {
  "kernelspec": {
   "display_name": "Python 3",
   "language": "python",
   "name": "python3"
  },
  "language_info": {
   "codemirror_mode": {
    "name": "ipython",
    "version": 3
   },
   "file_extension": ".py",
   "mimetype": "text/x-python",
   "name": "python",
   "nbconvert_exporter": "python",
   "pygments_lexer": "ipython3",
   "version": "3.7.0"
  }
 },
 "nbformat": 4,
 "nbformat_minor": 2
}
