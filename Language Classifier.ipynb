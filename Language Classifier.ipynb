{
 "cells": [
  {
   "cell_type": "markdown",
   "metadata": {},
   "source": [
    "# Classify the language given an input\n",
    "\n",
    "Link to [dataset](https://www.kaggle.com/zarajamshaid/language-identification-datasst)\n",
    "\n",
    "The dataset contains 1,000 rows for 22 languages (22,000 data points in total)"
   ]
  },
  {
   "cell_type": "code",
   "execution_count": 1,
   "metadata": {},
   "outputs": [],
   "source": [
    "import pandas as pd\n",
    "from sklearn.model_selection import train_test_split\n",
    "from sklearn.feature_extraction.text import CountVectorizer\n",
    "import scipy.sparse\n",
    "import nltk\n",
    "from nltk.corpus import stopwords\n",
    "import os\n",
    "\n",
    "from matplotlib import pyplot as plt\n",
    "from sklearn.model_selection import cross_val_predict\n",
    "from sklearn.metrics import confusion_matrix, f1_score\n",
    "import streamlit\n",
    "import pickle\n",
    "\n",
    "from sklearn.naive_bayes import MultinomialNB\n",
    "from sklearn.linear_model import LogisticRegression\n",
    "from sklearn.pipeline import Pipeline"
   ]
  },
  {
   "cell_type": "markdown",
   "metadata": {},
   "source": [
    "If this is your first time using the `nltk` library, uncomment the following cell to download the necessary modules."
   ]
  },
  {
   "cell_type": "code",
   "execution_count": 2,
   "metadata": {
    "scrolled": true
   },
   "outputs": [],
   "source": [
    "# nltk.download()"
   ]
  },
  {
   "cell_type": "code",
   "execution_count": 3,
   "metadata": {},
   "outputs": [
    {
     "data": {
      "text/html": [
       "<div>\n",
       "<style scoped>\n",
       "    .dataframe tbody tr th:only-of-type {\n",
       "        vertical-align: middle;\n",
       "    }\n",
       "\n",
       "    .dataframe tbody tr th {\n",
       "        vertical-align: top;\n",
       "    }\n",
       "\n",
       "    .dataframe thead th {\n",
       "        text-align: right;\n",
       "    }\n",
       "</style>\n",
       "<table border=\"1\" class=\"dataframe\">\n",
       "  <thead>\n",
       "    <tr style=\"text-align: right;\">\n",
       "      <th></th>\n",
       "      <th>Text</th>\n",
       "      <th>language</th>\n",
       "    </tr>\n",
       "  </thead>\n",
       "  <tbody>\n",
       "    <tr>\n",
       "      <th>0</th>\n",
       "      <td>klement gottwaldi surnukeha palsameeriti ning ...</td>\n",
       "      <td>Estonian</td>\n",
       "    </tr>\n",
       "    <tr>\n",
       "      <th>1</th>\n",
       "      <td>sebes joseph pereira thomas  på eng the jesuit...</td>\n",
       "      <td>Swedish</td>\n",
       "    </tr>\n",
       "    <tr>\n",
       "      <th>2</th>\n",
       "      <td>ถนนเจริญกรุง อักษรโรมัน thanon charoen krung เ...</td>\n",
       "      <td>Thai</td>\n",
       "    </tr>\n",
       "    <tr>\n",
       "      <th>3</th>\n",
       "      <td>விசாகப்பட்டினம் தமிழ்ச்சங்கத்தை இந்துப் பத்திர...</td>\n",
       "      <td>Tamil</td>\n",
       "    </tr>\n",
       "    <tr>\n",
       "      <th>4</th>\n",
       "      <td>de spons behoort tot het geslacht haliclona en...</td>\n",
       "      <td>Dutch</td>\n",
       "    </tr>\n",
       "  </tbody>\n",
       "</table>\n",
       "</div>"
      ],
      "text/plain": [
       "                                                Text  language\n",
       "0  klement gottwaldi surnukeha palsameeriti ning ...  Estonian\n",
       "1  sebes joseph pereira thomas  på eng the jesuit...   Swedish\n",
       "2  ถนนเจริญกรุง อักษรโรมัน thanon charoen krung เ...      Thai\n",
       "3  விசாகப்பட்டினம் தமிழ்ச்சங்கத்தை இந்துப் பத்திர...     Tamil\n",
       "4  de spons behoort tot het geslacht haliclona en...     Dutch"
      ]
     },
     "execution_count": 3,
     "metadata": {},
     "output_type": "execute_result"
    }
   ],
   "source": [
    "df = pd.read_csv(\"dataset.csv\")\n",
    "\n",
    "df.head()"
   ]
  },
  {
   "cell_type": "markdown",
   "metadata": {},
   "source": [
    "## Explore the dataset"
   ]
  },
  {
   "cell_type": "code",
   "execution_count": 4,
   "metadata": {},
   "outputs": [],
   "source": [
    "# df[df['language'] == 'English'].head()"
   ]
  },
  {
   "cell_type": "code",
   "execution_count": 5,
   "metadata": {},
   "outputs": [],
   "source": [
    "# df[df['language'] == 'English']['Text'][76]"
   ]
  },
  {
   "cell_type": "markdown",
   "metadata": {},
   "source": [
    "### Tokenize the text"
   ]
  },
  {
   "cell_type": "code",
   "execution_count": 6,
   "metadata": {},
   "outputs": [],
   "source": [
    "# https://stackoverflow.com/a/44174565\n",
    "df['tokenized_text'] = df['Text'].apply(lambda x: nltk.word_tokenize(x)) "
   ]
  },
  {
   "cell_type": "code",
   "execution_count": 7,
   "metadata": {},
   "outputs": [
    {
     "data": {
      "text/html": [
       "<div>\n",
       "<style scoped>\n",
       "    .dataframe tbody tr th:only-of-type {\n",
       "        vertical-align: middle;\n",
       "    }\n",
       "\n",
       "    .dataframe tbody tr th {\n",
       "        vertical-align: top;\n",
       "    }\n",
       "\n",
       "    .dataframe thead th {\n",
       "        text-align: right;\n",
       "    }\n",
       "</style>\n",
       "<table border=\"1\" class=\"dataframe\">\n",
       "  <thead>\n",
       "    <tr style=\"text-align: right;\">\n",
       "      <th></th>\n",
       "      <th>Text</th>\n",
       "      <th>language</th>\n",
       "      <th>tokenized_text</th>\n",
       "    </tr>\n",
       "  </thead>\n",
       "  <tbody>\n",
       "    <tr>\n",
       "      <th>0</th>\n",
       "      <td>klement gottwaldi surnukeha palsameeriti ning ...</td>\n",
       "      <td>Estonian</td>\n",
       "      <td>[klement, gottwaldi, surnukeha, palsameeriti, ...</td>\n",
       "    </tr>\n",
       "    <tr>\n",
       "      <th>1</th>\n",
       "      <td>sebes joseph pereira thomas  på eng the jesuit...</td>\n",
       "      <td>Swedish</td>\n",
       "      <td>[sebes, joseph, pereira, thomas, på, eng, the,...</td>\n",
       "    </tr>\n",
       "    <tr>\n",
       "      <th>2</th>\n",
       "      <td>ถนนเจริญกรุง อักษรโรมัน thanon charoen krung เ...</td>\n",
       "      <td>Thai</td>\n",
       "      <td>[ถนนเจริญกรุง, อักษรโรมัน, thanon, charoen, kr...</td>\n",
       "    </tr>\n",
       "    <tr>\n",
       "      <th>3</th>\n",
       "      <td>விசாகப்பட்டினம் தமிழ்ச்சங்கத்தை இந்துப் பத்திர...</td>\n",
       "      <td>Tamil</td>\n",
       "      <td>[விசாகப்பட்டினம், தமிழ்ச்சங்கத்தை, இந்துப், பத...</td>\n",
       "    </tr>\n",
       "    <tr>\n",
       "      <th>4</th>\n",
       "      <td>de spons behoort tot het geslacht haliclona en...</td>\n",
       "      <td>Dutch</td>\n",
       "      <td>[de, spons, behoort, tot, het, geslacht, halic...</td>\n",
       "    </tr>\n",
       "  </tbody>\n",
       "</table>\n",
       "</div>"
      ],
      "text/plain": [
       "                                                Text  language  \\\n",
       "0  klement gottwaldi surnukeha palsameeriti ning ...  Estonian   \n",
       "1  sebes joseph pereira thomas  på eng the jesuit...   Swedish   \n",
       "2  ถนนเจริญกรุง อักษรโรมัน thanon charoen krung เ...      Thai   \n",
       "3  விசாகப்பட்டினம் தமிழ்ச்சங்கத்தை இந்துப் பத்திர...     Tamil   \n",
       "4  de spons behoort tot het geslacht haliclona en...     Dutch   \n",
       "\n",
       "                                      tokenized_text  \n",
       "0  [klement, gottwaldi, surnukeha, palsameeriti, ...  \n",
       "1  [sebes, joseph, pereira, thomas, på, eng, the,...  \n",
       "2  [ถนนเจริญกรุง, อักษรโรมัน, thanon, charoen, kr...  \n",
       "3  [விசாகப்பட்டினம், தமிழ்ச்சங்கத்தை, இந்துப், பத...  \n",
       "4  [de, spons, behoort, tot, het, geslacht, halic...  "
      ]
     },
     "execution_count": 7,
     "metadata": {},
     "output_type": "execute_result"
    }
   ],
   "source": [
    "df.head()"
   ]
  },
  {
   "cell_type": "markdown",
   "metadata": {},
   "source": [
    "## Split up into training and testing set"
   ]
  },
  {
   "cell_type": "markdown",
   "metadata": {},
   "source": [
    "## *Issue*\n",
    "- `nltk.word_tokenize` currently only supports English. This is not a very important issue since most of the langauges have spaces, so they're still tokenized somewhat correctly.\n",
    "- Languages that do not use spaces (such as Chinese and Japanese) are greatly affected by this.\n",
    "\n",
    "### Potential Solutions\n",
    "- For Chinese and Japanese, I could find any packages that specialize in these languages\n",
    "- I do not know enough about all these languages to be certain that they're correctly tokenized.\n",
    "    - I could talk with people who have experience with some of these languages to ensure the data is being processed correctly\n",
    "\n",
    "We will see how the algorithms perform, even with this issue."
   ]
  },
  {
   "cell_type": "markdown",
   "metadata": {},
   "source": [
    "## I will not be including the languages that nltk do not support\n",
    "I may come back to this at a later time to find packages that support the remaining languages."
   ]
  },
  {
   "cell_type": "code",
   "execution_count": 8,
   "metadata": {},
   "outputs": [],
   "source": [
    "df['Language'] = df.language\n",
    "df['language'] = df['Language'].apply(lambda x: str.lower(x))"
   ]
  },
  {
   "cell_type": "markdown",
   "metadata": {},
   "source": [
    "### List of languages in the dataset"
   ]
  },
  {
   "cell_type": "code",
   "execution_count": 9,
   "metadata": {},
   "outputs": [
    {
     "data": {
      "text/plain": [
       "['estonian',\n",
       " 'swedish',\n",
       " 'thai',\n",
       " 'tamil',\n",
       " 'dutch',\n",
       " 'japanese',\n",
       " 'turkish',\n",
       " 'latin',\n",
       " 'urdu',\n",
       " 'indonesian',\n",
       " 'portugese',\n",
       " 'french',\n",
       " 'chinese',\n",
       " 'korean',\n",
       " 'hindi',\n",
       " 'spanish',\n",
       " 'pushto',\n",
       " 'persian',\n",
       " 'romanian',\n",
       " 'russian',\n",
       " 'english',\n",
       " 'arabic']"
      ]
     },
     "execution_count": 9,
     "metadata": {},
     "output_type": "execute_result"
    }
   ],
   "source": [
    "languages = list(df.language.unique())\n",
    "\n",
    "languages"
   ]
  },
  {
   "cell_type": "markdown",
   "metadata": {},
   "source": [
    "### List of languages supported by `nltk`"
   ]
  },
  {
   "cell_type": "code",
   "execution_count": 10,
   "metadata": {},
   "outputs": [
    {
     "data": {
      "text/plain": [
       "['arabic',\n",
       " 'azerbaijani',\n",
       " 'danish',\n",
       " 'dutch',\n",
       " 'english',\n",
       " 'finnish',\n",
       " 'french',\n",
       " 'german',\n",
       " 'greek',\n",
       " 'hungarian',\n",
       " 'indonesian',\n",
       " 'italian',\n",
       " 'kazakh',\n",
       " 'nepali',\n",
       " 'norwegian',\n",
       " 'portuguese',\n",
       " 'README',\n",
       " 'romanian',\n",
       " 'russian',\n",
       " 'slovene',\n",
       " 'spanish',\n",
       " 'swedish',\n",
       " 'tajik',\n",
       " 'turkish']"
      ]
     },
     "execution_count": 10,
     "metadata": {},
     "output_type": "execute_result"
    }
   ],
   "source": [
    "supported_languages = os.listdir(\"C:\\\\users\\\\johng\\\\appdata\\\\roaming\\\\nltk_data\\\\corpora\\\\stopwords\")\n",
    "\n",
    "supported_languages"
   ]
  },
  {
   "cell_type": "markdown",
   "metadata": {},
   "source": [
    "### Intersection between the two lists"
   ]
  },
  {
   "cell_type": "code",
   "execution_count": 11,
   "metadata": {},
   "outputs": [
    {
     "data": {
      "text/plain": [
       "['dutch',\n",
       " 'english',\n",
       " 'indonesian',\n",
       " 'russian',\n",
       " 'romanian',\n",
       " 'french',\n",
       " 'spanish',\n",
       " 'arabic',\n",
       " 'swedish',\n",
       " 'turkish']"
      ]
     },
     "execution_count": 11,
     "metadata": {},
     "output_type": "execute_result"
    }
   ],
   "source": [
    "# Find the intersection between lists\n",
    "final_languages = list(set(languages) & set(supported_languages))\n",
    "\n",
    "final_languages"
   ]
  },
  {
   "cell_type": "code",
   "execution_count": 12,
   "metadata": {},
   "outputs": [
    {
     "name": "stdout",
     "output_type": "stream",
     "text": [
      "We will be using 10 languages from the 22 languages in the dataset\n"
     ]
    }
   ],
   "source": [
    "print(f'We will be using {len(final_languages)} languages from the {len(languages)} languages in the dataset')"
   ]
  },
  {
   "cell_type": "markdown",
   "metadata": {},
   "source": [
    "### Keep the rows that have the supported languages"
   ]
  },
  {
   "cell_type": "code",
   "execution_count": 13,
   "metadata": {},
   "outputs": [],
   "source": [
    "df = df[df.language.isin(final_languages)]\n",
    "df = df.reset_index(drop=True)"
   ]
  },
  {
   "cell_type": "code",
   "execution_count": 14,
   "metadata": {},
   "outputs": [
    {
     "data": {
      "text/html": [
       "<div>\n",
       "<style scoped>\n",
       "    .dataframe tbody tr th:only-of-type {\n",
       "        vertical-align: middle;\n",
       "    }\n",
       "\n",
       "    .dataframe tbody tr th {\n",
       "        vertical-align: top;\n",
       "    }\n",
       "\n",
       "    .dataframe thead th {\n",
       "        text-align: right;\n",
       "    }\n",
       "</style>\n",
       "<table border=\"1\" class=\"dataframe\">\n",
       "  <thead>\n",
       "    <tr style=\"text-align: right;\">\n",
       "      <th></th>\n",
       "      <th>Text</th>\n",
       "      <th>language</th>\n",
       "      <th>tokenized_text</th>\n",
       "      <th>Language</th>\n",
       "    </tr>\n",
       "  </thead>\n",
       "  <tbody>\n",
       "    <tr>\n",
       "      <th>0</th>\n",
       "      <td>sebes joseph pereira thomas  på eng the jesuit...</td>\n",
       "      <td>swedish</td>\n",
       "      <td>[sebes, joseph, pereira, thomas, på, eng, the,...</td>\n",
       "      <td>Swedish</td>\n",
       "    </tr>\n",
       "    <tr>\n",
       "      <th>1</th>\n",
       "      <td>de spons behoort tot het geslacht haliclona en...</td>\n",
       "      <td>dutch</td>\n",
       "      <td>[de, spons, behoort, tot, het, geslacht, halic...</td>\n",
       "      <td>Dutch</td>\n",
       "    </tr>\n",
       "    <tr>\n",
       "      <th>2</th>\n",
       "      <td>tsutinalar i̇ngilizce tsuutina kanadada albert...</td>\n",
       "      <td>turkish</td>\n",
       "      <td>[tsutinalar, i̇ngilizce, tsuutina, kanadada, a...</td>\n",
       "      <td>Turkish</td>\n",
       "    </tr>\n",
       "    <tr>\n",
       "      <th>3</th>\n",
       "      <td>kemunculan pertamanya adalah ketika mencium ka...</td>\n",
       "      <td>indonesian</td>\n",
       "      <td>[kemunculan, pertamanya, adalah, ketika, menci...</td>\n",
       "      <td>Indonesian</td>\n",
       "    </tr>\n",
       "    <tr>\n",
       "      <th>4</th>\n",
       "      <td>association de recherche et de sauvegarde de l...</td>\n",
       "      <td>french</td>\n",
       "      <td>[association, de, recherche, et, de, sauvegard...</td>\n",
       "      <td>French</td>\n",
       "    </tr>\n",
       "  </tbody>\n",
       "</table>\n",
       "</div>"
      ],
      "text/plain": [
       "                                                Text    language  \\\n",
       "0  sebes joseph pereira thomas  på eng the jesuit...     swedish   \n",
       "1  de spons behoort tot het geslacht haliclona en...       dutch   \n",
       "2  tsutinalar i̇ngilizce tsuutina kanadada albert...     turkish   \n",
       "3  kemunculan pertamanya adalah ketika mencium ka...  indonesian   \n",
       "4  association de recherche et de sauvegarde de l...      french   \n",
       "\n",
       "                                      tokenized_text    Language  \n",
       "0  [sebes, joseph, pereira, thomas, på, eng, the,...     Swedish  \n",
       "1  [de, spons, behoort, tot, het, geslacht, halic...       Dutch  \n",
       "2  [tsutinalar, i̇ngilizce, tsuutina, kanadada, a...     Turkish  \n",
       "3  [kemunculan, pertamanya, adalah, ketika, menci...  Indonesian  \n",
       "4  [association, de, recherche, et, de, sauvegard...      French  "
      ]
     },
     "execution_count": 14,
     "metadata": {},
     "output_type": "execute_result"
    }
   ],
   "source": [
    "df.head()"
   ]
  },
  {
   "cell_type": "markdown",
   "metadata": {},
   "source": [
    "## Remove stopwords from tokenized text"
   ]
  },
  {
   "cell_type": "code",
   "execution_count": 15,
   "metadata": {},
   "outputs": [],
   "source": [
    "# df['tokenized_text'].apply(lambda x: [word for word in x if word not in stopwords.words('english')])"
   ]
  },
  {
   "cell_type": "markdown",
   "metadata": {},
   "source": [
    "# BRUTE FORCE WAY\n",
    "There is a more efficient way to do this, but I can't figure it out right now.\n",
    "\n",
    "I tried:\n",
    "- lambda function to iterate through each row and drop the stopwords depending on the language\n",
    "\n",
    "Brute force is to just do a for-loop, save it to a list, and create a new column with that list. It may not take that long, but it would be better to figure out more efficient methods."
   ]
  },
  {
   "cell_type": "code",
   "execution_count": 16,
   "metadata": {},
   "outputs": [
    {
     "data": {
      "text/html": [
       "<div>\n",
       "<style scoped>\n",
       "    .dataframe tbody tr th:only-of-type {\n",
       "        vertical-align: middle;\n",
       "    }\n",
       "\n",
       "    .dataframe tbody tr th {\n",
       "        vertical-align: top;\n",
       "    }\n",
       "\n",
       "    .dataframe thead th {\n",
       "        text-align: right;\n",
       "    }\n",
       "</style>\n",
       "<table border=\"1\" class=\"dataframe\">\n",
       "  <thead>\n",
       "    <tr style=\"text-align: right;\">\n",
       "      <th></th>\n",
       "      <th>Text</th>\n",
       "      <th>language</th>\n",
       "      <th>tokenized_text</th>\n",
       "      <th>Language</th>\n",
       "    </tr>\n",
       "  </thead>\n",
       "  <tbody>\n",
       "    <tr>\n",
       "      <th>0</th>\n",
       "      <td>sebes joseph pereira thomas  på eng the jesuit...</td>\n",
       "      <td>swedish</td>\n",
       "      <td>[sebes, joseph, pereira, thomas, på, eng, the,...</td>\n",
       "      <td>Swedish</td>\n",
       "    </tr>\n",
       "    <tr>\n",
       "      <th>1</th>\n",
       "      <td>de spons behoort tot het geslacht haliclona en...</td>\n",
       "      <td>dutch</td>\n",
       "      <td>[de, spons, behoort, tot, het, geslacht, halic...</td>\n",
       "      <td>Dutch</td>\n",
       "    </tr>\n",
       "    <tr>\n",
       "      <th>2</th>\n",
       "      <td>tsutinalar i̇ngilizce tsuutina kanadada albert...</td>\n",
       "      <td>turkish</td>\n",
       "      <td>[tsutinalar, i̇ngilizce, tsuutina, kanadada, a...</td>\n",
       "      <td>Turkish</td>\n",
       "    </tr>\n",
       "    <tr>\n",
       "      <th>3</th>\n",
       "      <td>kemunculan pertamanya adalah ketika mencium ka...</td>\n",
       "      <td>indonesian</td>\n",
       "      <td>[kemunculan, pertamanya, adalah, ketika, menci...</td>\n",
       "      <td>Indonesian</td>\n",
       "    </tr>\n",
       "    <tr>\n",
       "      <th>4</th>\n",
       "      <td>association de recherche et de sauvegarde de l...</td>\n",
       "      <td>french</td>\n",
       "      <td>[association, de, recherche, et, de, sauvegard...</td>\n",
       "      <td>French</td>\n",
       "    </tr>\n",
       "  </tbody>\n",
       "</table>\n",
       "</div>"
      ],
      "text/plain": [
       "                                                Text    language  \\\n",
       "0  sebes joseph pereira thomas  på eng the jesuit...     swedish   \n",
       "1  de spons behoort tot het geslacht haliclona en...       dutch   \n",
       "2  tsutinalar i̇ngilizce tsuutina kanadada albert...     turkish   \n",
       "3  kemunculan pertamanya adalah ketika mencium ka...  indonesian   \n",
       "4  association de recherche et de sauvegarde de l...      french   \n",
       "\n",
       "                                      tokenized_text    Language  \n",
       "0  [sebes, joseph, pereira, thomas, på, eng, the,...     Swedish  \n",
       "1  [de, spons, behoort, tot, het, geslacht, halic...       Dutch  \n",
       "2  [tsutinalar, i̇ngilizce, tsuutina, kanadada, a...     Turkish  \n",
       "3  [kemunculan, pertamanya, adalah, ketika, menci...  Indonesian  \n",
       "4  [association, de, recherche, et, de, sauvegard...      French  "
      ]
     },
     "execution_count": 16,
     "metadata": {},
     "output_type": "execute_result"
    }
   ],
   "source": [
    "df.head()"
   ]
  },
  {
   "cell_type": "code",
   "execution_count": 17,
   "metadata": {},
   "outputs": [],
   "source": [
    "# Create empty column\n",
    "df['token'] = 0"
   ]
  },
  {
   "cell_type": "code",
   "execution_count": 18,
   "metadata": {},
   "outputs": [],
   "source": [
    "def drop_stop(df):\n",
    "    # Create empty column\n",
    "    df['token'] = 0\n",
    "\n",
    "    dropped = []\n",
    "\n",
    "    # Drop any stopwords in the language\n",
    "    for row, col in df.iterrows():\n",
    "        text = col['tokenized_text']\n",
    "        language = col['language']\n",
    "        dropped.append([word for word in text if word not in stopwords.words(language)])\n",
    "\n",
    "    # Add text without stopwords to new column\n",
    "    df['token'] = dropped"
   ]
  },
  {
   "cell_type": "code",
   "execution_count": 19,
   "metadata": {},
   "outputs": [],
   "source": [
    "# Create empty column\n",
    "df['token'] = 0\n",
    "\n",
    "dropped = []\n",
    "\n",
    "# Drop any stopwords in the language\n",
    "for row, col in df.iterrows():\n",
    "    text = col['tokenized_text']\n",
    "    language = col['language']\n",
    "    dropped.append([word for word in text if word not in stopwords.words(language)])\n",
    "\n",
    "# Add text without stopwords to new column\n",
    "df['token'] = dropped"
   ]
  },
  {
   "cell_type": "markdown",
   "metadata": {},
   "source": [
    "### \"Un-tokenize\" the text to pass it through the pipeline"
   ]
  },
  {
   "cell_type": "code",
   "execution_count": 20,
   "metadata": {},
   "outputs": [
    {
     "data": {
      "text/html": [
       "<div>\n",
       "<style scoped>\n",
       "    .dataframe tbody tr th:only-of-type {\n",
       "        vertical-align: middle;\n",
       "    }\n",
       "\n",
       "    .dataframe tbody tr th {\n",
       "        vertical-align: top;\n",
       "    }\n",
       "\n",
       "    .dataframe thead th {\n",
       "        text-align: right;\n",
       "    }\n",
       "</style>\n",
       "<table border=\"1\" class=\"dataframe\">\n",
       "  <thead>\n",
       "    <tr style=\"text-align: right;\">\n",
       "      <th></th>\n",
       "      <th>Text</th>\n",
       "      <th>language</th>\n",
       "      <th>tokenized_text</th>\n",
       "      <th>Language</th>\n",
       "      <th>token</th>\n",
       "      <th>clean_text</th>\n",
       "    </tr>\n",
       "  </thead>\n",
       "  <tbody>\n",
       "    <tr>\n",
       "      <th>0</th>\n",
       "      <td>sebes joseph pereira thomas  på eng the jesuit...</td>\n",
       "      <td>swedish</td>\n",
       "      <td>[sebes, joseph, pereira, thomas, på, eng, the,...</td>\n",
       "      <td>Swedish</td>\n",
       "      <td>[sebes, joseph, pereira, thomas, eng, the, jes...</td>\n",
       "      <td>sebes joseph pereira thomas eng the jesuits an...</td>\n",
       "    </tr>\n",
       "    <tr>\n",
       "      <th>1</th>\n",
       "      <td>de spons behoort tot het geslacht haliclona en...</td>\n",
       "      <td>dutch</td>\n",
       "      <td>[de, spons, behoort, tot, het, geslacht, halic...</td>\n",
       "      <td>Dutch</td>\n",
       "      <td>[spons, behoort, geslacht, haliclona, behoort,...</td>\n",
       "      <td>spons behoort geslacht haliclona behoort famil...</td>\n",
       "    </tr>\n",
       "    <tr>\n",
       "      <th>2</th>\n",
       "      <td>tsutinalar i̇ngilizce tsuutina kanadada albert...</td>\n",
       "      <td>turkish</td>\n",
       "      <td>[tsutinalar, i̇ngilizce, tsuutina, kanadada, a...</td>\n",
       "      <td>Turkish</td>\n",
       "      <td>[tsutinalar, i̇ngilizce, tsuutina, kanadada, a...</td>\n",
       "      <td>tsutinalar i̇ngilizce tsuutina kanadada albert...</td>\n",
       "    </tr>\n",
       "    <tr>\n",
       "      <th>3</th>\n",
       "      <td>kemunculan pertamanya adalah ketika mencium ka...</td>\n",
       "      <td>indonesian</td>\n",
       "      <td>[kemunculan, pertamanya, adalah, ketika, menci...</td>\n",
       "      <td>Indonesian</td>\n",
       "      <td>[kemunculan, pertamanya, mencium, kakak, kelas...</td>\n",
       "      <td>kemunculan pertamanya mencium kakak kelasnya k...</td>\n",
       "    </tr>\n",
       "    <tr>\n",
       "      <th>4</th>\n",
       "      <td>association de recherche et de sauvegarde de l...</td>\n",
       "      <td>french</td>\n",
       "      <td>[association, de, recherche, et, de, sauvegard...</td>\n",
       "      <td>French</td>\n",
       "      <td>[association, recherche, sauvegarde, lhistoire...</td>\n",
       "      <td>association recherche sauvegarde lhistoire roi...</td>\n",
       "    </tr>\n",
       "  </tbody>\n",
       "</table>\n",
       "</div>"
      ],
      "text/plain": [
       "                                                Text    language  \\\n",
       "0  sebes joseph pereira thomas  på eng the jesuit...     swedish   \n",
       "1  de spons behoort tot het geslacht haliclona en...       dutch   \n",
       "2  tsutinalar i̇ngilizce tsuutina kanadada albert...     turkish   \n",
       "3  kemunculan pertamanya adalah ketika mencium ka...  indonesian   \n",
       "4  association de recherche et de sauvegarde de l...      french   \n",
       "\n",
       "                                      tokenized_text    Language  \\\n",
       "0  [sebes, joseph, pereira, thomas, på, eng, the,...     Swedish   \n",
       "1  [de, spons, behoort, tot, het, geslacht, halic...       Dutch   \n",
       "2  [tsutinalar, i̇ngilizce, tsuutina, kanadada, a...     Turkish   \n",
       "3  [kemunculan, pertamanya, adalah, ketika, menci...  Indonesian   \n",
       "4  [association, de, recherche, et, de, sauvegard...      French   \n",
       "\n",
       "                                               token  \\\n",
       "0  [sebes, joseph, pereira, thomas, eng, the, jes...   \n",
       "1  [spons, behoort, geslacht, haliclona, behoort,...   \n",
       "2  [tsutinalar, i̇ngilizce, tsuutina, kanadada, a...   \n",
       "3  [kemunculan, pertamanya, mencium, kakak, kelas...   \n",
       "4  [association, recherche, sauvegarde, lhistoire...   \n",
       "\n",
       "                                          clean_text  \n",
       "0  sebes joseph pereira thomas eng the jesuits an...  \n",
       "1  spons behoort geslacht haliclona behoort famil...  \n",
       "2  tsutinalar i̇ngilizce tsuutina kanadada albert...  \n",
       "3  kemunculan pertamanya mencium kakak kelasnya k...  \n",
       "4  association recherche sauvegarde lhistoire roi...  "
      ]
     },
     "execution_count": 20,
     "metadata": {},
     "output_type": "execute_result"
    }
   ],
   "source": [
    "df['clean_text'] = df.token.apply(lambda x: \" \".join(x))\n",
    "\n",
    "df.head()"
   ]
  },
  {
   "cell_type": "code",
   "execution_count": null,
   "metadata": {},
   "outputs": [],
   "source": []
  },
  {
   "cell_type": "code",
   "execution_count": null,
   "metadata": {},
   "outputs": [],
   "source": []
  },
  {
   "cell_type": "markdown",
   "metadata": {},
   "source": [
    "## Training and Testing Data"
   ]
  },
  {
   "cell_type": "code",
   "execution_count": 21,
   "metadata": {},
   "outputs": [],
   "source": [
    "X_train, X_test, y_train, y_test = train_test_split(\n",
    "    df.clean_text, df.Language, test_size=0.15, random_state=42, \n",
    "    shuffle=True, stratify=df.Language\n",
    ")"
   ]
  },
  {
   "cell_type": "code",
   "execution_count": 22,
   "metadata": {},
   "outputs": [
    {
     "data": {
      "text/plain": [
       "2616    the hidden wiki herkesin anonim olarak düzenle...\n",
       "372     كانت طالبة نيميسيو أنتونيز وكارمين سيلفا وغارس...\n",
       "8013    الاتصالات صممت أجهزة إرسال متعددة ومستقبلات مت...\n",
       "23      сделал понимания деятельности м ломоносова дол...\n",
       "5839    roissy connaît forte hausse population peut se...\n",
       "                              ...                        \n",
       "8795    omgivningarna runt rouaïsset aabdel jalil huvu...\n",
       "3823    хотя сопровождавший loaded сингл « who loves t...\n",
       "6112    незаконченную рукопись « теории электричества ...\n",
       "4546    şehire gittiklerinde zengin bir kadına dönüşüm...\n",
       "1539    “ gizli kutsal ismin tecellisine mazhar olan t...\n",
       "Name: clean_text, Length: 8500, dtype: object"
      ]
     },
     "execution_count": 22,
     "metadata": {},
     "output_type": "execute_result"
    }
   ],
   "source": [
    "X_train"
   ]
  },
  {
   "cell_type": "code",
   "execution_count": 23,
   "metadata": {},
   "outputs": [],
   "source": [
    "# vec = CountVectorizer()\n",
    "# new_X = vec.fit_transform(X_train)"
   ]
  },
  {
   "cell_type": "code",
   "execution_count": 24,
   "metadata": {},
   "outputs": [],
   "source": [
    "# new_X"
   ]
  },
  {
   "cell_type": "code",
   "execution_count": 25,
   "metadata": {},
   "outputs": [],
   "source": [
    "# len(vec.get_feature_names())"
   ]
  },
  {
   "cell_type": "code",
   "execution_count": 26,
   "metadata": {},
   "outputs": [],
   "source": [
    "# dtm = pd.DataFrame.sparse.from_spmatrix(new_X, columns=vec.get_feature_names())"
   ]
  },
  {
   "cell_type": "code",
   "execution_count": 27,
   "metadata": {},
   "outputs": [],
   "source": [
    "# len(y_train)"
   ]
  },
  {
   "cell_type": "markdown",
   "metadata": {},
   "source": [
    "# Naive Bayes Classifier"
   ]
  },
  {
   "cell_type": "markdown",
   "metadata": {},
   "source": [
    "Pipeline that contains `CountVectorizer()` and `MultinomialNB()`"
   ]
  },
  {
   "cell_type": "code",
   "execution_count": 28,
   "metadata": {},
   "outputs": [],
   "source": [
    "text_pipeline = Pipeline([\n",
    "    ('vector', CountVectorizer()),\n",
    "    ('clf', MultinomialNB())\n",
    "])"
   ]
  },
  {
   "cell_type": "code",
   "execution_count": 29,
   "metadata": {},
   "outputs": [
    {
     "data": {
      "text/plain": [
       "Pipeline(steps=[('vector', CountVectorizer()), ('clf', MultinomialNB())])"
      ]
     },
     "execution_count": 29,
     "metadata": {},
     "output_type": "execute_result"
    }
   ],
   "source": [
    "text_pipeline.fit(X_train, y_train)"
   ]
  },
  {
   "cell_type": "markdown",
   "metadata": {},
   "source": [
    "### Score on training data"
   ]
  },
  {
   "cell_type": "code",
   "execution_count": 30,
   "metadata": {},
   "outputs": [
    {
     "data": {
      "text/plain": [
       "array([[846,   0,   1,   2,   0,   0,   0,   0,   1,   0],\n",
       "       [  1, 844,   4,   1,   0,   0,   0,   0,   0,   0],\n",
       "       [  0,   0, 847,   1,   0,   0,   0,   0,   0,   2],\n",
       "       [  0,   1,   3, 843,   0,   1,   0,   2,   0,   0],\n",
       "       [  0,   1,  11,   0, 837,   0,   0,   0,   1,   0],\n",
       "       [  0,   0,   5,   1,   3, 841,   0,   0,   0,   0],\n",
       "       [  0,   0,   3,   1,   2,   0, 842,   1,   1,   0],\n",
       "       [  0,   0,   8,   4,   2,   0,   0, 835,   1,   0],\n",
       "       [  0,   0,   0,   0,   1,   0,   0,   0, 849,   0],\n",
       "       [  0,   0,   6,   0,   2,   0,   0,   1,   0, 841]], dtype=int64)"
      ]
     },
     "execution_count": 30,
     "metadata": {},
     "output_type": "execute_result"
    }
   ],
   "source": [
    "y_train_pred = cross_val_predict(text_pipeline, X_train, y_train, cv=5)\n",
    "\n",
    "confusion_matrix(y_train, y_train_pred)"
   ]
  },
  {
   "cell_type": "code",
   "execution_count": 31,
   "metadata": {},
   "outputs": [
    {
     "data": {
      "image/png": "[encoded data removed]",
      "text/plain": [
       "<Figure size 288x288 with 1 Axes>"
      ]
     },
     "metadata": {
      "needs_background": "light"
     },
     "output_type": "display_data"
    }
   ],
   "source": [
    "conf_mat = confusion_matrix(y_train, y_train_pred)\n",
    "plt.matshow(conf_mat, cmap=plt.cm.gray)\n",
    "plt.show()"
   ]
  },
  {
   "cell_type": "markdown",
   "metadata": {},
   "source": [
    "### Score on testing data"
   ]
  },
  {
   "cell_type": "code",
   "execution_count": 32,
   "metadata": {},
   "outputs": [
    {
     "data": {
      "text/plain": [
       "array([[150,   0,   0,   0,   0,   0,   0,   0,   0,   0],\n",
       "       [  0, 150,   0,   0,   0,   0,   0,   0,   0,   0],\n",
       "       [  0,   0, 150,   0,   0,   0,   0,   0,   0,   0],\n",
       "       [  0,   0,   0, 150,   0,   0,   0,   0,   0,   0],\n",
       "       [  0,   0,   2,   0, 148,   0,   0,   0,   0,   0],\n",
       "       [  0,   0,   0,   0,   0, 150,   0,   0,   0,   0],\n",
       "       [  0,   0,   2,   0,   0,   0, 148,   0,   0,   0],\n",
       "       [  0,   1,   1,   0,   1,   0,   0, 147,   0,   0],\n",
       "       [  0,   0,   0,   0,   0,   0,   0,   0, 150,   0],\n",
       "       [  0,   0,   0,   0,   1,   0,   0,   0,   0, 149]], dtype=int64)"
      ]
     },
     "execution_count": 32,
     "metadata": {},
     "output_type": "execute_result"
    }
   ],
   "source": [
    "y_test_pred = text_pipeline.predict(X_test)\n",
    "\n",
    "confusion_matrix(y_test, y_test_pred)"
   ]
  },
  {
   "cell_type": "code",
   "execution_count": 33,
   "metadata": {},
   "outputs": [
    {
     "data": {
      "image/png": "[encoded data removed]",
      "text/plain": [
       "<Figure size 288x288 with 1 Axes>"
      ]
     },
     "metadata": {
      "needs_background": "light"
     },
     "output_type": "display_data"
    }
   ],
   "source": [
    "conf_mat = confusion_matrix(y_train, y_train_pred)\n",
    "plt.matshow(conf_mat, cmap=plt.cm.gray)\n",
    "plt.show()"
   ]
  },
  {
   "cell_type": "markdown",
   "metadata": {},
   "source": [
    "# Save classifier using pickle"
   ]
  },
  {
   "cell_type": "code",
   "execution_count": 34,
   "metadata": {},
   "outputs": [],
   "source": [
    "# save the model to disk\n",
    "filename = 'finalized_model.sav'\n",
    "pickle.dump(text_pipeline, open(filename, 'wb'))"
   ]
  },
  {
   "cell_type": "markdown",
   "metadata": {},
   "source": [
    "## Load pickle file"
   ]
  },
  {
   "cell_type": "code",
   "execution_count": 35,
   "metadata": {},
   "outputs": [],
   "source": [
    "# load the model from disk\n",
    "# loaded_model = pickle.load(open(filename, 'rb'))\n",
    "# result = loaded_model.score(X_test, Y_test)\n",
    "# print(result)\n",
    "\n",
    "# OR\n",
    "# file = open(\"classifier.pickle\", \"wb\")\n",
    "# pickle.dump(text_pipeline, file)\n",
    "\n",
    "# OR\n",
    "# file_to_read = open(\"classifier.pickle\")\n",
    "# loaded_object = pickle.load(file_to_read)\n",
    "# file_to_read.close()"
   ]
  },
  {
   "cell_type": "markdown",
   "metadata": {},
   "source": [
    "## Find a way to remove special characters"
   ]
  },
  {
   "cell_type": "markdown",
   "metadata": {},
   "source": [
    "### Pickle Files\n",
    "Classifier"
   ]
  },
  {
   "cell_type": "code",
   "execution_count": 36,
   "metadata": {},
   "outputs": [],
   "source": [
    "# langs = sorted(y_train.unique())\n",
    "# file = 'language.sav'\n",
    "# pickle.dump(langs, open(file, 'wb'))"
   ]
  },
  {
   "cell_type": "code",
   "execution_count": 37,
   "metadata": {},
   "outputs": [],
   "source": [
    "# pd.DataFrame(confusion_matrix(y_test, predicted_y, labels=[language.capitalize() for language in final_languages]), \n",
    "#              columns=[language.capitalize() for language in final_languages])"
   ]
  },
  {
   "cell_type": "markdown",
   "metadata": {},
   "source": [
    "## Testing English"
   ]
  },
  {
   "cell_type": "code",
   "execution_count": 38,
   "metadata": {},
   "outputs": [],
   "source": [
    "def predict_language(text):\n",
    "    text = [text]\n",
    "    langs = sorted(y_train.unique())\n",
    "    print(\"Predicted Language: \" + text_pipeline.predict(text)[0])\n",
    "    pred_probs = text_pipeline.predict_proba(text)\n",
    "    pred_df = pd.DataFrame(pred_probs, columns=langs)\n",
    "    \n",
    "    # Plot the probablities\n",
    "    plt.figure(figsize=(12, 8))\n",
    "    plt.bar(x=langs, height=pred_probs.reshape(10,), width=0.8)\n",
    "    plt.show()"
   ]
  },
  {
   "cell_type": "code",
   "execution_count": 39,
   "metadata": {},
   "outputs": [
    {
     "name": "stdout",
     "output_type": "stream",
     "text": [
      "Predicted Language: English\n"
     ]
    },
    {
     "data": {
      "image/png": "[encoded data removed]",
      "text/plain": [
       "<Figure size 864x576 with 1 Axes>"
      ]
     },
     "metadata": {
      "needs_background": "light"
     },
     "output_type": "display_data"
    }
   ],
   "source": [
    "predict_language('i hope this algorithm works well')"
   ]
  },
  {
   "cell_type": "code",
   "execution_count": 40,
   "metadata": {},
   "outputs": [],
   "source": [
    "# langs = sorted(y_train.unique())"
   ]
  },
  {
   "cell_type": "code",
   "execution_count": 41,
   "metadata": {},
   "outputs": [],
   "source": [
    "# text_pipeline.predict(['hello how are you doing on this fine evening i am doing very well thank you for asking'])"
   ]
  },
  {
   "cell_type": "code",
   "execution_count": 42,
   "metadata": {},
   "outputs": [],
   "source": [
    "# text_pipeline.predict_proba(['hello how are you doing on this fine evening i am doing very well thank you for asking'])"
   ]
  },
  {
   "cell_type": "code",
   "execution_count": 43,
   "metadata": {},
   "outputs": [],
   "source": [
    "# text_pipeline.predict(['let us see how well this thing performs'])[0]"
   ]
  },
  {
   "cell_type": "code",
   "execution_count": 44,
   "metadata": {},
   "outputs": [],
   "source": [
    "# pred_probs = text_pipeline.predict_proba(['let us see how well this thing performs'])\n",
    "\n",
    "# pd.DataFrame(pred_probs, columns=langs)"
   ]
  },
  {
   "cell_type": "markdown",
   "metadata": {},
   "source": [
    "## Testing French"
   ]
  },
  {
   "cell_type": "code",
   "execution_count": 45,
   "metadata": {},
   "outputs": [],
   "source": [
    "# print(text_pipeline.predict(['je veux savoir comment ce chose fait']))"
   ]
  },
  {
   "cell_type": "code",
   "execution_count": 46,
   "metadata": {},
   "outputs": [],
   "source": [
    "# pred_probs = text_pipeline.predict_proba(['je veux savoir comment ce chose fait'])\n",
    "# pd.DataFrame(pred_probs, columns=langs)"
   ]
  },
  {
   "cell_type": "code",
   "execution_count": 47,
   "metadata": {},
   "outputs": [],
   "source": [
    "# predict_language('je veux savoir comment ce chose fait')"
   ]
  },
  {
   "cell_type": "markdown",
   "metadata": {},
   "source": [
    "## Mixing languages..."
   ]
  },
  {
   "cell_type": "code",
   "execution_count": 48,
   "metadata": {},
   "outputs": [],
   "source": [
    "# print(text_pipeline.predict(['ok so I am going to try to trick this thing by writing in different languages.']))"
   ]
  },
  {
   "cell_type": "code",
   "execution_count": 49,
   "metadata": {},
   "outputs": [
    {
     "name": "stdout",
     "output_type": "stream",
     "text": [
      "Predicted Language: French\n"
     ]
    },
    {
     "data": {
      "image/png": "[encoded data removed]",
      "text/plain": [
       "<Figure size 864x576 with 1 Axes>"
      ]
     },
     "metadata": {
      "needs_background": "light"
     },
     "output_type": "display_data"
    }
   ],
   "source": [
    "predict_language('Daccord I think che non possiamo faire deux chose al mismo tiempo et definitely non due')"
   ]
  },
  {
   "cell_type": "code",
   "execution_count": 50,
   "metadata": {},
   "outputs": [],
   "source": [
    "# print(text_pipeline.predict(['Daccord I think che non possiamo faire deux chose al mismo tiempo et definitely non due']))"
   ]
  },
  {
   "cell_type": "code",
   "execution_count": 51,
   "metadata": {},
   "outputs": [],
   "source": [
    "# print(text_pipeline.predict(['Daccord I think che non possiamo faire deux chose al mismo tiempo et definitely non due']))\n",
    "# pred_probs = text_pipeline.predict_proba(['Daccord I think che non possiamo faire deux chose al mismo tiempo et definitely non due'])\n",
    "# pd.DataFrame(pred_probs, columns=langs)"
   ]
  },
  {
   "cell_type": "code",
   "execution_count": 52,
   "metadata": {},
   "outputs": [],
   "source": [
    "# pred_probs = pred_probs.reshape(10,)c"
   ]
  },
  {
   "cell_type": "code",
   "execution_count": 53,
   "metadata": {},
   "outputs": [],
   "source": [
    "# plt.figure(figsize=(12, 8))\n",
    "# plt.bar(x=langs, height=pred_probs, width=0.8)\n",
    "# plt.show()"
   ]
  },
  {
   "cell_type": "markdown",
   "metadata": {},
   "source": [
    "## Trying Unknown Languages"
   ]
  },
  {
   "cell_type": "code",
   "execution_count": 54,
   "metadata": {},
   "outputs": [],
   "source": [
    "# print(text_pipeline.predict(['Allora ci sono alcune persone che non capiscono italiano']))\n",
    "# pred_probs = text_pipeline.predict_proba(['Allora ci sono alcune persone che non capiscono italiano'])\n",
    "# pd.DataFrame(pred_probs, columns=langs)"
   ]
  },
  {
   "cell_type": "code",
   "execution_count": 55,
   "metadata": {},
   "outputs": [],
   "source": [
    "# print(text_pipeline.predict(['可能你听不懂']))\n",
    "# pred_probs = text_pipeline.predict_proba(['可能你听不懂'])\n",
    "# pd.DataFrame(pred_probs, columns=langs)"
   ]
  },
  {
   "cell_type": "code",
   "execution_count": 56,
   "metadata": {},
   "outputs": [],
   "source": [
    "# pred_probs = pred_probs.reshape(10,)\n",
    "# plt.figure(figsize=(12, 8))\n",
    "# plt.bar(x=langs, height=pred_probs, width=0.8)\n",
    "# plt.ylim([0,0.8])\n",
    "# plt.show()"
   ]
  },
  {
   "cell_type": "code",
   "execution_count": null,
   "metadata": {},
   "outputs": [],
   "source": []
  },
  {
   "cell_type": "code",
   "execution_count": null,
   "metadata": {},
   "outputs": [],
   "source": []
  },
  {
   "cell_type": "code",
   "execution_count": null,
   "metadata": {},
   "outputs": [],
   "source": []
  }
 ],
 "metadata": {
  "kernelspec": {
   "display_name": "Python 3",
   "language": "python",
   "name": "python3"
  },
  "language_info": {
   "codemirror_mode": {
    "name": "ipython",
    "version": 3
   },
   "file_extension": ".py",
   "mimetype": "text/x-python",
   "name": "python",
   "nbconvert_exporter": "python",
   "pygments_lexer": "ipython3",
   "version": "3.7.0"
  }
 },
 "nbformat": 4,
 "nbformat_minor": 2
}
