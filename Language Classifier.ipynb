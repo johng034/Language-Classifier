{
 "cells": [
  {
   "cell_type": "markdown",
   "metadata": {},
   "source": [
    "# Classify the language given an input\n",
    "\n",
    "Link to [dataset](https://www.kaggle.com/zarajamshaid/language-identification-datasst)\n",
    "\n",
    "The dataset contains 1,000 rows for 22 languages (22,000 data points in total)"
   ]
  },
  {
   "cell_type": "code",
   "execution_count": 5,
   "metadata": {},
   "outputs": [],
   "source": [
    "import pandas as pd\n",
    "from sklearn.model_selection import train_test_split\n",
    "from sklearn.feature_extraction.text import CountVectorizer\n",
    "import scipy.sparse\n",
    "import nltk\n",
    "from nltk.corpus import stopwords\n",
    "import os\n",
    "\n",
    "from matplotlib import pyplot as plt\n",
    "from sklearn.model_selection import cross_val_predict\n",
    "from sklearn.metrics import confusion_matrix, f1_score\n",
    "import streamlit\n",
    "import pickle\n",
    "\n",
    "from sklearn.naive_bayes import MultinomialNB\n",
    "from sklearn.linear_model import LogisticRegression\n",
    "from sklearn.pipeline import Pipeline"
   ]
  },
  {
   "cell_type": "code",
   "execution_count": 6,
   "metadata": {
    "scrolled": true
   },
   "outputs": [],
   "source": [
    "# nltk.download()"
   ]
  },
  {
   "cell_type": "code",
   "execution_count": 7,
   "metadata": {},
   "outputs": [
    {
     "data": {
      "text/html": [
       "<div>\n",
       "<style scoped>\n",
       "    .dataframe tbody tr th:only-of-type {\n",
       "        vertical-align: middle;\n",
       "    }\n",
       "\n",
       "    .dataframe tbody tr th {\n",
       "        vertical-align: top;\n",
       "    }\n",
       "\n",
       "    .dataframe thead th {\n",
       "        text-align: right;\n",
       "    }\n",
       "</style>\n",
       "<table border=\"1\" class=\"dataframe\">\n",
       "  <thead>\n",
       "    <tr style=\"text-align: right;\">\n",
       "      <th></th>\n",
       "      <th>Text</th>\n",
       "      <th>language</th>\n",
       "    </tr>\n",
       "  </thead>\n",
       "  <tbody>\n",
       "    <tr>\n",
       "      <th>0</th>\n",
       "      <td>klement gottwaldi surnukeha palsameeriti ning ...</td>\n",
       "      <td>Estonian</td>\n",
       "    </tr>\n",
       "    <tr>\n",
       "      <th>1</th>\n",
       "      <td>sebes joseph pereira thomas  på eng the jesuit...</td>\n",
       "      <td>Swedish</td>\n",
       "    </tr>\n",
       "    <tr>\n",
       "      <th>2</th>\n",
       "      <td>ถนนเจริญกรุง อักษรโรมัน thanon charoen krung เ...</td>\n",
       "      <td>Thai</td>\n",
       "    </tr>\n",
       "    <tr>\n",
       "      <th>3</th>\n",
       "      <td>விசாகப்பட்டினம் தமிழ்ச்சங்கத்தை இந்துப் பத்திர...</td>\n",
       "      <td>Tamil</td>\n",
       "    </tr>\n",
       "    <tr>\n",
       "      <th>4</th>\n",
       "      <td>de spons behoort tot het geslacht haliclona en...</td>\n",
       "      <td>Dutch</td>\n",
       "    </tr>\n",
       "  </tbody>\n",
       "</table>\n",
       "</div>"
      ],
      "text/plain": [
       "                                                Text  language\n",
       "0  klement gottwaldi surnukeha palsameeriti ning ...  Estonian\n",
       "1  sebes joseph pereira thomas  på eng the jesuit...   Swedish\n",
       "2  ถนนเจริญกรุง อักษรโรมัน thanon charoen krung เ...      Thai\n",
       "3  விசாகப்பட்டினம் தமிழ்ச்சங்கத்தை இந்துப் பத்திர...     Tamil\n",
       "4  de spons behoort tot het geslacht haliclona en...     Dutch"
      ]
     },
     "execution_count": 7,
     "metadata": {},
     "output_type": "execute_result"
    }
   ],
   "source": [
    "df = pd.read_csv(\"dataset.csv\")\n",
    "\n",
    "df.head()"
   ]
  },
  {
   "cell_type": "code",
   "execution_count": 8,
   "metadata": {},
   "outputs": [],
   "source": [
    "# df[df['language'] == 'English'].head()"
   ]
  },
  {
   "cell_type": "code",
   "execution_count": 9,
   "metadata": {},
   "outputs": [],
   "source": [
    "# df[df['language'] == 'English']['Text'][76]"
   ]
  },
  {
   "cell_type": "code",
   "execution_count": 10,
   "metadata": {
    "scrolled": true
   },
   "outputs": [],
   "source": [
    "# df.head()"
   ]
  },
  {
   "cell_type": "code",
   "execution_count": 11,
   "metadata": {},
   "outputs": [],
   "source": [
    "# https://stackoverflow.com/a/44174565\n",
    "df['tokenized_text'] = df['Text'].apply(lambda x: nltk.word_tokenize(x)) "
   ]
  },
  {
   "cell_type": "code",
   "execution_count": 12,
   "metadata": {},
   "outputs": [
    {
     "data": {
      "text/html": [
       "<div>\n",
       "<style scoped>\n",
       "    .dataframe tbody tr th:only-of-type {\n",
       "        vertical-align: middle;\n",
       "    }\n",
       "\n",
       "    .dataframe tbody tr th {\n",
       "        vertical-align: top;\n",
       "    }\n",
       "\n",
       "    .dataframe thead th {\n",
       "        text-align: right;\n",
       "    }\n",
       "</style>\n",
       "<table border=\"1\" class=\"dataframe\">\n",
       "  <thead>\n",
       "    <tr style=\"text-align: right;\">\n",
       "      <th></th>\n",
       "      <th>Text</th>\n",
       "      <th>language</th>\n",
       "      <th>tokenized_text</th>\n",
       "    </tr>\n",
       "  </thead>\n",
       "  <tbody>\n",
       "    <tr>\n",
       "      <th>0</th>\n",
       "      <td>klement gottwaldi surnukeha palsameeriti ning ...</td>\n",
       "      <td>Estonian</td>\n",
       "      <td>[klement, gottwaldi, surnukeha, palsameeriti, ...</td>\n",
       "    </tr>\n",
       "    <tr>\n",
       "      <th>1</th>\n",
       "      <td>sebes joseph pereira thomas  på eng the jesuit...</td>\n",
       "      <td>Swedish</td>\n",
       "      <td>[sebes, joseph, pereira, thomas, på, eng, the,...</td>\n",
       "    </tr>\n",
       "    <tr>\n",
       "      <th>2</th>\n",
       "      <td>ถนนเจริญกรุง อักษรโรมัน thanon charoen krung เ...</td>\n",
       "      <td>Thai</td>\n",
       "      <td>[ถนนเจริญกรุง, อักษรโรมัน, thanon, charoen, kr...</td>\n",
       "    </tr>\n",
       "    <tr>\n",
       "      <th>3</th>\n",
       "      <td>விசாகப்பட்டினம் தமிழ்ச்சங்கத்தை இந்துப் பத்திர...</td>\n",
       "      <td>Tamil</td>\n",
       "      <td>[விசாகப்பட்டினம், தமிழ்ச்சங்கத்தை, இந்துப், பத...</td>\n",
       "    </tr>\n",
       "    <tr>\n",
       "      <th>4</th>\n",
       "      <td>de spons behoort tot het geslacht haliclona en...</td>\n",
       "      <td>Dutch</td>\n",
       "      <td>[de, spons, behoort, tot, het, geslacht, halic...</td>\n",
       "    </tr>\n",
       "  </tbody>\n",
       "</table>\n",
       "</div>"
      ],
      "text/plain": [
       "                                                Text  language  \\\n",
       "0  klement gottwaldi surnukeha palsameeriti ning ...  Estonian   \n",
       "1  sebes joseph pereira thomas  på eng the jesuit...   Swedish   \n",
       "2  ถนนเจริญกรุง อักษรโรมัน thanon charoen krung เ...      Thai   \n",
       "3  விசாகப்பட்டினம் தமிழ்ச்சங்கத்தை இந்துப் பத்திர...     Tamil   \n",
       "4  de spons behoort tot het geslacht haliclona en...     Dutch   \n",
       "\n",
       "                                      tokenized_text  \n",
       "0  [klement, gottwaldi, surnukeha, palsameeriti, ...  \n",
       "1  [sebes, joseph, pereira, thomas, på, eng, the,...  \n",
       "2  [ถนนเจริญกรุง, อักษรโรมัน, thanon, charoen, kr...  \n",
       "3  [விசாகப்பட்டினம், தமிழ்ச்சங்கத்தை, இந்துப், பத...  \n",
       "4  [de, spons, behoort, tot, het, geslacht, halic...  "
      ]
     },
     "execution_count": 12,
     "metadata": {},
     "output_type": "execute_result"
    }
   ],
   "source": [
    "df.head()"
   ]
  },
  {
   "cell_type": "markdown",
   "metadata": {},
   "source": [
    "## Split up into training and testing set"
   ]
  },
  {
   "cell_type": "markdown",
   "metadata": {},
   "source": [
    "## *Issue*\n",
    "- `nltk.word_tokenize` currently only supports English. This is not a very important issue since most of the langauges have spaces, so they're still tokenized somewhat correctly.\n",
    "- Languages that do not use spaces (such as Chinese and Japanese) are greatly affected by this.\n",
    "\n",
    "### Potential Solutions\n",
    "- For Chinese and Japanese, I could find any packages that specialize in these languages\n",
    "- I do not know enough about all these languages to be certain that they're correctly tokenized.\n",
    "    - I could talk with people who have experience with some of these languages to ensure the data is being processed correctly\n",
    "\n",
    "We will see how the algorithms perform, even with this issue."
   ]
  },
  {
   "cell_type": "markdown",
   "metadata": {},
   "source": [
    "## I will not be including the languages that nltk do not support\n",
    "I may come back to this at a later time to find packages that support the remaining languages."
   ]
  },
  {
   "cell_type": "code",
   "execution_count": null,
   "metadata": {},
   "outputs": [],
   "source": []
  },
  {
   "cell_type": "markdown",
   "metadata": {},
   "source": [
    "## I need to find a way to convert the words into numbers"
   ]
  },
  {
   "cell_type": "code",
   "execution_count": 13,
   "metadata": {},
   "outputs": [
    {
     "data": {
      "text/html": [
       "<div>\n",
       "<style scoped>\n",
       "    .dataframe tbody tr th:only-of-type {\n",
       "        vertical-align: middle;\n",
       "    }\n",
       "\n",
       "    .dataframe tbody tr th {\n",
       "        vertical-align: top;\n",
       "    }\n",
       "\n",
       "    .dataframe thead th {\n",
       "        text-align: right;\n",
       "    }\n",
       "</style>\n",
       "<table border=\"1\" class=\"dataframe\">\n",
       "  <thead>\n",
       "    <tr style=\"text-align: right;\">\n",
       "      <th></th>\n",
       "      <th>Text</th>\n",
       "      <th>language</th>\n",
       "      <th>tokenized_text</th>\n",
       "    </tr>\n",
       "  </thead>\n",
       "  <tbody>\n",
       "    <tr>\n",
       "      <th>0</th>\n",
       "      <td>klement gottwaldi surnukeha palsameeriti ning ...</td>\n",
       "      <td>Estonian</td>\n",
       "      <td>[klement, gottwaldi, surnukeha, palsameeriti, ...</td>\n",
       "    </tr>\n",
       "    <tr>\n",
       "      <th>1</th>\n",
       "      <td>sebes joseph pereira thomas  på eng the jesuit...</td>\n",
       "      <td>Swedish</td>\n",
       "      <td>[sebes, joseph, pereira, thomas, på, eng, the,...</td>\n",
       "    </tr>\n",
       "    <tr>\n",
       "      <th>2</th>\n",
       "      <td>ถนนเจริญกรุง อักษรโรมัน thanon charoen krung เ...</td>\n",
       "      <td>Thai</td>\n",
       "      <td>[ถนนเจริญกรุง, อักษรโรมัน, thanon, charoen, kr...</td>\n",
       "    </tr>\n",
       "    <tr>\n",
       "      <th>3</th>\n",
       "      <td>விசாகப்பட்டினம் தமிழ்ச்சங்கத்தை இந்துப் பத்திர...</td>\n",
       "      <td>Tamil</td>\n",
       "      <td>[விசாகப்பட்டினம், தமிழ்ச்சங்கத்தை, இந்துப், பத...</td>\n",
       "    </tr>\n",
       "    <tr>\n",
       "      <th>4</th>\n",
       "      <td>de spons behoort tot het geslacht haliclona en...</td>\n",
       "      <td>Dutch</td>\n",
       "      <td>[de, spons, behoort, tot, het, geslacht, halic...</td>\n",
       "    </tr>\n",
       "  </tbody>\n",
       "</table>\n",
       "</div>"
      ],
      "text/plain": [
       "                                                Text  language  \\\n",
       "0  klement gottwaldi surnukeha palsameeriti ning ...  Estonian   \n",
       "1  sebes joseph pereira thomas  på eng the jesuit...   Swedish   \n",
       "2  ถนนเจริญกรุง อักษรโรมัน thanon charoen krung เ...      Thai   \n",
       "3  விசாகப்பட்டினம் தமிழ்ச்சங்கத்தை இந்துப் பத்திர...     Tamil   \n",
       "4  de spons behoort tot het geslacht haliclona en...     Dutch   \n",
       "\n",
       "                                      tokenized_text  \n",
       "0  [klement, gottwaldi, surnukeha, palsameeriti, ...  \n",
       "1  [sebes, joseph, pereira, thomas, på, eng, the,...  \n",
       "2  [ถนนเจริญกรุง, อักษรโรมัน, thanon, charoen, kr...  \n",
       "3  [விசாகப்பட்டினம், தமிழ்ச்சங்கத்தை, இந்துப், பத...  \n",
       "4  [de, spons, behoort, tot, het, geslacht, halic...  "
      ]
     },
     "execution_count": 13,
     "metadata": {},
     "output_type": "execute_result"
    }
   ],
   "source": [
    "df.head()"
   ]
  },
  {
   "cell_type": "code",
   "execution_count": 14,
   "metadata": {},
   "outputs": [],
   "source": [
    "df['Language'] = df.language\n",
    "df['language'] = df['Language'].apply(lambda x: str.lower(x))"
   ]
  },
  {
   "cell_type": "code",
   "execution_count": 15,
   "metadata": {},
   "outputs": [
    {
     "data": {
      "text/html": [
       "<div>\n",
       "<style scoped>\n",
       "    .dataframe tbody tr th:only-of-type {\n",
       "        vertical-align: middle;\n",
       "    }\n",
       "\n",
       "    .dataframe tbody tr th {\n",
       "        vertical-align: top;\n",
       "    }\n",
       "\n",
       "    .dataframe thead th {\n",
       "        text-align: right;\n",
       "    }\n",
       "</style>\n",
       "<table border=\"1\" class=\"dataframe\">\n",
       "  <thead>\n",
       "    <tr style=\"text-align: right;\">\n",
       "      <th></th>\n",
       "      <th>Text</th>\n",
       "      <th>language</th>\n",
       "      <th>tokenized_text</th>\n",
       "      <th>Language</th>\n",
       "    </tr>\n",
       "  </thead>\n",
       "  <tbody>\n",
       "    <tr>\n",
       "      <th>0</th>\n",
       "      <td>klement gottwaldi surnukeha palsameeriti ning ...</td>\n",
       "      <td>estonian</td>\n",
       "      <td>[klement, gottwaldi, surnukeha, palsameeriti, ...</td>\n",
       "      <td>Estonian</td>\n",
       "    </tr>\n",
       "    <tr>\n",
       "      <th>1</th>\n",
       "      <td>sebes joseph pereira thomas  på eng the jesuit...</td>\n",
       "      <td>swedish</td>\n",
       "      <td>[sebes, joseph, pereira, thomas, på, eng, the,...</td>\n",
       "      <td>Swedish</td>\n",
       "    </tr>\n",
       "    <tr>\n",
       "      <th>2</th>\n",
       "      <td>ถนนเจริญกรุง อักษรโรมัน thanon charoen krung เ...</td>\n",
       "      <td>thai</td>\n",
       "      <td>[ถนนเจริญกรุง, อักษรโรมัน, thanon, charoen, kr...</td>\n",
       "      <td>Thai</td>\n",
       "    </tr>\n",
       "    <tr>\n",
       "      <th>3</th>\n",
       "      <td>விசாகப்பட்டினம் தமிழ்ச்சங்கத்தை இந்துப் பத்திர...</td>\n",
       "      <td>tamil</td>\n",
       "      <td>[விசாகப்பட்டினம், தமிழ்ச்சங்கத்தை, இந்துப், பத...</td>\n",
       "      <td>Tamil</td>\n",
       "    </tr>\n",
       "    <tr>\n",
       "      <th>4</th>\n",
       "      <td>de spons behoort tot het geslacht haliclona en...</td>\n",
       "      <td>dutch</td>\n",
       "      <td>[de, spons, behoort, tot, het, geslacht, halic...</td>\n",
       "      <td>Dutch</td>\n",
       "    </tr>\n",
       "  </tbody>\n",
       "</table>\n",
       "</div>"
      ],
      "text/plain": [
       "                                                Text  language  \\\n",
       "0  klement gottwaldi surnukeha palsameeriti ning ...  estonian   \n",
       "1  sebes joseph pereira thomas  på eng the jesuit...   swedish   \n",
       "2  ถนนเจริญกรุง อักษรโรมัน thanon charoen krung เ...      thai   \n",
       "3  விசாகப்பட்டினம் தமிழ்ச்சங்கத்தை இந்துப் பத்திர...     tamil   \n",
       "4  de spons behoort tot het geslacht haliclona en...     dutch   \n",
       "\n",
       "                                      tokenized_text  Language  \n",
       "0  [klement, gottwaldi, surnukeha, palsameeriti, ...  Estonian  \n",
       "1  [sebes, joseph, pereira, thomas, på, eng, the,...   Swedish  \n",
       "2  [ถนนเจริญกรุง, อักษรโรมัน, thanon, charoen, kr...      Thai  \n",
       "3  [விசாகப்பட்டினம், தமிழ்ச்சங்கத்தை, இந்துப், பத...     Tamil  \n",
       "4  [de, spons, behoort, tot, het, geslacht, halic...     Dutch  "
      ]
     },
     "execution_count": 15,
     "metadata": {},
     "output_type": "execute_result"
    }
   ],
   "source": [
    "df.head()"
   ]
  },
  {
   "cell_type": "markdown",
   "metadata": {},
   "source": [
    "### List of languages is the dataset"
   ]
  },
  {
   "cell_type": "code",
   "execution_count": 16,
   "metadata": {},
   "outputs": [
    {
     "data": {
      "text/plain": [
       "['estonian',\n",
       " 'swedish',\n",
       " 'thai',\n",
       " 'tamil',\n",
       " 'dutch',\n",
       " 'japanese',\n",
       " 'turkish',\n",
       " 'latin',\n",
       " 'urdu',\n",
       " 'indonesian',\n",
       " 'portugese',\n",
       " 'french',\n",
       " 'chinese',\n",
       " 'korean',\n",
       " 'hindi',\n",
       " 'spanish',\n",
       " 'pushto',\n",
       " 'persian',\n",
       " 'romanian',\n",
       " 'russian',\n",
       " 'english',\n",
       " 'arabic']"
      ]
     },
     "execution_count": 16,
     "metadata": {},
     "output_type": "execute_result"
    }
   ],
   "source": [
    "# Variable is uppercase to show that it holds the uppercase values\n",
    "# Languages = list(df.language.unique())\n",
    "languages = list(df.language.unique())\n",
    "\n",
    "# Change to lowercase\n",
    "# languages = [lang.lower() for lang in languages]\n",
    "languages"
   ]
  },
  {
   "cell_type": "markdown",
   "metadata": {},
   "source": [
    "### List of languages supported by `nltk`"
   ]
  },
  {
   "cell_type": "code",
   "execution_count": 17,
   "metadata": {},
   "outputs": [
    {
     "data": {
      "text/plain": [
       "['arabic',\n",
       " 'azerbaijani',\n",
       " 'danish',\n",
       " 'dutch',\n",
       " 'english',\n",
       " 'finnish',\n",
       " 'french',\n",
       " 'german',\n",
       " 'greek',\n",
       " 'hungarian',\n",
       " 'indonesian',\n",
       " 'italian',\n",
       " 'kazakh',\n",
       " 'nepali',\n",
       " 'norwegian',\n",
       " 'portuguese',\n",
       " 'README',\n",
       " 'romanian',\n",
       " 'russian',\n",
       " 'slovene',\n",
       " 'spanish',\n",
       " 'swedish',\n",
       " 'tajik',\n",
       " 'turkish']"
      ]
     },
     "execution_count": 17,
     "metadata": {},
     "output_type": "execute_result"
    }
   ],
   "source": [
    "supported_languages = os.listdir(\"C:\\\\users\\\\johng\\\\appdata\\\\roaming\\\\nltk_data\\\\corpora\\\\stopwords\")\n",
    "\n",
    "supported_languages"
   ]
  },
  {
   "cell_type": "code",
   "execution_count": 18,
   "metadata": {},
   "outputs": [
    {
     "data": {
      "text/plain": [
       "['english',\n",
       " 'arabic',\n",
       " 'french',\n",
       " 'swedish',\n",
       " 'indonesian',\n",
       " 'dutch',\n",
       " 'turkish',\n",
       " 'russian',\n",
       " 'romanian',\n",
       " 'spanish']"
      ]
     },
     "execution_count": 18,
     "metadata": {},
     "output_type": "execute_result"
    }
   ],
   "source": [
    "# Find the intersection between lists\n",
    "final_languages = list(set(languages) & set(supported_languages))\n",
    "\n",
    "final_languages"
   ]
  },
  {
   "cell_type": "code",
   "execution_count": 19,
   "metadata": {},
   "outputs": [
    {
     "data": {
      "text/plain": [
       "10"
      ]
     },
     "execution_count": 19,
     "metadata": {},
     "output_type": "execute_result"
    }
   ],
   "source": [
    "len(final_languages)"
   ]
  },
  {
   "cell_type": "code",
   "execution_count": 20,
   "metadata": {},
   "outputs": [
    {
     "data": {
      "text/html": [
       "<div>\n",
       "<style scoped>\n",
       "    .dataframe tbody tr th:only-of-type {\n",
       "        vertical-align: middle;\n",
       "    }\n",
       "\n",
       "    .dataframe tbody tr th {\n",
       "        vertical-align: top;\n",
       "    }\n",
       "\n",
       "    .dataframe thead th {\n",
       "        text-align: right;\n",
       "    }\n",
       "</style>\n",
       "<table border=\"1\" class=\"dataframe\">\n",
       "  <thead>\n",
       "    <tr style=\"text-align: right;\">\n",
       "      <th></th>\n",
       "      <th>Text</th>\n",
       "      <th>language</th>\n",
       "      <th>tokenized_text</th>\n",
       "      <th>Language</th>\n",
       "    </tr>\n",
       "  </thead>\n",
       "  <tbody>\n",
       "    <tr>\n",
       "      <th>0</th>\n",
       "      <td>klement gottwaldi surnukeha palsameeriti ning ...</td>\n",
       "      <td>estonian</td>\n",
       "      <td>[klement, gottwaldi, surnukeha, palsameeriti, ...</td>\n",
       "      <td>Estonian</td>\n",
       "    </tr>\n",
       "    <tr>\n",
       "      <th>1</th>\n",
       "      <td>sebes joseph pereira thomas  på eng the jesuit...</td>\n",
       "      <td>swedish</td>\n",
       "      <td>[sebes, joseph, pereira, thomas, på, eng, the,...</td>\n",
       "      <td>Swedish</td>\n",
       "    </tr>\n",
       "    <tr>\n",
       "      <th>2</th>\n",
       "      <td>ถนนเจริญกรุง อักษรโรมัน thanon charoen krung เ...</td>\n",
       "      <td>thai</td>\n",
       "      <td>[ถนนเจริญกรุง, อักษรโรมัน, thanon, charoen, kr...</td>\n",
       "      <td>Thai</td>\n",
       "    </tr>\n",
       "    <tr>\n",
       "      <th>3</th>\n",
       "      <td>விசாகப்பட்டினம் தமிழ்ச்சங்கத்தை இந்துப் பத்திர...</td>\n",
       "      <td>tamil</td>\n",
       "      <td>[விசாகப்பட்டினம், தமிழ்ச்சங்கத்தை, இந்துப், பத...</td>\n",
       "      <td>Tamil</td>\n",
       "    </tr>\n",
       "    <tr>\n",
       "      <th>4</th>\n",
       "      <td>de spons behoort tot het geslacht haliclona en...</td>\n",
       "      <td>dutch</td>\n",
       "      <td>[de, spons, behoort, tot, het, geslacht, halic...</td>\n",
       "      <td>Dutch</td>\n",
       "    </tr>\n",
       "  </tbody>\n",
       "</table>\n",
       "</div>"
      ],
      "text/plain": [
       "                                                Text  language  \\\n",
       "0  klement gottwaldi surnukeha palsameeriti ning ...  estonian   \n",
       "1  sebes joseph pereira thomas  på eng the jesuit...   swedish   \n",
       "2  ถนนเจริญกรุง อักษรโรมัน thanon charoen krung เ...      thai   \n",
       "3  விசாகப்பட்டினம் தமிழ்ச்சங்கத்தை இந்துப் பத்திர...     tamil   \n",
       "4  de spons behoort tot het geslacht haliclona en...     dutch   \n",
       "\n",
       "                                      tokenized_text  Language  \n",
       "0  [klement, gottwaldi, surnukeha, palsameeriti, ...  Estonian  \n",
       "1  [sebes, joseph, pereira, thomas, på, eng, the,...   Swedish  \n",
       "2  [ถนนเจริญกรุง, อักษรโรมัน, thanon, charoen, kr...      Thai  \n",
       "3  [விசாகப்பட்டினம், தமிழ்ச்சங்கத்தை, இந்துப், பத...     Tamil  \n",
       "4  [de, spons, behoort, tot, het, geslacht, halic...     Dutch  "
      ]
     },
     "execution_count": 20,
     "metadata": {},
     "output_type": "execute_result"
    }
   ],
   "source": [
    "df.head()"
   ]
  },
  {
   "cell_type": "code",
   "execution_count": 21,
   "metadata": {},
   "outputs": [],
   "source": [
    "# Go through each row\n",
    "# If the language is supported, keep it\n",
    "# Else, remove the row"
   ]
  },
  {
   "cell_type": "code",
   "execution_count": 22,
   "metadata": {},
   "outputs": [],
   "source": [
    "# df[df['language'] == 'Estonian' or df['language'] == 'Dutch']"
   ]
  },
  {
   "cell_type": "code",
   "execution_count": 23,
   "metadata": {},
   "outputs": [],
   "source": [
    "df = df[df.language.isin(final_languages)]\n",
    "df = df.reset_index(drop=True)"
   ]
  },
  {
   "cell_type": "code",
   "execution_count": 24,
   "metadata": {},
   "outputs": [
    {
     "data": {
      "text/html": [
       "<div>\n",
       "<style scoped>\n",
       "    .dataframe tbody tr th:only-of-type {\n",
       "        vertical-align: middle;\n",
       "    }\n",
       "\n",
       "    .dataframe tbody tr th {\n",
       "        vertical-align: top;\n",
       "    }\n",
       "\n",
       "    .dataframe thead th {\n",
       "        text-align: right;\n",
       "    }\n",
       "</style>\n",
       "<table border=\"1\" class=\"dataframe\">\n",
       "  <thead>\n",
       "    <tr style=\"text-align: right;\">\n",
       "      <th></th>\n",
       "      <th>Text</th>\n",
       "      <th>language</th>\n",
       "      <th>tokenized_text</th>\n",
       "      <th>Language</th>\n",
       "    </tr>\n",
       "  </thead>\n",
       "  <tbody>\n",
       "    <tr>\n",
       "      <th>0</th>\n",
       "      <td>sebes joseph pereira thomas  på eng the jesuit...</td>\n",
       "      <td>swedish</td>\n",
       "      <td>[sebes, joseph, pereira, thomas, på, eng, the,...</td>\n",
       "      <td>Swedish</td>\n",
       "    </tr>\n",
       "    <tr>\n",
       "      <th>1</th>\n",
       "      <td>de spons behoort tot het geslacht haliclona en...</td>\n",
       "      <td>dutch</td>\n",
       "      <td>[de, spons, behoort, tot, het, geslacht, halic...</td>\n",
       "      <td>Dutch</td>\n",
       "    </tr>\n",
       "    <tr>\n",
       "      <th>2</th>\n",
       "      <td>tsutinalar i̇ngilizce tsuutina kanadada albert...</td>\n",
       "      <td>turkish</td>\n",
       "      <td>[tsutinalar, i̇ngilizce, tsuutina, kanadada, a...</td>\n",
       "      <td>Turkish</td>\n",
       "    </tr>\n",
       "    <tr>\n",
       "      <th>3</th>\n",
       "      <td>kemunculan pertamanya adalah ketika mencium ka...</td>\n",
       "      <td>indonesian</td>\n",
       "      <td>[kemunculan, pertamanya, adalah, ketika, menci...</td>\n",
       "      <td>Indonesian</td>\n",
       "    </tr>\n",
       "    <tr>\n",
       "      <th>4</th>\n",
       "      <td>association de recherche et de sauvegarde de l...</td>\n",
       "      <td>french</td>\n",
       "      <td>[association, de, recherche, et, de, sauvegard...</td>\n",
       "      <td>French</td>\n",
       "    </tr>\n",
       "    <tr>\n",
       "      <th>...</th>\n",
       "      <td>...</td>\n",
       "      <td>...</td>\n",
       "      <td>...</td>\n",
       "      <td>...</td>\n",
       "    </tr>\n",
       "    <tr>\n",
       "      <th>9995</th>\n",
       "      <td>felidae adalah familia mamalia yang berevolusi...</td>\n",
       "      <td>indonesian</td>\n",
       "      <td>[felidae, adalah, familia, mamalia, yang, bere...</td>\n",
       "      <td>Indonesian</td>\n",
       "    </tr>\n",
       "    <tr>\n",
       "      <th>9996</th>\n",
       "      <td>molla nasreddinin kurucusu celil memmedgülüzad...</td>\n",
       "      <td>turkish</td>\n",
       "      <td>[molla, nasreddinin, kurucusu, celil, memmedgü...</td>\n",
       "      <td>Turkish</td>\n",
       "    </tr>\n",
       "    <tr>\n",
       "      <th>9997</th>\n",
       "      <td>hors du terrain les années  et  sont des année...</td>\n",
       "      <td>french</td>\n",
       "      <td>[hors, du, terrain, les, années, et, sont, des...</td>\n",
       "      <td>French</td>\n",
       "    </tr>\n",
       "    <tr>\n",
       "      <th>9998</th>\n",
       "      <td>con motivo de la celebración del septuagésimoq...</td>\n",
       "      <td>spanish</td>\n",
       "      <td>[con, motivo, de, la, celebración, del, septua...</td>\n",
       "      <td>Spanish</td>\n",
       "    </tr>\n",
       "    <tr>\n",
       "      <th>9999</th>\n",
       "      <td>aprilie sonda spațială messenger a nasa și-a ...</td>\n",
       "      <td>romanian</td>\n",
       "      <td>[aprilie, sonda, spațială, messenger, a, nasa,...</td>\n",
       "      <td>Romanian</td>\n",
       "    </tr>\n",
       "  </tbody>\n",
       "</table>\n",
       "<p>10000 rows × 4 columns</p>\n",
       "</div>"
      ],
      "text/plain": [
       "                                                   Text    language  \\\n",
       "0     sebes joseph pereira thomas  på eng the jesuit...     swedish   \n",
       "1     de spons behoort tot het geslacht haliclona en...       dutch   \n",
       "2     tsutinalar i̇ngilizce tsuutina kanadada albert...     turkish   \n",
       "3     kemunculan pertamanya adalah ketika mencium ka...  indonesian   \n",
       "4     association de recherche et de sauvegarde de l...      french   \n",
       "...                                                 ...         ...   \n",
       "9995  felidae adalah familia mamalia yang berevolusi...  indonesian   \n",
       "9996  molla nasreddinin kurucusu celil memmedgülüzad...     turkish   \n",
       "9997  hors du terrain les années  et  sont des année...      french   \n",
       "9998  con motivo de la celebración del septuagésimoq...     spanish   \n",
       "9999   aprilie sonda spațială messenger a nasa și-a ...    romanian   \n",
       "\n",
       "                                         tokenized_text    Language  \n",
       "0     [sebes, joseph, pereira, thomas, på, eng, the,...     Swedish  \n",
       "1     [de, spons, behoort, tot, het, geslacht, halic...       Dutch  \n",
       "2     [tsutinalar, i̇ngilizce, tsuutina, kanadada, a...     Turkish  \n",
       "3     [kemunculan, pertamanya, adalah, ketika, menci...  Indonesian  \n",
       "4     [association, de, recherche, et, de, sauvegard...      French  \n",
       "...                                                 ...         ...  \n",
       "9995  [felidae, adalah, familia, mamalia, yang, bere...  Indonesian  \n",
       "9996  [molla, nasreddinin, kurucusu, celil, memmedgü...     Turkish  \n",
       "9997  [hors, du, terrain, les, années, et, sont, des...      French  \n",
       "9998  [con, motivo, de, la, celebración, del, septua...     Spanish  \n",
       "9999  [aprilie, sonda, spațială, messenger, a, nasa,...    Romanian  \n",
       "\n",
       "[10000 rows x 4 columns]"
      ]
     },
     "execution_count": 24,
     "metadata": {},
     "output_type": "execute_result"
    }
   ],
   "source": [
    "df"
   ]
  },
  {
   "cell_type": "code",
   "execution_count": 25,
   "metadata": {},
   "outputs": [],
   "source": [
    "# f/or x, y in [lang.lower() for lang in languages], "
   ]
  },
  {
   "cell_type": "code",
   "execution_count": 26,
   "metadata": {},
   "outputs": [],
   "source": [
    "# df.head(20)\n",
    "# df['language'][:20]"
   ]
  },
  {
   "cell_type": "code",
   "execution_count": 27,
   "metadata": {},
   "outputs": [],
   "source": [
    "# df['lang'] = \n",
    "\n",
    "# df['language'].apply(lambda x: str.lower(x))"
   ]
  },
  {
   "cell_type": "code",
   "execution_count": 28,
   "metadata": {},
   "outputs": [
    {
     "data": {
      "text/plain": [
       "['english',\n",
       " 'arabic',\n",
       " 'french',\n",
       " 'swedish',\n",
       " 'indonesian',\n",
       " 'dutch',\n",
       " 'turkish',\n",
       " 'russian',\n",
       " 'romanian',\n",
       " 'spanish']"
      ]
     },
     "execution_count": 28,
     "metadata": {},
     "output_type": "execute_result"
    }
   ],
   "source": [
    "final_languages"
   ]
  },
  {
   "cell_type": "markdown",
   "metadata": {},
   "source": [
    "## Remove stopwords from tokenized text"
   ]
  },
  {
   "cell_type": "code",
   "execution_count": 29,
   "metadata": {},
   "outputs": [
    {
     "data": {
      "text/html": [
       "<div>\n",
       "<style scoped>\n",
       "    .dataframe tbody tr th:only-of-type {\n",
       "        vertical-align: middle;\n",
       "    }\n",
       "\n",
       "    .dataframe tbody tr th {\n",
       "        vertical-align: top;\n",
       "    }\n",
       "\n",
       "    .dataframe thead th {\n",
       "        text-align: right;\n",
       "    }\n",
       "</style>\n",
       "<table border=\"1\" class=\"dataframe\">\n",
       "  <thead>\n",
       "    <tr style=\"text-align: right;\">\n",
       "      <th></th>\n",
       "      <th>Text</th>\n",
       "      <th>language</th>\n",
       "      <th>tokenized_text</th>\n",
       "      <th>Language</th>\n",
       "    </tr>\n",
       "  </thead>\n",
       "  <tbody>\n",
       "    <tr>\n",
       "      <th>0</th>\n",
       "      <td>sebes joseph pereira thomas  på eng the jesuit...</td>\n",
       "      <td>swedish</td>\n",
       "      <td>[sebes, joseph, pereira, thomas, på, eng, the,...</td>\n",
       "      <td>Swedish</td>\n",
       "    </tr>\n",
       "    <tr>\n",
       "      <th>1</th>\n",
       "      <td>de spons behoort tot het geslacht haliclona en...</td>\n",
       "      <td>dutch</td>\n",
       "      <td>[de, spons, behoort, tot, het, geslacht, halic...</td>\n",
       "      <td>Dutch</td>\n",
       "    </tr>\n",
       "    <tr>\n",
       "      <th>2</th>\n",
       "      <td>tsutinalar i̇ngilizce tsuutina kanadada albert...</td>\n",
       "      <td>turkish</td>\n",
       "      <td>[tsutinalar, i̇ngilizce, tsuutina, kanadada, a...</td>\n",
       "      <td>Turkish</td>\n",
       "    </tr>\n",
       "    <tr>\n",
       "      <th>3</th>\n",
       "      <td>kemunculan pertamanya adalah ketika mencium ka...</td>\n",
       "      <td>indonesian</td>\n",
       "      <td>[kemunculan, pertamanya, adalah, ketika, menci...</td>\n",
       "      <td>Indonesian</td>\n",
       "    </tr>\n",
       "    <tr>\n",
       "      <th>4</th>\n",
       "      <td>association de recherche et de sauvegarde de l...</td>\n",
       "      <td>french</td>\n",
       "      <td>[association, de, recherche, et, de, sauvegard...</td>\n",
       "      <td>French</td>\n",
       "    </tr>\n",
       "  </tbody>\n",
       "</table>\n",
       "</div>"
      ],
      "text/plain": [
       "                                                Text    language  \\\n",
       "0  sebes joseph pereira thomas  på eng the jesuit...     swedish   \n",
       "1  de spons behoort tot het geslacht haliclona en...       dutch   \n",
       "2  tsutinalar i̇ngilizce tsuutina kanadada albert...     turkish   \n",
       "3  kemunculan pertamanya adalah ketika mencium ka...  indonesian   \n",
       "4  association de recherche et de sauvegarde de l...      french   \n",
       "\n",
       "                                      tokenized_text    Language  \n",
       "0  [sebes, joseph, pereira, thomas, på, eng, the,...     Swedish  \n",
       "1  [de, spons, behoort, tot, het, geslacht, halic...       Dutch  \n",
       "2  [tsutinalar, i̇ngilizce, tsuutina, kanadada, a...     Turkish  \n",
       "3  [kemunculan, pertamanya, adalah, ketika, menci...  Indonesian  \n",
       "4  [association, de, recherche, et, de, sauvegard...      French  "
      ]
     },
     "execution_count": 29,
     "metadata": {},
     "output_type": "execute_result"
    }
   ],
   "source": [
    "df.head()"
   ]
  },
  {
   "cell_type": "code",
   "execution_count": 30,
   "metadata": {},
   "outputs": [],
   "source": [
    "# df['tokenized_text'].apply(lambda x: [word for word in x if word not in stopwords.words('english')])"
   ]
  },
  {
   "cell_type": "markdown",
   "metadata": {},
   "source": [
    "# BRUTE FORCE WAY\n",
    "There is a more efficient way to do this, but I can't figure it out right now.\n",
    "\n",
    "I tried:\n",
    "- lambda function to iterate through each row and drop the stopwords depending on the language\n",
    "\n",
    "Brute force is to just do a for-loop, save it to a list, and create a new column with that list. It may not take that long, but it would be better to figure out more efficient methods."
   ]
  },
  {
   "cell_type": "code",
   "execution_count": 31,
   "metadata": {},
   "outputs": [
    {
     "data": {
      "text/html": [
       "<div>\n",
       "<style scoped>\n",
       "    .dataframe tbody tr th:only-of-type {\n",
       "        vertical-align: middle;\n",
       "    }\n",
       "\n",
       "    .dataframe tbody tr th {\n",
       "        vertical-align: top;\n",
       "    }\n",
       "\n",
       "    .dataframe thead th {\n",
       "        text-align: right;\n",
       "    }\n",
       "</style>\n",
       "<table border=\"1\" class=\"dataframe\">\n",
       "  <thead>\n",
       "    <tr style=\"text-align: right;\">\n",
       "      <th></th>\n",
       "      <th>Text</th>\n",
       "      <th>language</th>\n",
       "      <th>tokenized_text</th>\n",
       "      <th>Language</th>\n",
       "    </tr>\n",
       "  </thead>\n",
       "  <tbody>\n",
       "    <tr>\n",
       "      <th>0</th>\n",
       "      <td>sebes joseph pereira thomas  på eng the jesuit...</td>\n",
       "      <td>swedish</td>\n",
       "      <td>[sebes, joseph, pereira, thomas, på, eng, the,...</td>\n",
       "      <td>Swedish</td>\n",
       "    </tr>\n",
       "    <tr>\n",
       "      <th>1</th>\n",
       "      <td>de spons behoort tot het geslacht haliclona en...</td>\n",
       "      <td>dutch</td>\n",
       "      <td>[de, spons, behoort, tot, het, geslacht, halic...</td>\n",
       "      <td>Dutch</td>\n",
       "    </tr>\n",
       "    <tr>\n",
       "      <th>2</th>\n",
       "      <td>tsutinalar i̇ngilizce tsuutina kanadada albert...</td>\n",
       "      <td>turkish</td>\n",
       "      <td>[tsutinalar, i̇ngilizce, tsuutina, kanadada, a...</td>\n",
       "      <td>Turkish</td>\n",
       "    </tr>\n",
       "    <tr>\n",
       "      <th>3</th>\n",
       "      <td>kemunculan pertamanya adalah ketika mencium ka...</td>\n",
       "      <td>indonesian</td>\n",
       "      <td>[kemunculan, pertamanya, adalah, ketika, menci...</td>\n",
       "      <td>Indonesian</td>\n",
       "    </tr>\n",
       "    <tr>\n",
       "      <th>4</th>\n",
       "      <td>association de recherche et de sauvegarde de l...</td>\n",
       "      <td>french</td>\n",
       "      <td>[association, de, recherche, et, de, sauvegard...</td>\n",
       "      <td>French</td>\n",
       "    </tr>\n",
       "  </tbody>\n",
       "</table>\n",
       "</div>"
      ],
      "text/plain": [
       "                                                Text    language  \\\n",
       "0  sebes joseph pereira thomas  på eng the jesuit...     swedish   \n",
       "1  de spons behoort tot het geslacht haliclona en...       dutch   \n",
       "2  tsutinalar i̇ngilizce tsuutina kanadada albert...     turkish   \n",
       "3  kemunculan pertamanya adalah ketika mencium ka...  indonesian   \n",
       "4  association de recherche et de sauvegarde de l...      french   \n",
       "\n",
       "                                      tokenized_text    Language  \n",
       "0  [sebes, joseph, pereira, thomas, på, eng, the,...     Swedish  \n",
       "1  [de, spons, behoort, tot, het, geslacht, halic...       Dutch  \n",
       "2  [tsutinalar, i̇ngilizce, tsuutina, kanadada, a...     Turkish  \n",
       "3  [kemunculan, pertamanya, adalah, ketika, menci...  Indonesian  \n",
       "4  [association, de, recherche, et, de, sauvegard...      French  "
      ]
     },
     "execution_count": 31,
     "metadata": {},
     "output_type": "execute_result"
    }
   ],
   "source": [
    "df.head()"
   ]
  },
  {
   "cell_type": "code",
   "execution_count": 32,
   "metadata": {},
   "outputs": [],
   "source": [
    "# dropped_stopwords = []\n",
    "\n",
    "# for text in df.Text:\n",
    "#     language = df[df.Text == text]['language']"
   ]
  },
  {
   "cell_type": "code",
   "execution_count": 33,
   "metadata": {},
   "outputs": [],
   "source": [
    "# dropped_stopwords = []\n",
    "\n",
    "# for text in df.Text:\n",
    "#     language = df[df.Text == text]['language']\n",
    "#     tkn_txt = df[df[]]['tokenized_text']\n",
    "#     filtered_words = "
   ]
  },
  {
   "cell_type": "code",
   "execution_count": 34,
   "metadata": {},
   "outputs": [],
   "source": [
    "import streamlit"
   ]
  },
  {
   "cell_type": "code",
   "execution_count": 35,
   "metadata": {},
   "outputs": [],
   "source": [
    "# Create empty column\n",
    "df['token'] = 0"
   ]
  },
  {
   "cell_type": "code",
   "execution_count": 36,
   "metadata": {},
   "outputs": [],
   "source": [
    "# Create empty column\n",
    "# df['token'] = True\n",
    "dropped = []\n",
    "\n",
    "# Drop any stopwords in the language and add to new column\n",
    "for row, col in df.iterrows():\n",
    "    text = col['tokenized_text']\n",
    "    language = col['language']\n",
    "    dropped.append([word for word in text if word not in stopwords.words(language)])\n",
    "\n",
    "df['token'] = dropped"
   ]
  },
  {
   "cell_type": "code",
   "execution_count": 37,
   "metadata": {},
   "outputs": [
    {
     "data": {
      "text/plain": [
       "10000"
      ]
     },
     "execution_count": 37,
     "metadata": {},
     "output_type": "execute_result"
    }
   ],
   "source": [
    "len(dropped)"
   ]
  },
  {
   "cell_type": "code",
   "execution_count": 38,
   "metadata": {},
   "outputs": [],
   "source": [
    "# df['token'] = dropped"
   ]
  },
  {
   "cell_type": "code",
   "execution_count": 39,
   "metadata": {},
   "outputs": [
    {
     "data": {
      "text/html": [
       "<div>\n",
       "<style scoped>\n",
       "    .dataframe tbody tr th:only-of-type {\n",
       "        vertical-align: middle;\n",
       "    }\n",
       "\n",
       "    .dataframe tbody tr th {\n",
       "        vertical-align: top;\n",
       "    }\n",
       "\n",
       "    .dataframe thead th {\n",
       "        text-align: right;\n",
       "    }\n",
       "</style>\n",
       "<table border=\"1\" class=\"dataframe\">\n",
       "  <thead>\n",
       "    <tr style=\"text-align: right;\">\n",
       "      <th></th>\n",
       "      <th>Text</th>\n",
       "      <th>language</th>\n",
       "      <th>tokenized_text</th>\n",
       "      <th>Language</th>\n",
       "      <th>token</th>\n",
       "    </tr>\n",
       "  </thead>\n",
       "  <tbody>\n",
       "    <tr>\n",
       "      <th>0</th>\n",
       "      <td>sebes joseph pereira thomas  på eng the jesuit...</td>\n",
       "      <td>swedish</td>\n",
       "      <td>[sebes, joseph, pereira, thomas, på, eng, the,...</td>\n",
       "      <td>Swedish</td>\n",
       "      <td>[sebes, joseph, pereira, thomas, eng, the, jes...</td>\n",
       "    </tr>\n",
       "    <tr>\n",
       "      <th>1</th>\n",
       "      <td>de spons behoort tot het geslacht haliclona en...</td>\n",
       "      <td>dutch</td>\n",
       "      <td>[de, spons, behoort, tot, het, geslacht, halic...</td>\n",
       "      <td>Dutch</td>\n",
       "      <td>[spons, behoort, geslacht, haliclona, behoort,...</td>\n",
       "    </tr>\n",
       "    <tr>\n",
       "      <th>2</th>\n",
       "      <td>tsutinalar i̇ngilizce tsuutina kanadada albert...</td>\n",
       "      <td>turkish</td>\n",
       "      <td>[tsutinalar, i̇ngilizce, tsuutina, kanadada, a...</td>\n",
       "      <td>Turkish</td>\n",
       "      <td>[tsutinalar, i̇ngilizce, tsuutina, kanadada, a...</td>\n",
       "    </tr>\n",
       "    <tr>\n",
       "      <th>3</th>\n",
       "      <td>kemunculan pertamanya adalah ketika mencium ka...</td>\n",
       "      <td>indonesian</td>\n",
       "      <td>[kemunculan, pertamanya, adalah, ketika, menci...</td>\n",
       "      <td>Indonesian</td>\n",
       "      <td>[kemunculan, pertamanya, mencium, kakak, kelas...</td>\n",
       "    </tr>\n",
       "    <tr>\n",
       "      <th>4</th>\n",
       "      <td>association de recherche et de sauvegarde de l...</td>\n",
       "      <td>french</td>\n",
       "      <td>[association, de, recherche, et, de, sauvegard...</td>\n",
       "      <td>French</td>\n",
       "      <td>[association, recherche, sauvegarde, lhistoire...</td>\n",
       "    </tr>\n",
       "  </tbody>\n",
       "</table>\n",
       "</div>"
      ],
      "text/plain": [
       "                                                Text    language  \\\n",
       "0  sebes joseph pereira thomas  på eng the jesuit...     swedish   \n",
       "1  de spons behoort tot het geslacht haliclona en...       dutch   \n",
       "2  tsutinalar i̇ngilizce tsuutina kanadada albert...     turkish   \n",
       "3  kemunculan pertamanya adalah ketika mencium ka...  indonesian   \n",
       "4  association de recherche et de sauvegarde de l...      french   \n",
       "\n",
       "                                      tokenized_text    Language  \\\n",
       "0  [sebes, joseph, pereira, thomas, på, eng, the,...     Swedish   \n",
       "1  [de, spons, behoort, tot, het, geslacht, halic...       Dutch   \n",
       "2  [tsutinalar, i̇ngilizce, tsuutina, kanadada, a...     Turkish   \n",
       "3  [kemunculan, pertamanya, adalah, ketika, menci...  Indonesian   \n",
       "4  [association, de, recherche, et, de, sauvegard...      French   \n",
       "\n",
       "                                               token  \n",
       "0  [sebes, joseph, pereira, thomas, eng, the, jes...  \n",
       "1  [spons, behoort, geslacht, haliclona, behoort,...  \n",
       "2  [tsutinalar, i̇ngilizce, tsuutina, kanadada, a...  \n",
       "3  [kemunculan, pertamanya, mencium, kakak, kelas...  \n",
       "4  [association, recherche, sauvegarde, lhistoire...  "
      ]
     },
     "execution_count": 39,
     "metadata": {},
     "output_type": "execute_result"
    }
   ],
   "source": [
    "df.head()"
   ]
  },
  {
   "cell_type": "code",
   "execution_count": 40,
   "metadata": {},
   "outputs": [],
   "source": [
    "df['clean_text'] = df.token.apply(lambda x: \" \".join(x))"
   ]
  },
  {
   "cell_type": "code",
   "execution_count": 41,
   "metadata": {},
   "outputs": [
    {
     "data": {
      "text/html": [
       "<div>\n",
       "<style scoped>\n",
       "    .dataframe tbody tr th:only-of-type {\n",
       "        vertical-align: middle;\n",
       "    }\n",
       "\n",
       "    .dataframe tbody tr th {\n",
       "        vertical-align: top;\n",
       "    }\n",
       "\n",
       "    .dataframe thead th {\n",
       "        text-align: right;\n",
       "    }\n",
       "</style>\n",
       "<table border=\"1\" class=\"dataframe\">\n",
       "  <thead>\n",
       "    <tr style=\"text-align: right;\">\n",
       "      <th></th>\n",
       "      <th>Text</th>\n",
       "      <th>language</th>\n",
       "      <th>tokenized_text</th>\n",
       "      <th>Language</th>\n",
       "      <th>token</th>\n",
       "      <th>clean_text</th>\n",
       "    </tr>\n",
       "  </thead>\n",
       "  <tbody>\n",
       "    <tr>\n",
       "      <th>0</th>\n",
       "      <td>sebes joseph pereira thomas  på eng the jesuit...</td>\n",
       "      <td>swedish</td>\n",
       "      <td>[sebes, joseph, pereira, thomas, på, eng, the,...</td>\n",
       "      <td>Swedish</td>\n",
       "      <td>[sebes, joseph, pereira, thomas, eng, the, jes...</td>\n",
       "      <td>sebes joseph pereira thomas eng the jesuits an...</td>\n",
       "    </tr>\n",
       "    <tr>\n",
       "      <th>1</th>\n",
       "      <td>de spons behoort tot het geslacht haliclona en...</td>\n",
       "      <td>dutch</td>\n",
       "      <td>[de, spons, behoort, tot, het, geslacht, halic...</td>\n",
       "      <td>Dutch</td>\n",
       "      <td>[spons, behoort, geslacht, haliclona, behoort,...</td>\n",
       "      <td>spons behoort geslacht haliclona behoort famil...</td>\n",
       "    </tr>\n",
       "    <tr>\n",
       "      <th>2</th>\n",
       "      <td>tsutinalar i̇ngilizce tsuutina kanadada albert...</td>\n",
       "      <td>turkish</td>\n",
       "      <td>[tsutinalar, i̇ngilizce, tsuutina, kanadada, a...</td>\n",
       "      <td>Turkish</td>\n",
       "      <td>[tsutinalar, i̇ngilizce, tsuutina, kanadada, a...</td>\n",
       "      <td>tsutinalar i̇ngilizce tsuutina kanadada albert...</td>\n",
       "    </tr>\n",
       "    <tr>\n",
       "      <th>3</th>\n",
       "      <td>kemunculan pertamanya adalah ketika mencium ka...</td>\n",
       "      <td>indonesian</td>\n",
       "      <td>[kemunculan, pertamanya, adalah, ketika, menci...</td>\n",
       "      <td>Indonesian</td>\n",
       "      <td>[kemunculan, pertamanya, mencium, kakak, kelas...</td>\n",
       "      <td>kemunculan pertamanya mencium kakak kelasnya k...</td>\n",
       "    </tr>\n",
       "    <tr>\n",
       "      <th>4</th>\n",
       "      <td>association de recherche et de sauvegarde de l...</td>\n",
       "      <td>french</td>\n",
       "      <td>[association, de, recherche, et, de, sauvegard...</td>\n",
       "      <td>French</td>\n",
       "      <td>[association, recherche, sauvegarde, lhistoire...</td>\n",
       "      <td>association recherche sauvegarde lhistoire roi...</td>\n",
       "    </tr>\n",
       "  </tbody>\n",
       "</table>\n",
       "</div>"
      ],
      "text/plain": [
       "                                                Text    language  \\\n",
       "0  sebes joseph pereira thomas  på eng the jesuit...     swedish   \n",
       "1  de spons behoort tot het geslacht haliclona en...       dutch   \n",
       "2  tsutinalar i̇ngilizce tsuutina kanadada albert...     turkish   \n",
       "3  kemunculan pertamanya adalah ketika mencium ka...  indonesian   \n",
       "4  association de recherche et de sauvegarde de l...      french   \n",
       "\n",
       "                                      tokenized_text    Language  \\\n",
       "0  [sebes, joseph, pereira, thomas, på, eng, the,...     Swedish   \n",
       "1  [de, spons, behoort, tot, het, geslacht, halic...       Dutch   \n",
       "2  [tsutinalar, i̇ngilizce, tsuutina, kanadada, a...     Turkish   \n",
       "3  [kemunculan, pertamanya, adalah, ketika, menci...  Indonesian   \n",
       "4  [association, de, recherche, et, de, sauvegard...      French   \n",
       "\n",
       "                                               token  \\\n",
       "0  [sebes, joseph, pereira, thomas, eng, the, jes...   \n",
       "1  [spons, behoort, geslacht, haliclona, behoort,...   \n",
       "2  [tsutinalar, i̇ngilizce, tsuutina, kanadada, a...   \n",
       "3  [kemunculan, pertamanya, mencium, kakak, kelas...   \n",
       "4  [association, recherche, sauvegarde, lhistoire...   \n",
       "\n",
       "                                          clean_text  \n",
       "0  sebes joseph pereira thomas eng the jesuits an...  \n",
       "1  spons behoort geslacht haliclona behoort famil...  \n",
       "2  tsutinalar i̇ngilizce tsuutina kanadada albert...  \n",
       "3  kemunculan pertamanya mencium kakak kelasnya k...  \n",
       "4  association recherche sauvegarde lhistoire roi...  "
      ]
     },
     "execution_count": 41,
     "metadata": {},
     "output_type": "execute_result"
    }
   ],
   "source": [
    "df.head()"
   ]
  },
  {
   "cell_type": "code",
   "execution_count": 42,
   "metadata": {},
   "outputs": [],
   "source": [
    "# df[df['tokenized_text'] == m]['tokenized_text']"
   ]
  },
  {
   "cell_type": "code",
   "execution_count": 43,
   "metadata": {},
   "outputs": [],
   "source": [
    "# df[df.tokenized_text == m]"
   ]
  },
  {
   "cell_type": "code",
   "execution_count": 44,
   "metadata": {},
   "outputs": [],
   "source": [
    "# df['tokenized_text'].apply(lambda x: df[df['tokenized_text'] == x]['tokenized_text'])"
   ]
  },
  {
   "cell_type": "code",
   "execution_count": 45,
   "metadata": {},
   "outputs": [],
   "source": [
    "# Loop through each row\n",
    "# Create list that contains words NOT in the stopwords list\n",
    "# Set the list to new column"
   ]
  },
  {
   "cell_type": "code",
   "execution_count": null,
   "metadata": {},
   "outputs": [],
   "source": []
  },
  {
   "cell_type": "code",
   "execution_count": null,
   "metadata": {},
   "outputs": [],
   "source": []
  },
  {
   "cell_type": "code",
   "execution_count": null,
   "metadata": {},
   "outputs": [],
   "source": []
  },
  {
   "cell_type": "code",
   "execution_count": null,
   "metadata": {},
   "outputs": [],
   "source": []
  },
  {
   "cell_type": "markdown",
   "metadata": {},
   "source": [
    "# TRAIN, TEST, SPLIT"
   ]
  },
  {
   "cell_type": "code",
   "execution_count": 46,
   "metadata": {},
   "outputs": [],
   "source": [
    "X_train, X_test, y_train, y_test = train_test_split(\n",
    "    df.clean_text, df.Language, test_size=0.15, random_state=42, \n",
    "    shuffle=True, stratify=df.Language\n",
    ")"
   ]
  },
  {
   "cell_type": "code",
   "execution_count": 47,
   "metadata": {},
   "outputs": [
    {
     "data": {
      "text/plain": [
       "2616    the hidden wiki herkesin anonim olarak düzenle...\n",
       "372     كانت طالبة نيميسيو أنتونيز وكارمين سيلفا وغارس...\n",
       "8013    الاتصالات صممت أجهزة إرسال متعددة ومستقبلات مت...\n",
       "23      сделал понимания деятельности м ломоносова дол...\n",
       "5839    roissy connaît forte hausse population peut se...\n",
       "                              ...                        \n",
       "8795    omgivningarna runt rouaïsset aabdel jalil huvu...\n",
       "3823    хотя сопровождавший loaded сингл « who loves t...\n",
       "6112    незаконченную рукопись « теории электричества ...\n",
       "4546    şehire gittiklerinde zengin bir kadına dönüşüm...\n",
       "1539    “ gizli kutsal ismin tecellisine mazhar olan t...\n",
       "Name: clean_text, Length: 8500, dtype: object"
      ]
     },
     "execution_count": 47,
     "metadata": {},
     "output_type": "execute_result"
    }
   ],
   "source": [
    "X_train"
   ]
  },
  {
   "cell_type": "code",
   "execution_count": 48,
   "metadata": {},
   "outputs": [],
   "source": [
    "# list_of_sentences = X_train.to_list()\n",
    "\n",
    "# len(list_of_sentences)"
   ]
  },
  {
   "cell_type": "code",
   "execution_count": 49,
   "metadata": {},
   "outputs": [],
   "source": [
    "vec = CountVectorizer()\n",
    "new_X = vec.fit_transform(X_train)"
   ]
  },
  {
   "cell_type": "code",
   "execution_count": 50,
   "metadata": {},
   "outputs": [
    {
     "data": {
      "text/plain": [
       "<8500x110547 sparse matrix of type '<class 'numpy.int64'>'\n",
       "\twith 283219 stored elements in Compressed Sparse Row format>"
      ]
     },
     "execution_count": 50,
     "metadata": {},
     "output_type": "execute_result"
    }
   ],
   "source": [
    "new_X"
   ]
  },
  {
   "cell_type": "code",
   "execution_count": 75,
   "metadata": {},
   "outputs": [
    {
     "data": {
      "text/plain": [
       "110547"
      ]
     },
     "execution_count": 75,
     "metadata": {},
     "output_type": "execute_result"
    }
   ],
   "source": [
    "len(vec.get_feature_names())"
   ]
  },
  {
   "cell_type": "code",
   "execution_count": 77,
   "metadata": {},
   "outputs": [],
   "source": [
    "# dtm = pd.DataFrame.sparse.from_spmatrix(new_X, columns=vec.get_feature_names())"
   ]
  },
  {
   "cell_type": "code",
   "execution_count": 78,
   "metadata": {},
   "outputs": [
    {
     "data": {
      "text/plain": [
       "8500"
      ]
     },
     "execution_count": 78,
     "metadata": {},
     "output_type": "execute_result"
    }
   ],
   "source": [
    "len(y_train)"
   ]
  },
  {
   "cell_type": "markdown",
   "metadata": {},
   "source": [
    "# Naive Bayes Classifier"
   ]
  },
  {
   "cell_type": "code",
   "execution_count": 51,
   "metadata": {},
   "outputs": [],
   "source": [
    "text_pipeline = Pipeline([\n",
    "    ('vector', CountVectorizer()),\n",
    "    ('clf', MultinomialNB())\n",
    "])"
   ]
  },
  {
   "cell_type": "code",
   "execution_count": 52,
   "metadata": {},
   "outputs": [
    {
     "data": {
      "text/plain": [
       "Pipeline(steps=[('vector', CountVectorizer()), ('clf', MultinomialNB())])"
      ]
     },
     "execution_count": 52,
     "metadata": {},
     "output_type": "execute_result"
    }
   ],
   "source": [
    "text_pipeline.fit(X_train, y_train)"
   ]
  },
  {
   "cell_type": "code",
   "execution_count": 53,
   "metadata": {},
   "outputs": [],
   "source": [
    "# text_pipeline.predict(X_test)"
   ]
  },
  {
   "cell_type": "code",
   "execution_count": 54,
   "metadata": {},
   "outputs": [],
   "source": [
    "predicted_y = text_pipeline.predict(X_test)\n"
   ]
  },
  {
   "cell_type": "code",
   "execution_count": 83,
   "metadata": {},
   "outputs": [],
   "source": [
    "y_train_pred = cross_val_predict(text_pipeline, X_train, y_train, cv=5)"
   ]
  },
  {
   "cell_type": "code",
   "execution_count": 84,
   "metadata": {},
   "outputs": [
    {
     "data": {
      "text/plain": [
       "array([[846,   0,   1,   2,   0,   0,   0,   0,   1,   0],\n",
       "       [  1, 844,   4,   1,   0,   0,   0,   0,   0,   0],\n",
       "       [  0,   0, 847,   1,   0,   0,   0,   0,   0,   2],\n",
       "       [  0,   1,   3, 843,   0,   1,   0,   2,   0,   0],\n",
       "       [  0,   1,  11,   0, 837,   0,   0,   0,   1,   0],\n",
       "       [  0,   0,   5,   1,   3, 841,   0,   0,   0,   0],\n",
       "       [  0,   0,   3,   1,   2,   0, 842,   1,   1,   0],\n",
       "       [  0,   0,   8,   4,   2,   0,   0, 835,   1,   0],\n",
       "       [  0,   0,   0,   0,   1,   0,   0,   0, 849,   0],\n",
       "       [  0,   0,   6,   0,   2,   0,   0,   1,   0, 841]], dtype=int64)"
      ]
     },
     "execution_count": 84,
     "metadata": {},
     "output_type": "execute_result"
    }
   ],
   "source": [
    "confusion_matrix(y_train, y_train_pred)"
   ]
  },
  {
   "cell_type": "code",
   "execution_count": 69,
   "metadata": {},
   "outputs": [
    {
     "data": {
      "text/plain": [
       "array([[796,   0,   1,   2,   0,   0,   0,   0,   1,   0],\n",
       "       [  0, 791,   6,   1,   1,   0,   0,   1,   0,   0],\n",
       "       [  0,   0, 797,   1,   0,   0,   0,   0,   0,   2],\n",
       "       [  0,   0,   3, 792,   1,   1,   0,   2,   0,   1],\n",
       "       [  0,   0,  11,   0, 789,   0,   0,   0,   0,   0],\n",
       "       [  0,   0,   6,   1,   4, 789,   0,   0,   0,   0],\n",
       "       [  0,   1,   2,   0,   1,   1, 793,   1,   1,   0],\n",
       "       [  0,   0,   9,   3,   2,   0,   0, 786,   0,   0],\n",
       "       [  0,   1,   0,   0,   1,   0,   0,   0, 798,   0],\n",
       "       [  0,   0,   6,   1,   1,   0,   0,   0,   2, 790]], dtype=int64)"
      ]
     },
     "execution_count": 69,
     "metadata": {},
     "output_type": "execute_result"
    }
   ],
   "source": [
    "confusion_matrix(y_train, y_train_pred1)"
   ]
  },
  {
   "cell_type": "code",
   "execution_count": 85,
   "metadata": {},
   "outputs": [
    {
     "data": {
      "image/png": "[encoded data removed]",
      "text/plain": [
       "<Figure size 288x288 with 1 Axes>"
      ]
     },
     "metadata": {
      "needs_background": "light"
     },
     "output_type": "display_data"
    }
   ],
   "source": [
    "conf_mat = confusion_matrix(y_train, y_train_pred)\n",
    "plt.matshow(conf_mat, cmap=plt.cm.gray)\n",
    "plt.show()"
   ]
  },
  {
   "cell_type": "code",
   "execution_count": null,
   "metadata": {},
   "outputs": [],
   "source": []
  },
  {
   "cell_type": "markdown",
   "metadata": {},
   "source": [
    "# Save classifier using pickle"
   ]
  },
  {
   "cell_type": "code",
   "execution_count": 55,
   "metadata": {},
   "outputs": [],
   "source": [
    "import pickle"
   ]
  },
  {
   "cell_type": "code",
   "execution_count": 55,
   "metadata": {},
   "outputs": [],
   "source": [
    "# save the model to disk\n",
    "filename = 'finalized_model.sav'\n",
    "pickle.dump(text_pipeline, open(filename, 'wb'))\n",
    " \n",
    "# some time later...\n",
    " \n",
    "# load the model from disk\n",
    "# loaded_model = pickle.load(open(filename, 'rb'))\n",
    "# result = loaded_model.score(X_test, Y_test)\n",
    "# print(result)"
   ]
  },
  {
   "cell_type": "code",
   "execution_count": 68,
   "metadata": {},
   "outputs": [],
   "source": [
    "y_train_pred1 = cross_val_predict(loaded_model, X_train, y_train, cv=5)"
   ]
  },
  {
   "cell_type": "code",
   "execution_count": 87,
   "metadata": {},
   "outputs": [
    {
     "data": {
      "text/plain": [
       "'!\"#$%&\\'()*+,-./:;<=>?@[\\\\]^_`{|}~'"
      ]
     },
     "execution_count": 87,
     "metadata": {},
     "output_type": "execute_result"
    }
   ],
   "source": [
    "from string import punctuation\n",
    "\n",
    "punctuation"
   ]
  },
  {
   "cell_type": "code",
   "execution_count": 99,
   "metadata": {},
   "outputs": [
    {
     "data": {
      "text/plain": [
       "str"
      ]
     },
     "execution_count": 99,
     "metadata": {},
     "output_type": "execute_result"
    }
   ],
   "source": [
    "type(punctuation)"
   ]
  },
  {
   "cell_type": "code",
   "execution_count": 112,
   "metadata": {},
   "outputs": [],
   "source": [
    "symbols = [punc for punc in punctuation]"
   ]
  },
  {
   "cell_type": "markdown",
   "metadata": {},
   "source": [
    "## Find a way to remove special characters"
   ]
  },
  {
   "cell_type": "code",
   "execution_count": 113,
   "metadata": {},
   "outputs": [
    {
     "name": "stdout",
     "output_type": "stream",
     "text": [
      "Please type a phrase: he$$y h9ow a&re you doing\n"
     ]
    }
   ],
   "source": [
    "# text = input('Please type a phrase: ').lower()\n",
    "# text = text.strip(punctuation)"
   ]
  },
  {
   "cell_type": "code",
   "execution_count": 108,
   "metadata": {},
   "outputs": [
    {
     "data": {
      "text/plain": [
       "'he$$y h9ow a&re you doing'"
      ]
     },
     "execution_count": 108,
     "metadata": {},
     "output_type": "execute_result"
    }
   ],
   "source": [
    "text"
   ]
  },
  {
   "cell_type": "code",
   "execution_count": null,
   "metadata": {},
   "outputs": [],
   "source": []
  },
  {
   "cell_type": "code",
   "execution_count": 89,
   "metadata": {},
   "outputs": [
    {
     "data": {
      "text/plain": [
       "'h$y'"
      ]
     },
     "execution_count": 89,
     "metadata": {},
     "output_type": "execute_result"
    }
   ],
   "source": [
    "text"
   ]
  },
  {
   "cell_type": "markdown",
   "metadata": {},
   "source": [
    "### Pickle Files\n",
    "Classifier"
   ]
  },
  {
   "cell_type": "code",
   "execution_count": 69,
   "metadata": {},
   "outputs": [],
   "source": [
    "filename = 'finalized_model.sav'\n",
    "pickle.dump(text_pipeline, open(filename, 'wb'))"
   ]
  },
  {
   "cell_type": "code",
   "execution_count": 70,
   "metadata": {},
   "outputs": [],
   "source": [
    "# file = open(\"classifier.pickle\", \"wb\")\n",
    "# pickle.dump(text_pipeline, file)"
   ]
  },
  {
   "cell_type": "markdown",
   "metadata": {},
   "source": [
    "Languages"
   ]
  },
  {
   "cell_type": "code",
   "execution_count": 71,
   "metadata": {},
   "outputs": [],
   "source": [
    "langs = sorted(y_train.unique())\n",
    "file = 'language.sav'\n",
    "pickle.dump(langs, open(file, 'wb'))"
   ]
  },
  {
   "cell_type": "code",
   "execution_count": 72,
   "metadata": {},
   "outputs": [],
   "source": [
    "# file_to_read = open(\"classifier.pickle\")\n",
    "# loaded_object = pickle.load(file_to_read)\n",
    "# file_to_read.close()"
   ]
  },
  {
   "cell_type": "code",
   "execution_count": null,
   "metadata": {},
   "outputs": [],
   "source": []
  },
  {
   "cell_type": "code",
   "execution_count": 61,
   "metadata": {},
   "outputs": [
    {
     "data": {
      "text/plain": [
       "array([[200,   0,   0,   0,   0,   0,   0,   0,   0,   0],\n",
       "       [  1, 199,   0,   0,   0,   0,   0,   0,   0,   0],\n",
       "       [  0,   0, 200,   0,   0,   0,   0,   0,   0,   0],\n",
       "       [  0,   0,   0, 200,   0,   0,   0,   0,   0,   0],\n",
       "       [  0,   0,   3,   0, 197,   0,   0,   0,   0,   0],\n",
       "       [  0,   0,   0,   0,   0, 200,   0,   0,   0,   0],\n",
       "       [  0,   0,   3,   0,   0,   0, 197,   0,   0,   0],\n",
       "       [  0,   1,   1,   0,   3,   0,   0, 195,   0,   0],\n",
       "       [  0,   0,   0,   0,   0,   0,   0,   0, 200,   0],\n",
       "       [  0,   0,   1,   0,   1,   0,   0,   0,   0, 198]], dtype=int64)"
      ]
     },
     "execution_count": 61,
     "metadata": {},
     "output_type": "execute_result"
    }
   ],
   "source": [
    "confusion_matrix(y_test, predicted_y)"
   ]
  },
  {
   "cell_type": "code",
   "execution_count": 62,
   "metadata": {},
   "outputs": [
    {
     "data": {
      "text/html": [
       "<div>\n",
       "<style scoped>\n",
       "    .dataframe tbody tr th:only-of-type {\n",
       "        vertical-align: middle;\n",
       "    }\n",
       "\n",
       "    .dataframe tbody tr th {\n",
       "        vertical-align: top;\n",
       "    }\n",
       "\n",
       "    .dataframe thead th {\n",
       "        text-align: right;\n",
       "    }\n",
       "</style>\n",
       "<table border=\"1\" class=\"dataframe\">\n",
       "  <thead>\n",
       "    <tr style=\"text-align: right;\">\n",
       "      <th></th>\n",
       "      <th>Dutch</th>\n",
       "      <th>Russian</th>\n",
       "      <th>Indonesian</th>\n",
       "      <th>English</th>\n",
       "      <th>Turkish</th>\n",
       "      <th>Swedish</th>\n",
       "      <th>French</th>\n",
       "      <th>Romanian</th>\n",
       "      <th>Arabic</th>\n",
       "      <th>Spanish</th>\n",
       "    </tr>\n",
       "  </thead>\n",
       "  <tbody>\n",
       "    <tr>\n",
       "      <th>0</th>\n",
       "      <td>199</td>\n",
       "      <td>0</td>\n",
       "      <td>0</td>\n",
       "      <td>0</td>\n",
       "      <td>0</td>\n",
       "      <td>0</td>\n",
       "      <td>0</td>\n",
       "      <td>0</td>\n",
       "      <td>1</td>\n",
       "      <td>0</td>\n",
       "    </tr>\n",
       "    <tr>\n",
       "      <th>1</th>\n",
       "      <td>0</td>\n",
       "      <td>197</td>\n",
       "      <td>0</td>\n",
       "      <td>3</td>\n",
       "      <td>0</td>\n",
       "      <td>0</td>\n",
       "      <td>0</td>\n",
       "      <td>0</td>\n",
       "      <td>0</td>\n",
       "      <td>0</td>\n",
       "    </tr>\n",
       "    <tr>\n",
       "      <th>2</th>\n",
       "      <td>0</td>\n",
       "      <td>0</td>\n",
       "      <td>197</td>\n",
       "      <td>3</td>\n",
       "      <td>0</td>\n",
       "      <td>0</td>\n",
       "      <td>0</td>\n",
       "      <td>0</td>\n",
       "      <td>0</td>\n",
       "      <td>0</td>\n",
       "    </tr>\n",
       "    <tr>\n",
       "      <th>3</th>\n",
       "      <td>0</td>\n",
       "      <td>0</td>\n",
       "      <td>0</td>\n",
       "      <td>200</td>\n",
       "      <td>0</td>\n",
       "      <td>0</td>\n",
       "      <td>0</td>\n",
       "      <td>0</td>\n",
       "      <td>0</td>\n",
       "      <td>0</td>\n",
       "    </tr>\n",
       "    <tr>\n",
       "      <th>4</th>\n",
       "      <td>0</td>\n",
       "      <td>0</td>\n",
       "      <td>1</td>\n",
       "      <td>1</td>\n",
       "      <td>198</td>\n",
       "      <td>0</td>\n",
       "      <td>0</td>\n",
       "      <td>0</td>\n",
       "      <td>0</td>\n",
       "      <td>0</td>\n",
       "    </tr>\n",
       "    <tr>\n",
       "      <th>5</th>\n",
       "      <td>0</td>\n",
       "      <td>0</td>\n",
       "      <td>0</td>\n",
       "      <td>0</td>\n",
       "      <td>0</td>\n",
       "      <td>200</td>\n",
       "      <td>0</td>\n",
       "      <td>0</td>\n",
       "      <td>0</td>\n",
       "      <td>0</td>\n",
       "    </tr>\n",
       "    <tr>\n",
       "      <th>6</th>\n",
       "      <td>0</td>\n",
       "      <td>0</td>\n",
       "      <td>0</td>\n",
       "      <td>0</td>\n",
       "      <td>0</td>\n",
       "      <td>0</td>\n",
       "      <td>200</td>\n",
       "      <td>0</td>\n",
       "      <td>0</td>\n",
       "      <td>0</td>\n",
       "    </tr>\n",
       "    <tr>\n",
       "      <th>7</th>\n",
       "      <td>0</td>\n",
       "      <td>0</td>\n",
       "      <td>0</td>\n",
       "      <td>0</td>\n",
       "      <td>0</td>\n",
       "      <td>0</td>\n",
       "      <td>0</td>\n",
       "      <td>200</td>\n",
       "      <td>0</td>\n",
       "      <td>0</td>\n",
       "    </tr>\n",
       "    <tr>\n",
       "      <th>8</th>\n",
       "      <td>0</td>\n",
       "      <td>0</td>\n",
       "      <td>0</td>\n",
       "      <td>0</td>\n",
       "      <td>0</td>\n",
       "      <td>0</td>\n",
       "      <td>0</td>\n",
       "      <td>0</td>\n",
       "      <td>200</td>\n",
       "      <td>0</td>\n",
       "    </tr>\n",
       "    <tr>\n",
       "      <th>9</th>\n",
       "      <td>1</td>\n",
       "      <td>0</td>\n",
       "      <td>3</td>\n",
       "      <td>1</td>\n",
       "      <td>0</td>\n",
       "      <td>0</td>\n",
       "      <td>0</td>\n",
       "      <td>0</td>\n",
       "      <td>0</td>\n",
       "      <td>195</td>\n",
       "    </tr>\n",
       "  </tbody>\n",
       "</table>\n",
       "</div>"
      ],
      "text/plain": [
       "   Dutch  Russian  Indonesian  English  Turkish  Swedish  French  Romanian  \\\n",
       "0    199        0           0        0        0        0       0         0   \n",
       "1      0      197           0        3        0        0       0         0   \n",
       "2      0        0         197        3        0        0       0         0   \n",
       "3      0        0           0      200        0        0       0         0   \n",
       "4      0        0           1        1      198        0       0         0   \n",
       "5      0        0           0        0        0      200       0         0   \n",
       "6      0        0           0        0        0        0     200         0   \n",
       "7      0        0           0        0        0        0       0       200   \n",
       "8      0        0           0        0        0        0       0         0   \n",
       "9      1        0           3        1        0        0       0         0   \n",
       "\n",
       "   Arabic  Spanish  \n",
       "0       1        0  \n",
       "1       0        0  \n",
       "2       0        0  \n",
       "3       0        0  \n",
       "4       0        0  \n",
       "5       0        0  \n",
       "6       0        0  \n",
       "7       0        0  \n",
       "8     200        0  \n",
       "9       0      195  "
      ]
     },
     "execution_count": 62,
     "metadata": {},
     "output_type": "execute_result"
    }
   ],
   "source": [
    "pd.DataFrame(confusion_matrix(y_test, predicted_y, labels=[language.capitalize() for language in final_languages]), \n",
    "             columns=[language.capitalize() for language in final_languages])"
   ]
  },
  {
   "cell_type": "markdown",
   "metadata": {},
   "source": [
    "## Testing English"
   ]
  },
  {
   "cell_type": "code",
   "execution_count": 118,
   "metadata": {},
   "outputs": [],
   "source": [
    "def predict_language(text):\n",
    "    text = [text]\n",
    "    langs = sorted(y_train.unique())\n",
    "    print(\"Predicted Language: \" + text_pipeline.predict(text)[0])\n",
    "    pred_probs = text_pipeline.predict_proba(text)\n",
    "    pred_df = pd.DataFrame(pred_probs, columns=langs)\n",
    "    \n",
    "    # Plot the probablities\n",
    "    plt.figure(figsize=(12, 8))\n",
    "    plt.bar(x=langs, height=pred_probs.reshape(10,), width=0.8)\n",
    "    plt.show()"
   ]
  },
  {
   "cell_type": "code",
   "execution_count": 124,
   "metadata": {},
   "outputs": [
    {
     "name": "stdout",
     "output_type": "stream",
     "text": [
      "Predicted Language: English\n"
     ]
    },
    {
     "data": {
      "image/png": "[encoded data removed]",
      "text/plain": [
       "<Figure size 864x576 with 1 Axes>"
      ]
     },
     "metadata": {
      "needs_background": "light"
     },
     "output_type": "display_data"
    }
   ],
   "source": [
    "predict_language('i hope this algorithm works well')"
   ]
  },
  {
   "cell_type": "code",
   "execution_count": 63,
   "metadata": {},
   "outputs": [],
   "source": [
    "langs = sorted(y_train.unique())"
   ]
  },
  {
   "cell_type": "code",
   "execution_count": 112,
   "metadata": {},
   "outputs": [
    {
     "data": {
      "text/plain": [
       "array(['Indonesian'], dtype='<U10')"
      ]
     },
     "execution_count": 112,
     "metadata": {},
     "output_type": "execute_result"
    }
   ],
   "source": [
    "text_pipeline.predict(['hello how are you doing on this fine evening i am doing very well thank you for asking'])"
   ]
  },
  {
   "cell_type": "code",
   "execution_count": 113,
   "metadata": {},
   "outputs": [
    {
     "data": {
      "text/plain": [
       "array([[1.36048467e-04, 9.69165379e-02, 3.50514302e-01, 2.51531727e-04,\n",
       "        4.54629456e-01, 1.48485482e-03, 1.54399506e-04, 6.96935527e-04,\n",
       "        4.74322912e-04, 9.47416113e-02]])"
      ]
     },
     "execution_count": 113,
     "metadata": {},
     "output_type": "execute_result"
    }
   ],
   "source": [
    "text_pipeline.predict_proba(['hello how are you doing on this fine evening i am doing very well thank you for asking'])"
   ]
  },
  {
   "cell_type": "code",
   "execution_count": null,
   "metadata": {},
   "outputs": [],
   "source": []
  },
  {
   "cell_type": "code",
   "execution_count": 81,
   "metadata": {},
   "outputs": [
    {
     "data": {
      "text/plain": [
       "'English'"
      ]
     },
     "execution_count": 81,
     "metadata": {},
     "output_type": "execute_result"
    }
   ],
   "source": [
    "text_pipeline.predict(['let us see how well this thing performs'])[0]"
   ]
  },
  {
   "cell_type": "code",
   "execution_count": 65,
   "metadata": {},
   "outputs": [
    {
     "data": {
      "text/html": [
       "<div>\n",
       "<style scoped>\n",
       "    .dataframe tbody tr th:only-of-type {\n",
       "        vertical-align: middle;\n",
       "    }\n",
       "\n",
       "    .dataframe tbody tr th {\n",
       "        vertical-align: top;\n",
       "    }\n",
       "\n",
       "    .dataframe thead th {\n",
       "        text-align: right;\n",
       "    }\n",
       "</style>\n",
       "<table border=\"1\" class=\"dataframe\">\n",
       "  <thead>\n",
       "    <tr style=\"text-align: right;\">\n",
       "      <th></th>\n",
       "      <th>Arabic</th>\n",
       "      <th>Dutch</th>\n",
       "      <th>English</th>\n",
       "      <th>French</th>\n",
       "      <th>Indonesian</th>\n",
       "      <th>Romanian</th>\n",
       "      <th>Russian</th>\n",
       "      <th>Spanish</th>\n",
       "      <th>Swedish</th>\n",
       "      <th>Turkish</th>\n",
       "    </tr>\n",
       "  </thead>\n",
       "  <tbody>\n",
       "    <tr>\n",
       "      <th>0</th>\n",
       "      <td>3.150392e-07</td>\n",
       "      <td>0.000024</td>\n",
       "      <td>0.999943</td>\n",
       "      <td>0.000006</td>\n",
       "      <td>0.000008</td>\n",
       "      <td>8.966502e-07</td>\n",
       "      <td>0.000005</td>\n",
       "      <td>0.000006</td>\n",
       "      <td>0.000002</td>\n",
       "      <td>0.000004</td>\n",
       "    </tr>\n",
       "  </tbody>\n",
       "</table>\n",
       "</div>"
      ],
      "text/plain": [
       "         Arabic     Dutch   English    French  Indonesian      Romanian  \\\n",
       "0  3.150392e-07  0.000024  0.999943  0.000006    0.000008  8.966502e-07   \n",
       "\n",
       "    Russian   Spanish   Swedish   Turkish  \n",
       "0  0.000005  0.000006  0.000002  0.000004  "
      ]
     },
     "execution_count": 65,
     "metadata": {},
     "output_type": "execute_result"
    }
   ],
   "source": [
    "pred_probs = text_pipeline.predict_proba(['let us see how well this thing performs'])\n",
    "\n",
    "pd.DataFrame(pred_probs, columns=langs)"
   ]
  },
  {
   "cell_type": "markdown",
   "metadata": {},
   "source": [
    "## Testing French"
   ]
  },
  {
   "cell_type": "code",
   "execution_count": 66,
   "metadata": {},
   "outputs": [
    {
     "name": "stdout",
     "output_type": "stream",
     "text": [
      "['French']\n"
     ]
    }
   ],
   "source": [
    "print(text_pipeline.predict(['je veux savoir comment ce chose fait']))"
   ]
  },
  {
   "cell_type": "code",
   "execution_count": 67,
   "metadata": {},
   "outputs": [
    {
     "data": {
      "text/html": [
       "<div>\n",
       "<style scoped>\n",
       "    .dataframe tbody tr th:only-of-type {\n",
       "        vertical-align: middle;\n",
       "    }\n",
       "\n",
       "    .dataframe tbody tr th {\n",
       "        vertical-align: top;\n",
       "    }\n",
       "\n",
       "    .dataframe thead th {\n",
       "        text-align: right;\n",
       "    }\n",
       "</style>\n",
       "<table border=\"1\" class=\"dataframe\">\n",
       "  <thead>\n",
       "    <tr style=\"text-align: right;\">\n",
       "      <th></th>\n",
       "      <th>Arabic</th>\n",
       "      <th>Dutch</th>\n",
       "      <th>English</th>\n",
       "      <th>French</th>\n",
       "      <th>Indonesian</th>\n",
       "      <th>Romanian</th>\n",
       "      <th>Russian</th>\n",
       "      <th>Spanish</th>\n",
       "      <th>Swedish</th>\n",
       "      <th>Turkish</th>\n",
       "    </tr>\n",
       "  </thead>\n",
       "  <tbody>\n",
       "    <tr>\n",
       "      <th>0</th>\n",
       "      <td>0.000178</td>\n",
       "      <td>0.000422</td>\n",
       "      <td>0.00119</td>\n",
       "      <td>0.996131</td>\n",
       "      <td>0.000372</td>\n",
       "      <td>0.000389</td>\n",
       "      <td>0.0003</td>\n",
       "      <td>0.000358</td>\n",
       "      <td>0.000409</td>\n",
       "      <td>0.000251</td>\n",
       "    </tr>\n",
       "  </tbody>\n",
       "</table>\n",
       "</div>"
      ],
      "text/plain": [
       "     Arabic     Dutch  English    French  Indonesian  Romanian  Russian  \\\n",
       "0  0.000178  0.000422  0.00119  0.996131    0.000372  0.000389   0.0003   \n",
       "\n",
       "    Spanish   Swedish   Turkish  \n",
       "0  0.000358  0.000409  0.000251  "
      ]
     },
     "execution_count": 67,
     "metadata": {},
     "output_type": "execute_result"
    }
   ],
   "source": [
    "pred_probs = text_pipeline.predict_proba(['je veux savoir comment ce chose fait'])\n",
    "pd.DataFrame(pred_probs, columns=langs)"
   ]
  },
  {
   "cell_type": "code",
   "execution_count": 125,
   "metadata": {},
   "outputs": [
    {
     "name": "stdout",
     "output_type": "stream",
     "text": [
      "Predicted Language: French\n"
     ]
    },
    {
     "data": {
      "image/png": "[encoded data removed]",
      "text/plain": [
       "<Figure size 864x576 with 1 Axes>"
      ]
     },
     "metadata": {
      "needs_background": "light"
     },
     "output_type": "display_data"
    }
   ],
   "source": [
    "predict_language('je veux savoir comment ce chose fait')"
   ]
  },
  {
   "cell_type": "markdown",
   "metadata": {},
   "source": [
    "## Mixing languages..."
   ]
  },
  {
   "cell_type": "code",
   "execution_count": 68,
   "metadata": {},
   "outputs": [
    {
     "name": "stdout",
     "output_type": "stream",
     "text": [
      "['English']\n"
     ]
    }
   ],
   "source": [
    "print(text_pipeline.predict(['ok so I am going to try to trick this thing by writing in different languages.']))"
   ]
  },
  {
   "cell_type": "code",
   "execution_count": 126,
   "metadata": {},
   "outputs": [
    {
     "name": "stdout",
     "output_type": "stream",
     "text": [
      "Predicted Language: French\n"
     ]
    },
    {
     "data": {
      "image/png": "[encoded data removed]",
      "text/plain": [
       "<Figure size 864x576 with 1 Axes>"
      ]
     },
     "metadata": {
      "needs_background": "light"
     },
     "output_type": "display_data"
    }
   ],
   "source": [
    "predict_language('Daccord I think che non possiamo faire deux chose al mismo tiempo et definitely non due')"
   ]
  },
  {
   "cell_type": "code",
   "execution_count": 69,
   "metadata": {},
   "outputs": [
    {
     "name": "stdout",
     "output_type": "stream",
     "text": [
      "['French']\n"
     ]
    }
   ],
   "source": [
    "print(text_pipeline.predict(['Daccord I think che non possiamo faire deux chose al mismo tiempo et definitely non due']))"
   ]
  },
  {
   "cell_type": "code",
   "execution_count": 70,
   "metadata": {},
   "outputs": [
    {
     "name": "stdout",
     "output_type": "stream",
     "text": [
      "['French']\n"
     ]
    },
    {
     "data": {
      "text/html": [
       "<div>\n",
       "<style scoped>\n",
       "    .dataframe tbody tr th:only-of-type {\n",
       "        vertical-align: middle;\n",
       "    }\n",
       "\n",
       "    .dataframe tbody tr th {\n",
       "        vertical-align: top;\n",
       "    }\n",
       "\n",
       "    .dataframe thead th {\n",
       "        text-align: right;\n",
       "    }\n",
       "</style>\n",
       "<table border=\"1\" class=\"dataframe\">\n",
       "  <thead>\n",
       "    <tr style=\"text-align: right;\">\n",
       "      <th></th>\n",
       "      <th>Arabic</th>\n",
       "      <th>Dutch</th>\n",
       "      <th>English</th>\n",
       "      <th>French</th>\n",
       "      <th>Indonesian</th>\n",
       "      <th>Romanian</th>\n",
       "      <th>Russian</th>\n",
       "      <th>Spanish</th>\n",
       "      <th>Swedish</th>\n",
       "      <th>Turkish</th>\n",
       "    </tr>\n",
       "  </thead>\n",
       "  <tbody>\n",
       "    <tr>\n",
       "      <th>0</th>\n",
       "      <td>4.101190e-09</td>\n",
       "      <td>4.633271e-08</td>\n",
       "      <td>0.158973</td>\n",
       "      <td>0.840932</td>\n",
       "      <td>0.00004</td>\n",
       "      <td>0.000008</td>\n",
       "      <td>2.930306e-09</td>\n",
       "      <td>0.000046</td>\n",
       "      <td>7.584050e-08</td>\n",
       "      <td>2.448558e-08</td>\n",
       "    </tr>\n",
       "  </tbody>\n",
       "</table>\n",
       "</div>"
      ],
      "text/plain": [
       "         Arabic         Dutch   English    French  Indonesian  Romanian  \\\n",
       "0  4.101190e-09  4.633271e-08  0.158973  0.840932     0.00004  0.000008   \n",
       "\n",
       "        Russian   Spanish       Swedish       Turkish  \n",
       "0  2.930306e-09  0.000046  7.584050e-08  2.448558e-08  "
      ]
     },
     "execution_count": 70,
     "metadata": {},
     "output_type": "execute_result"
    }
   ],
   "source": [
    "print(text_pipeline.predict(['Daccord I think che non possiamo faire deux chose al mismo tiempo et definitely non due']))\n",
    "pred_probs = text_pipeline.predict_proba(['Daccord I think che non possiamo faire deux chose al mismo tiempo et definitely non due'])\n",
    "pd.DataFrame(pred_probs, columns=langs)"
   ]
  },
  {
   "cell_type": "code",
   "execution_count": 71,
   "metadata": {},
   "outputs": [],
   "source": [
    "pred_probs = pred_probs.reshape(10,)c"
   ]
  },
  {
   "cell_type": "code",
   "execution_count": 72,
   "metadata": {},
   "outputs": [
    {
     "data": {
      "image/png": "[encoded data removed]",
      "text/plain": [
       "<Figure size 864x576 with 1 Axes>"
      ]
     },
     "metadata": {
      "needs_background": "light"
     },
     "output_type": "display_data"
    }
   ],
   "source": [
    "plt.figure(figsize=(12, 8))\n",
    "plt.bar(x=langs, height=pred_probs, width=0.8)\n",
    "plt.show()"
   ]
  },
  {
   "cell_type": "code",
   "execution_count": null,
   "metadata": {},
   "outputs": [],
   "source": []
  },
  {
   "cell_type": "code",
   "execution_count": null,
   "metadata": {},
   "outputs": [],
   "source": []
  },
  {
   "cell_type": "markdown",
   "metadata": {},
   "source": [
    "## Trying Unknown Languages"
   ]
  },
  {
   "cell_type": "code",
   "execution_count": 262,
   "metadata": {},
   "outputs": [
    {
     "name": "stdout",
     "output_type": "stream",
     "text": [
      "['French']\n"
     ]
    },
    {
     "data": {
      "text/html": [
       "<div>\n",
       "<style scoped>\n",
       "    .dataframe tbody tr th:only-of-type {\n",
       "        vertical-align: middle;\n",
       "    }\n",
       "\n",
       "    .dataframe tbody tr th {\n",
       "        vertical-align: top;\n",
       "    }\n",
       "\n",
       "    .dataframe thead th {\n",
       "        text-align: right;\n",
       "    }\n",
       "</style>\n",
       "<table border=\"1\" class=\"dataframe\">\n",
       "  <thead>\n",
       "    <tr style=\"text-align: right;\">\n",
       "      <th></th>\n",
       "      <th>Arabic</th>\n",
       "      <th>Dutch</th>\n",
       "      <th>English</th>\n",
       "      <th>French</th>\n",
       "      <th>Indonesian</th>\n",
       "      <th>Romanian</th>\n",
       "      <th>Russian</th>\n",
       "      <th>Spanish</th>\n",
       "      <th>Swedish</th>\n",
       "      <th>Turkish</th>\n",
       "    </tr>\n",
       "  </thead>\n",
       "  <tbody>\n",
       "    <tr>\n",
       "      <th>0</th>\n",
       "      <td>0.000941</td>\n",
       "      <td>0.003353</td>\n",
       "      <td>0.05044</td>\n",
       "      <td>0.902777</td>\n",
       "      <td>0.013857</td>\n",
       "      <td>0.003176</td>\n",
       "      <td>0.001336</td>\n",
       "      <td>0.018016</td>\n",
       "      <td>0.004919</td>\n",
       "      <td>0.001184</td>\n",
       "    </tr>\n",
       "  </tbody>\n",
       "</table>\n",
       "</div>"
      ],
      "text/plain": [
       "     Arabic     Dutch  English    French  Indonesian  Romanian   Russian  \\\n",
       "0  0.000941  0.003353  0.05044  0.902777    0.013857  0.003176  0.001336   \n",
       "\n",
       "    Spanish   Swedish   Turkish  \n",
       "0  0.018016  0.004919  0.001184  "
      ]
     },
     "execution_count": 262,
     "metadata": {},
     "output_type": "execute_result"
    }
   ],
   "source": [
    "print(text_pipeline.predict(['Allora ci sono alcune persone che non capiscono italiano']))\n",
    "pred_probs = text_pipeline.predict_proba(['Allora ci sono alcune persone che non capiscono italiano'])\n",
    "pd.DataFrame(pred_probs, columns=langs)"
   ]
  },
  {
   "cell_type": "code",
   "execution_count": 291,
   "metadata": {},
   "outputs": [
    {
     "name": "stdout",
     "output_type": "stream",
     "text": [
      "['Arabic']\n"
     ]
    },
    {
     "data": {
      "text/html": [
       "<div>\n",
       "<style scoped>\n",
       "    .dataframe tbody tr th:only-of-type {\n",
       "        vertical-align: middle;\n",
       "    }\n",
       "\n",
       "    .dataframe tbody tr th {\n",
       "        vertical-align: top;\n",
       "    }\n",
       "\n",
       "    .dataframe thead th {\n",
       "        text-align: right;\n",
       "    }\n",
       "</style>\n",
       "<table border=\"1\" class=\"dataframe\">\n",
       "  <thead>\n",
       "    <tr style=\"text-align: right;\">\n",
       "      <th></th>\n",
       "      <th>Arabic</th>\n",
       "      <th>Dutch</th>\n",
       "      <th>English</th>\n",
       "      <th>French</th>\n",
       "      <th>Indonesian</th>\n",
       "      <th>Romanian</th>\n",
       "      <th>Russian</th>\n",
       "      <th>Spanish</th>\n",
       "      <th>Swedish</th>\n",
       "      <th>Turkish</th>\n",
       "    </tr>\n",
       "  </thead>\n",
       "  <tbody>\n",
       "    <tr>\n",
       "      <th>0</th>\n",
       "      <td>0.1</td>\n",
       "      <td>0.1</td>\n",
       "      <td>0.1</td>\n",
       "      <td>0.1</td>\n",
       "      <td>0.1</td>\n",
       "      <td>0.1</td>\n",
       "      <td>0.1</td>\n",
       "      <td>0.1</td>\n",
       "      <td>0.1</td>\n",
       "      <td>0.1</td>\n",
       "    </tr>\n",
       "  </tbody>\n",
       "</table>\n",
       "</div>"
      ],
      "text/plain": [
       "   Arabic  Dutch  English  French  Indonesian  Romanian  Russian  Spanish  \\\n",
       "0     0.1    0.1      0.1     0.1         0.1       0.1      0.1      0.1   \n",
       "\n",
       "   Swedish  Turkish  \n",
       "0      0.1      0.1  "
      ]
     },
     "execution_count": 291,
     "metadata": {},
     "output_type": "execute_result"
    }
   ],
   "source": [
    "print(text_pipeline.predict(['可能你听不懂']))\n",
    "pred_probs = text_pipeline.predict_proba(['可能你听不懂'])\n",
    "pd.DataFrame(pred_probs, columns=langs)"
   ]
  },
  {
   "cell_type": "code",
   "execution_count": 296,
   "metadata": {},
   "outputs": [
    {
     "data": {
      "image/png": "[encoded data removed]",
      "text/plain": [
       "<Figure size 864x576 with 1 Axes>"
      ]
     },
     "metadata": {
      "needs_background": "light"
     },
     "output_type": "display_data"
    }
   ],
   "source": [
    "pred_probs = pred_probs.reshape(10,)\n",
    "plt.figure(figsize=(12, 8))\n",
    "plt.bar(x=langs, height=pred_probs, width=0.8)\n",
    "plt.ylim([0,0.8])\n",
    "plt.show()"
   ]
  },
  {
   "cell_type": "code",
   "execution_count": null,
   "metadata": {},
   "outputs": [],
   "source": []
  },
  {
   "cell_type": "code",
   "execution_count": null,
   "metadata": {},
   "outputs": [],
   "source": []
  },
  {
   "cell_type": "code",
   "execution_count": null,
   "metadata": {},
   "outputs": [],
   "source": []
  },
  {
   "cell_type": "code",
   "execution_count": null,
   "metadata": {},
   "outputs": [],
   "source": []
  },
  {
   "cell_type": "code",
   "execution_count": 200,
   "metadata": {},
   "outputs": [],
   "source": [
    "clf = MultinomialNB()"
   ]
  },
  {
   "cell_type": "code",
   "execution_count": 201,
   "metadata": {},
   "outputs": [
    {
     "data": {
      "text/plain": [
       "MultinomialNB()"
      ]
     },
     "execution_count": 201,
     "metadata": {},
     "output_type": "execute_result"
    }
   ],
   "source": [
    "clf.fit(dtm1, y_train)"
   ]
  },
  {
   "cell_type": "code",
   "execution_count": null,
   "metadata": {},
   "outputs": [],
   "source": [
    "clf.predict(X_test)"
   ]
  },
  {
   "cell_type": "code",
   "execution_count": 202,
   "metadata": {},
   "outputs": [
    {
     "data": {
      "text/plain": [
       "9854    kucing hewan bersih merawat menjilati rambut s...\n",
       "7988    block iia advanced număr sateliți dotați posib...\n",
       "8386    cette formule vigueur jusquen partir saison - ...\n",
       "2137    schyrleus determined anticopernican foreword b...\n",
       "2266    august page announced google would spend $ bil...\n",
       "                              ...                        \n",
       "5908    voetbalwedstrijd tussen vrouwen noord-korea co...\n",
       "6656    omgivningarna runt vimy lake växer huvudsak bl...\n",
       "7597    one tribe hand drum e-mu procussion linn linnd...\n",
       "5615    استدعى الملك فاروق قادة الأحزاب السياسة محاولة...\n",
       "4188    ordnance bl inç cwt obüs birleşik krallık tara...\n",
       "Name: clean_text, Length: 2000, dtype: object"
      ]
     },
     "execution_count": 202,
     "metadata": {},
     "output_type": "execute_result"
    }
   ],
   "source": [
    "X_test"
   ]
  },
  {
   "cell_type": "code",
   "execution_count": null,
   "metadata": {},
   "outputs": [],
   "source": []
  },
  {
   "cell_type": "code",
   "execution_count": null,
   "metadata": {},
   "outputs": [],
   "source": []
  },
  {
   "cell_type": "code",
   "execution_count": null,
   "metadata": {},
   "outputs": [],
   "source": []
  },
  {
   "cell_type": "code",
   "execution_count": 42,
   "metadata": {},
   "outputs": [],
   "source": [
    "# new_df = pd.DataFrame(new_X.toarray(), columns=vec.get_feature_names())"
   ]
  },
  {
   "cell_type": "code",
   "execution_count": 43,
   "metadata": {},
   "outputs": [],
   "source": [
    "# mat = scipy.sparse.eye(3)\n",
    "dtm = pd.DataFrame.sparse.from_spmatrix(new_X, columns=vec.get_feature_names())"
   ]
  },
  {
   "cell_type": "code",
   "execution_count": 44,
   "metadata": {},
   "outputs": [
    {
     "data": {
      "text/html": [
       "<div>\n",
       "<style scoped>\n",
       "    .dataframe tbody tr th:only-of-type {\n",
       "        vertical-align: middle;\n",
       "    }\n",
       "\n",
       "    .dataframe tbody tr th {\n",
       "        vertical-align: top;\n",
       "    }\n",
       "\n",
       "    .dataframe thead th {\n",
       "        text-align: right;\n",
       "    }\n",
       "</style>\n",
       "<table border=\"1\" class=\"dataframe\">\n",
       "  <thead>\n",
       "    <tr style=\"text-align: right;\">\n",
       "      <th></th>\n",
       "      <th>aa</th>\n",
       "      <th>aaa</th>\n",
       "      <th>aabdel</th>\n",
       "      <th>aac</th>\n",
       "      <th>aadlimarssal</th>\n",
       "      <th>aadlimatriklisse</th>\n",
       "      <th>aadlisoost</th>\n",
       "      <th>aadlitiitli</th>\n",
       "      <th>aadressil</th>\n",
       "      <th>aaea</th>\n",
       "      <th>...</th>\n",
       "      <th>ﻭﻟﯿﺪﯼ</th>\n",
       "      <th>ﻭﻣﺎﺗﻪ</th>\n",
       "      <th>ﻭﻧﻪ</th>\n",
       "      <th>ﻭﻭﯾﻨﻢ</th>\n",
       "      <th>ﻭﻭﺍﯾﺎﺳﺖ</th>\n",
       "      <th>ﻭﻭﻫﯽ</th>\n",
       "      <th>ﻭﻱ</th>\n",
       "      <th>ﻭﻻړﯼ</th>\n",
       "      <th>ﻻﺗﺮﺍﻭﺳﻪ</th>\n",
       "      <th>ﻻﺳﻮﻧﻪ</th>\n",
       "    </tr>\n",
       "  </thead>\n",
       "  <tbody>\n",
       "    <tr>\n",
       "      <th>0</th>\n",
       "      <td>0</td>\n",
       "      <td>0</td>\n",
       "      <td>0</td>\n",
       "      <td>0</td>\n",
       "      <td>0</td>\n",
       "      <td>0</td>\n",
       "      <td>0</td>\n",
       "      <td>0</td>\n",
       "      <td>0</td>\n",
       "      <td>0</td>\n",
       "      <td>...</td>\n",
       "      <td>0</td>\n",
       "      <td>0</td>\n",
       "      <td>0</td>\n",
       "      <td>0</td>\n",
       "      <td>0</td>\n",
       "      <td>0</td>\n",
       "      <td>0</td>\n",
       "      <td>0</td>\n",
       "      <td>0</td>\n",
       "      <td>0</td>\n",
       "    </tr>\n",
       "    <tr>\n",
       "      <th>1</th>\n",
       "      <td>0</td>\n",
       "      <td>0</td>\n",
       "      <td>0</td>\n",
       "      <td>0</td>\n",
       "      <td>0</td>\n",
       "      <td>0</td>\n",
       "      <td>0</td>\n",
       "      <td>0</td>\n",
       "      <td>0</td>\n",
       "      <td>0</td>\n",
       "      <td>...</td>\n",
       "      <td>0</td>\n",
       "      <td>0</td>\n",
       "      <td>0</td>\n",
       "      <td>0</td>\n",
       "      <td>0</td>\n",
       "      <td>0</td>\n",
       "      <td>0</td>\n",
       "      <td>0</td>\n",
       "      <td>0</td>\n",
       "      <td>0</td>\n",
       "    </tr>\n",
       "    <tr>\n",
       "      <th>2</th>\n",
       "      <td>0</td>\n",
       "      <td>0</td>\n",
       "      <td>0</td>\n",
       "      <td>0</td>\n",
       "      <td>0</td>\n",
       "      <td>0</td>\n",
       "      <td>0</td>\n",
       "      <td>0</td>\n",
       "      <td>0</td>\n",
       "      <td>0</td>\n",
       "      <td>...</td>\n",
       "      <td>0</td>\n",
       "      <td>0</td>\n",
       "      <td>0</td>\n",
       "      <td>0</td>\n",
       "      <td>0</td>\n",
       "      <td>0</td>\n",
       "      <td>0</td>\n",
       "      <td>0</td>\n",
       "      <td>0</td>\n",
       "      <td>0</td>\n",
       "    </tr>\n",
       "    <tr>\n",
       "      <th>3</th>\n",
       "      <td>0</td>\n",
       "      <td>0</td>\n",
       "      <td>0</td>\n",
       "      <td>0</td>\n",
       "      <td>0</td>\n",
       "      <td>0</td>\n",
       "      <td>0</td>\n",
       "      <td>0</td>\n",
       "      <td>0</td>\n",
       "      <td>0</td>\n",
       "      <td>...</td>\n",
       "      <td>0</td>\n",
       "      <td>0</td>\n",
       "      <td>0</td>\n",
       "      <td>0</td>\n",
       "      <td>0</td>\n",
       "      <td>0</td>\n",
       "      <td>0</td>\n",
       "      <td>0</td>\n",
       "      <td>0</td>\n",
       "      <td>0</td>\n",
       "    </tr>\n",
       "    <tr>\n",
       "      <th>4</th>\n",
       "      <td>0</td>\n",
       "      <td>0</td>\n",
       "      <td>0</td>\n",
       "      <td>0</td>\n",
       "      <td>0</td>\n",
       "      <td>0</td>\n",
       "      <td>0</td>\n",
       "      <td>0</td>\n",
       "      <td>0</td>\n",
       "      <td>0</td>\n",
       "      <td>...</td>\n",
       "      <td>0</td>\n",
       "      <td>0</td>\n",
       "      <td>0</td>\n",
       "      <td>0</td>\n",
       "      <td>0</td>\n",
       "      <td>0</td>\n",
       "      <td>0</td>\n",
       "      <td>0</td>\n",
       "      <td>0</td>\n",
       "      <td>0</td>\n",
       "    </tr>\n",
       "  </tbody>\n",
       "</table>\n",
       "<p>5 rows × 237625 columns</p>\n",
       "</div>"
      ],
      "text/plain": [
       "   aa  aaa  aabdel  aac  aadlimarssal  aadlimatriklisse  aadlisoost  \\\n",
       "0   0    0       0    0             0                 0           0   \n",
       "1   0    0       0    0             0                 0           0   \n",
       "2   0    0       0    0             0                 0           0   \n",
       "3   0    0       0    0             0                 0           0   \n",
       "4   0    0       0    0             0                 0           0   \n",
       "\n",
       "   aadlitiitli  aadressil  aaea  ...  ﻭﻟﯿﺪﯼ  ﻭﻣﺎﺗﻪ  ﻭﻧﻪ  ﻭﻭﯾﻨﻢ  ﻭﻭﺍﯾﺎﺳﺖ  ﻭﻭﻫﯽ  \\\n",
       "0            0          0     0  ...      0      0    0      0        0     0   \n",
       "1            0          0     0  ...      0      0    0      0        0     0   \n",
       "2            0          0     0  ...      0      0    0      0        0     0   \n",
       "3            0          0     0  ...      0      0    0      0        0     0   \n",
       "4            0          0     0  ...      0      0    0      0        0     0   \n",
       "\n",
       "   ﻭﻱ  ﻭﻻړﯼ  ﻻﺗﺮﺍﻭﺳﻪ  ﻻﺳﻮﻧﻪ  \n",
       "0   0     0        0      0  \n",
       "1   0     0        0      0  \n",
       "2   0     0        0      0  \n",
       "3   0     0        0      0  \n",
       "4   0     0        0      0  \n",
       "\n",
       "[5 rows x 237625 columns]"
      ]
     },
     "execution_count": 44,
     "metadata": {},
     "output_type": "execute_result"
    }
   ],
   "source": [
    "dtm.head()"
   ]
  },
  {
   "cell_type": "markdown",
   "metadata": {},
   "source": [
    "### First, I will train without splitting the sentences"
   ]
  },
  {
   "cell_type": "code",
   "execution_count": 5,
   "metadata": {},
   "outputs": [],
   "source": [
    "X_train, X_test, y_train, y_test = train_test_split(\n",
    "    df.Text, df.language, test_size=0.2, random_state=42, \n",
    "    shuffle=True, stratify=df.language\n",
    ")"
   ]
  },
  {
   "cell_type": "code",
   "execution_count": 6,
   "metadata": {},
   "outputs": [],
   "source": [
    "# y_test.value_counts(normalize=True)"
   ]
  },
  {
   "cell_type": "code",
   "execution_count": null,
   "metadata": {},
   "outputs": [],
   "source": []
  },
  {
   "cell_type": "code",
   "execution_count": null,
   "metadata": {},
   "outputs": [],
   "source": []
  },
  {
   "cell_type": "markdown",
   "metadata": {},
   "source": [
    "### Next, I will tokenize the words"
   ]
  },
  {
   "cell_type": "code",
   "execution_count": null,
   "metadata": {},
   "outputs": [],
   "source": []
  }
 ],
 "metadata": {
  "kernelspec": {
   "display_name": "Python 3",
   "language": "python",
   "name": "python3"
  },
  "language_info": {
   "codemirror_mode": {
    "name": "ipython",
    "version": 3
   },
   "file_extension": ".py",
   "mimetype": "text/x-python",
   "name": "python",
   "nbconvert_exporter": "python",
   "pygments_lexer": "ipython3",
   "version": "3.7.0"
  }
 },
 "nbformat": 4,
 "nbformat_minor": 2
}
