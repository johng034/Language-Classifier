{
 "cells": [
  {
   "cell_type": "markdown",
   "metadata": {},
   "source": [
    "# Data Modeling"
   ]
  },
  {
   "cell_type": "code",
   "execution_count": 1,
   "metadata": {},
   "outputs": [],
   "source": [
    "import pickle\n",
    "import numpy as np\n",
    "import pandas as pd\n",
    "import matplotlib.pyplot as plt\n",
    "\n",
    "# Preprocess data\n",
    "from sklearn.model_selection import train_test_split\n",
    "from sklearn.feature_extraction.text import CountVectorizer\n",
    "\n",
    "# Modeling\n",
    "from sklearn.pipeline import Pipeline\n",
    "from sklearn.neighbors import KNeighborsClassifier\n",
    "from sklearn.naive_bayes import MultinomialNB\n",
    "from sklearn.ensemble import RandomForestClassifier\n",
    "\n",
    "# Measure performance\n",
    "from sklearn.model_selection import cross_val_predict\n",
    "from sklearn.metrics import confusion_matrix, f1_score, accuracy_score, classification_report"
   ]
  },
  {
   "cell_type": "code",
   "execution_count": 2,
   "metadata": {},
   "outputs": [
    {
     "data": {
      "text/html": [
       "<div>\n",
       "<style scoped>\n",
       "    .dataframe tbody tr th:only-of-type {\n",
       "        vertical-align: middle;\n",
       "    }\n",
       "\n",
       "    .dataframe tbody tr th {\n",
       "        vertical-align: top;\n",
       "    }\n",
       "\n",
       "    .dataframe thead th {\n",
       "        text-align: right;\n",
       "    }\n",
       "</style>\n",
       "<table border=\"1\" class=\"dataframe\">\n",
       "  <thead>\n",
       "    <tr style=\"text-align: right;\">\n",
       "      <th></th>\n",
       "      <th>text</th>\n",
       "      <th>language</th>\n",
       "      <th>cleaned_text</th>\n",
       "    </tr>\n",
       "  </thead>\n",
       "  <tbody>\n",
       "    <tr>\n",
       "      <th>0</th>\n",
       "      <td>Sebes, Joseph; Pereira Thomas (1961) (på eng)....</td>\n",
       "      <td>Swedish</td>\n",
       "      <td>sebes joseph pereira thomas på eng the jesuits...</td>\n",
       "    </tr>\n",
       "    <tr>\n",
       "      <th>1</th>\n",
       "      <td>Theokritos herdediktning har tjänat som förebi...</td>\n",
       "      <td>Swedish</td>\n",
       "      <td>theokritos herdediktning har tjänat som förebi...</td>\n",
       "    </tr>\n",
       "    <tr>\n",
       "      <th>2</th>\n",
       "      <td>Gatunätet i Lunds stadskärna är på många ställ...</td>\n",
       "      <td>Swedish</td>\n",
       "      <td>gatunätet i lunds stadskärna är på många ställ...</td>\n",
       "    </tr>\n",
       "    <tr>\n",
       "      <th>3</th>\n",
       "      <td>Detta fortskred under första halvan av seklet....</td>\n",
       "      <td>Swedish</td>\n",
       "      <td>detta fortskred under första halvan av seklet ...</td>\n",
       "    </tr>\n",
       "    <tr>\n",
       "      <th>4</th>\n",
       "      <td>Jesper Roine, född 1971, är en svensk national...</td>\n",
       "      <td>Swedish</td>\n",
       "      <td>jesper roine född är en svensk nationalekonom ...</td>\n",
       "    </tr>\n",
       "  </tbody>\n",
       "</table>\n",
       "</div>"
      ],
      "text/plain": [
       "                                                text language  \\\n",
       "0  Sebes, Joseph; Pereira Thomas (1961) (på eng)....  Swedish   \n",
       "1  Theokritos herdediktning har tjänat som förebi...  Swedish   \n",
       "2  Gatunätet i Lunds stadskärna är på många ställ...  Swedish   \n",
       "3  Detta fortskred under första halvan av seklet....  Swedish   \n",
       "4  Jesper Roine, född 1971, är en svensk national...  Swedish   \n",
       "\n",
       "                                        cleaned_text  \n",
       "0  sebes joseph pereira thomas på eng the jesuits...  \n",
       "1  theokritos herdediktning har tjänat som förebi...  \n",
       "2  gatunätet i lunds stadskärna är på många ställ...  \n",
       "3  detta fortskred under första halvan av seklet ...  \n",
       "4  jesper roine född är en svensk nationalekonom ...  "
      ]
     },
     "execution_count": 2,
     "metadata": {},
     "output_type": "execute_result"
    }
   ],
   "source": [
    "df = pd.read_pickle(\"./saved-items/cleaned_df.pkl\")\n",
    "\n",
    "df.head()"
   ]
  },
  {
   "cell_type": "code",
   "execution_count": 3,
   "metadata": {
    "scrolled": true
   },
   "outputs": [
    {
     "data": {
      "text/plain": [
       "Spanish       1000\n",
       "Indonesian    1000\n",
       "Swedish       1000\n",
       "Romanian      1000\n",
       "Portuguese    1000\n",
       "French        1000\n",
       "German        1000\n",
       "Italian       1000\n",
       "Dutch         1000\n",
       "English       1000\n",
       "Name: language, dtype: int64"
      ]
     },
     "execution_count": 3,
     "metadata": {},
     "output_type": "execute_result"
    }
   ],
   "source": [
    "df.language.value_counts()"
   ]
  },
  {
   "cell_type": "markdown",
   "metadata": {},
   "source": [
    "## Split the Data"
   ]
  },
  {
   "cell_type": "markdown",
   "metadata": {},
   "source": [
    "We will split the data into a training set and a testing set. The proportions will be 70% training and 30% test set."
   ]
  },
  {
   "cell_type": "code",
   "execution_count": 4,
   "metadata": {},
   "outputs": [],
   "source": [
    "X_train, X_test, y_train, y_test = train_test_split(\n",
    "    df.cleaned_text, df.language, test_size=0.3, random_state=42, \n",
    "    shuffle=True, stratify=df.language\n",
    ")"
   ]
  },
  {
   "cell_type": "markdown",
   "metadata": {},
   "source": [
    "# List of Algorithms To Try\n",
    "- k-Nearest Neighbors\n",
    "- Naive Bayes\n",
    "- Random Forest"
   ]
  },
  {
   "cell_type": "markdown",
   "metadata": {},
   "source": [
    "## K-Nearest Neighbors"
   ]
  },
  {
   "cell_type": "code",
   "execution_count": 5,
   "metadata": {},
   "outputs": [],
   "source": [
    "knn_pipeline = Pipeline([\n",
    "    ('vector', CountVectorizer()),\n",
    "    ('knn', KNeighborsClassifier(weights='distance'))\n",
    "])"
   ]
  },
  {
   "cell_type": "code",
   "execution_count": 6,
   "metadata": {},
   "outputs": [
    {
     "data": {
      "text/plain": [
       "Pipeline(steps=[('vector', CountVectorizer()),\n",
       "                ('knn', KNeighborsClassifier(weights='distance'))])"
      ]
     },
     "execution_count": 6,
     "metadata": {},
     "output_type": "execute_result"
    }
   ],
   "source": [
    "knn_pipeline.fit(X_train, y_train)"
   ]
  },
  {
   "cell_type": "code",
   "execution_count": 7,
   "metadata": {},
   "outputs": [
    {
     "data": {
      "text/html": [
       "<div>\n",
       "<style scoped>\n",
       "    .dataframe tbody tr th:only-of-type {\n",
       "        vertical-align: middle;\n",
       "    }\n",
       "\n",
       "    .dataframe tbody tr th {\n",
       "        vertical-align: top;\n",
       "    }\n",
       "\n",
       "    .dataframe thead th {\n",
       "        text-align: right;\n",
       "    }\n",
       "</style>\n",
       "<table border=\"1\" class=\"dataframe\">\n",
       "  <thead>\n",
       "    <tr style=\"text-align: right;\">\n",
       "      <th></th>\n",
       "      <th>Dutch</th>\n",
       "      <th>English</th>\n",
       "      <th>French</th>\n",
       "      <th>German</th>\n",
       "      <th>Indonesian</th>\n",
       "      <th>Italian</th>\n",
       "      <th>Portuguese</th>\n",
       "      <th>Romanian</th>\n",
       "      <th>Spanish</th>\n",
       "      <th>Swedish</th>\n",
       "    </tr>\n",
       "  </thead>\n",
       "  <tbody>\n",
       "    <tr>\n",
       "      <th>Dutch</th>\n",
       "      <td>665</td>\n",
       "      <td>0</td>\n",
       "      <td>14</td>\n",
       "      <td>10</td>\n",
       "      <td>0</td>\n",
       "      <td>3</td>\n",
       "      <td>2</td>\n",
       "      <td>0</td>\n",
       "      <td>6</td>\n",
       "      <td>0</td>\n",
       "    </tr>\n",
       "    <tr>\n",
       "      <th>English</th>\n",
       "      <td>14</td>\n",
       "      <td>590</td>\n",
       "      <td>0</td>\n",
       "      <td>23</td>\n",
       "      <td>2</td>\n",
       "      <td>3</td>\n",
       "      <td>62</td>\n",
       "      <td>4</td>\n",
       "      <td>2</td>\n",
       "      <td>0</td>\n",
       "    </tr>\n",
       "    <tr>\n",
       "      <th>French</th>\n",
       "      <td>0</td>\n",
       "      <td>2</td>\n",
       "      <td>668</td>\n",
       "      <td>16</td>\n",
       "      <td>0</td>\n",
       "      <td>0</td>\n",
       "      <td>2</td>\n",
       "      <td>0</td>\n",
       "      <td>12</td>\n",
       "      <td>0</td>\n",
       "    </tr>\n",
       "    <tr>\n",
       "      <th>German</th>\n",
       "      <td>1</td>\n",
       "      <td>0</td>\n",
       "      <td>5</td>\n",
       "      <td>691</td>\n",
       "      <td>0</td>\n",
       "      <td>0</td>\n",
       "      <td>0</td>\n",
       "      <td>0</td>\n",
       "      <td>3</td>\n",
       "      <td>0</td>\n",
       "    </tr>\n",
       "    <tr>\n",
       "      <th>Indonesian</th>\n",
       "      <td>3</td>\n",
       "      <td>5</td>\n",
       "      <td>2</td>\n",
       "      <td>81</td>\n",
       "      <td>576</td>\n",
       "      <td>29</td>\n",
       "      <td>2</td>\n",
       "      <td>1</td>\n",
       "      <td>1</td>\n",
       "      <td>0</td>\n",
       "    </tr>\n",
       "    <tr>\n",
       "      <th>Italian</th>\n",
       "      <td>2</td>\n",
       "      <td>3</td>\n",
       "      <td>1</td>\n",
       "      <td>71</td>\n",
       "      <td>0</td>\n",
       "      <td>618</td>\n",
       "      <td>1</td>\n",
       "      <td>2</td>\n",
       "      <td>2</td>\n",
       "      <td>0</td>\n",
       "    </tr>\n",
       "    <tr>\n",
       "      <th>Portuguese</th>\n",
       "      <td>5</td>\n",
       "      <td>2</td>\n",
       "      <td>0</td>\n",
       "      <td>49</td>\n",
       "      <td>0</td>\n",
       "      <td>0</td>\n",
       "      <td>636</td>\n",
       "      <td>4</td>\n",
       "      <td>4</td>\n",
       "      <td>0</td>\n",
       "    </tr>\n",
       "    <tr>\n",
       "      <th>Romanian</th>\n",
       "      <td>2</td>\n",
       "      <td>2</td>\n",
       "      <td>6</td>\n",
       "      <td>31</td>\n",
       "      <td>1</td>\n",
       "      <td>2</td>\n",
       "      <td>3</td>\n",
       "      <td>644</td>\n",
       "      <td>9</td>\n",
       "      <td>0</td>\n",
       "    </tr>\n",
       "    <tr>\n",
       "      <th>Spanish</th>\n",
       "      <td>4</td>\n",
       "      <td>2</td>\n",
       "      <td>43</td>\n",
       "      <td>15</td>\n",
       "      <td>0</td>\n",
       "      <td>2</td>\n",
       "      <td>8</td>\n",
       "      <td>1</td>\n",
       "      <td>625</td>\n",
       "      <td>0</td>\n",
       "    </tr>\n",
       "    <tr>\n",
       "      <th>Swedish</th>\n",
       "      <td>3</td>\n",
       "      <td>1</td>\n",
       "      <td>9</td>\n",
       "      <td>31</td>\n",
       "      <td>0</td>\n",
       "      <td>0</td>\n",
       "      <td>0</td>\n",
       "      <td>2</td>\n",
       "      <td>2</td>\n",
       "      <td>652</td>\n",
       "    </tr>\n",
       "  </tbody>\n",
       "</table>\n",
       "</div>"
      ],
      "text/plain": [
       "            Dutch  English  French  German  Indonesian  Italian  Portuguese  \\\n",
       "Dutch         665        0      14      10           0        3           2   \n",
       "English        14      590       0      23           2        3          62   \n",
       "French          0        2     668      16           0        0           2   \n",
       "German          1        0       5     691           0        0           0   \n",
       "Indonesian      3        5       2      81         576       29           2   \n",
       "Italian         2        3       1      71           0      618           1   \n",
       "Portuguese      5        2       0      49           0        0         636   \n",
       "Romanian        2        2       6      31           1        2           3   \n",
       "Spanish         4        2      43      15           0        2           8   \n",
       "Swedish         3        1       9      31           0        0           0   \n",
       "\n",
       "            Romanian  Spanish  Swedish  \n",
       "Dutch              0        6        0  \n",
       "English            4        2        0  \n",
       "French             0       12        0  \n",
       "German             0        3        0  \n",
       "Indonesian         1        1        0  \n",
       "Italian            2        2        0  \n",
       "Portuguese         4        4        0  \n",
       "Romanian         644        9        0  \n",
       "Spanish            1      625        0  \n",
       "Swedish            2        2      652  "
      ]
     },
     "execution_count": 7,
     "metadata": {},
     "output_type": "execute_result"
    }
   ],
   "source": [
    "y_train_pred = cross_val_predict(knn_pipeline, X_train, y_train, cv=5)\n",
    "\n",
    "pd.DataFrame(confusion_matrix(y_train, y_train_pred), columns=knn_pipeline.classes_, index=knn_pipeline.classes_)"
   ]
  },
  {
   "cell_type": "code",
   "execution_count": 8,
   "metadata": {},
   "outputs": [
    {
     "data": {
      "image/png": "[encoded data removed]",
      "text/plain": [
       "<Figure size 288x288 with 1 Axes>"
      ]
     },
     "metadata": {
      "needs_background": "light"
     },
     "output_type": "display_data"
    }
   ],
   "source": [
    "conf_mat = confusion_matrix(y_train, y_train_pred)\n",
    "plt.matshow(conf_mat, cmap=plt.cm.gray)\n",
    "plt.xticks(ticks=np.arange(10), labels=knn_pipeline.classes_, rotation=45, ha='left')\n",
    "plt.yticks(ticks=np.arange(10), labels=knn_pipeline.classes_)\n",
    "plt.show()"
   ]
  },
  {
   "cell_type": "code",
   "execution_count": 9,
   "metadata": {},
   "outputs": [
    {
     "name": "stdout",
     "output_type": "stream",
     "text": [
      "              precision    recall  f1-score   support\n",
      "\n",
      "       Dutch      0.951     0.950     0.951       700\n",
      "     English      0.972     0.843     0.903       700\n",
      "      French      0.893     0.954     0.923       700\n",
      "      German      0.679     0.987     0.804       700\n",
      "  Indonesian      0.995     0.823     0.901       700\n",
      "     Italian      0.941     0.883     0.911       700\n",
      "  Portuguese      0.888     0.909     0.898       700\n",
      "    Romanian      0.979     0.920     0.948       700\n",
      "     Spanish      0.938     0.893     0.915       700\n",
      "     Swedish      1.000     0.931     0.964       700\n",
      "\n",
      "    accuracy                          0.909      7000\n",
      "   macro avg      0.924     0.909     0.912      7000\n",
      "weighted avg      0.924     0.909     0.912      7000\n",
      "\n"
     ]
    }
   ],
   "source": [
    "# Classification Report\n",
    "print(classification_report(y_train, y_train_pred, target_names=knn_pipeline.classes_, digits=3))\n",
    "\n",
    "# F1 Score and Accuracy\n",
    "knn_f1_score = f1_score(y_train, y_train_pred, average='macro')\n",
    "knn_accuracy = accuracy_score(y_train, y_train_pred)"
   ]
  },
  {
   "cell_type": "markdown",
   "metadata": {},
   "source": [
    "## Multinomial Naive Bayes"
   ]
  },
  {
   "cell_type": "code",
   "execution_count": 10,
   "metadata": {},
   "outputs": [],
   "source": [
    "naive_pipeline = Pipeline([\n",
    "    ('vector', CountVectorizer()),\n",
    "    ('naive_bayes', MultinomialNB(alpha=0.01))\n",
    "])"
   ]
  },
  {
   "cell_type": "code",
   "execution_count": 11,
   "metadata": {},
   "outputs": [
    {
     "data": {
      "text/plain": [
       "Pipeline(steps=[('vector', CountVectorizer()),\n",
       "                ('naive_bayes', MultinomialNB(alpha=0.01))])"
      ]
     },
     "execution_count": 11,
     "metadata": {},
     "output_type": "execute_result"
    }
   ],
   "source": [
    "naive_pipeline.fit(X_train, y_train)"
   ]
  },
  {
   "cell_type": "code",
   "execution_count": 12,
   "metadata": {},
   "outputs": [
    {
     "data": {
      "text/html": [
       "<div>\n",
       "<style scoped>\n",
       "    .dataframe tbody tr th:only-of-type {\n",
       "        vertical-align: middle;\n",
       "    }\n",
       "\n",
       "    .dataframe tbody tr th {\n",
       "        vertical-align: top;\n",
       "    }\n",
       "\n",
       "    .dataframe thead th {\n",
       "        text-align: right;\n",
       "    }\n",
       "</style>\n",
       "<table border=\"1\" class=\"dataframe\">\n",
       "  <thead>\n",
       "    <tr style=\"text-align: right;\">\n",
       "      <th></th>\n",
       "      <th>Dutch</th>\n",
       "      <th>English</th>\n",
       "      <th>French</th>\n",
       "      <th>German</th>\n",
       "      <th>Indonesian</th>\n",
       "      <th>Italian</th>\n",
       "      <th>Portuguese</th>\n",
       "      <th>Romanian</th>\n",
       "      <th>Spanish</th>\n",
       "      <th>Swedish</th>\n",
       "    </tr>\n",
       "  </thead>\n",
       "  <tbody>\n",
       "    <tr>\n",
       "      <th>Dutch</th>\n",
       "      <td>689</td>\n",
       "      <td>1</td>\n",
       "      <td>6</td>\n",
       "      <td>2</td>\n",
       "      <td>0</td>\n",
       "      <td>2</td>\n",
       "      <td>0</td>\n",
       "      <td>0</td>\n",
       "      <td>0</td>\n",
       "      <td>0</td>\n",
       "    </tr>\n",
       "    <tr>\n",
       "      <th>English</th>\n",
       "      <td>0</td>\n",
       "      <td>700</td>\n",
       "      <td>0</td>\n",
       "      <td>0</td>\n",
       "      <td>0</td>\n",
       "      <td>0</td>\n",
       "      <td>0</td>\n",
       "      <td>0</td>\n",
       "      <td>0</td>\n",
       "      <td>0</td>\n",
       "    </tr>\n",
       "    <tr>\n",
       "      <th>French</th>\n",
       "      <td>0</td>\n",
       "      <td>2</td>\n",
       "      <td>696</td>\n",
       "      <td>0</td>\n",
       "      <td>0</td>\n",
       "      <td>0</td>\n",
       "      <td>1</td>\n",
       "      <td>0</td>\n",
       "      <td>1</td>\n",
       "      <td>0</td>\n",
       "    </tr>\n",
       "    <tr>\n",
       "      <th>German</th>\n",
       "      <td>1</td>\n",
       "      <td>0</td>\n",
       "      <td>5</td>\n",
       "      <td>693</td>\n",
       "      <td>0</td>\n",
       "      <td>0</td>\n",
       "      <td>0</td>\n",
       "      <td>0</td>\n",
       "      <td>1</td>\n",
       "      <td>0</td>\n",
       "    </tr>\n",
       "    <tr>\n",
       "      <th>Indonesian</th>\n",
       "      <td>0</td>\n",
       "      <td>10</td>\n",
       "      <td>0</td>\n",
       "      <td>4</td>\n",
       "      <td>686</td>\n",
       "      <td>0</td>\n",
       "      <td>0</td>\n",
       "      <td>0</td>\n",
       "      <td>0</td>\n",
       "      <td>0</td>\n",
       "    </tr>\n",
       "    <tr>\n",
       "      <th>Italian</th>\n",
       "      <td>0</td>\n",
       "      <td>5</td>\n",
       "      <td>0</td>\n",
       "      <td>2</td>\n",
       "      <td>0</td>\n",
       "      <td>693</td>\n",
       "      <td>0</td>\n",
       "      <td>0</td>\n",
       "      <td>0</td>\n",
       "      <td>0</td>\n",
       "    </tr>\n",
       "    <tr>\n",
       "      <th>Portuguese</th>\n",
       "      <td>0</td>\n",
       "      <td>17</td>\n",
       "      <td>0</td>\n",
       "      <td>1</td>\n",
       "      <td>0</td>\n",
       "      <td>1</td>\n",
       "      <td>681</td>\n",
       "      <td>0</td>\n",
       "      <td>0</td>\n",
       "      <td>0</td>\n",
       "    </tr>\n",
       "    <tr>\n",
       "      <th>Romanian</th>\n",
       "      <td>0</td>\n",
       "      <td>6</td>\n",
       "      <td>1</td>\n",
       "      <td>0</td>\n",
       "      <td>0</td>\n",
       "      <td>1</td>\n",
       "      <td>0</td>\n",
       "      <td>692</td>\n",
       "      <td>0</td>\n",
       "      <td>0</td>\n",
       "    </tr>\n",
       "    <tr>\n",
       "      <th>Spanish</th>\n",
       "      <td>0</td>\n",
       "      <td>5</td>\n",
       "      <td>2</td>\n",
       "      <td>2</td>\n",
       "      <td>0</td>\n",
       "      <td>1</td>\n",
       "      <td>1</td>\n",
       "      <td>1</td>\n",
       "      <td>688</td>\n",
       "      <td>0</td>\n",
       "    </tr>\n",
       "    <tr>\n",
       "      <th>Swedish</th>\n",
       "      <td>0</td>\n",
       "      <td>1</td>\n",
       "      <td>0</td>\n",
       "      <td>0</td>\n",
       "      <td>0</td>\n",
       "      <td>0</td>\n",
       "      <td>0</td>\n",
       "      <td>0</td>\n",
       "      <td>0</td>\n",
       "      <td>699</td>\n",
       "    </tr>\n",
       "  </tbody>\n",
       "</table>\n",
       "</div>"
      ],
      "text/plain": [
       "            Dutch  English  French  German  Indonesian  Italian  Portuguese  \\\n",
       "Dutch         689        1       6       2           0        2           0   \n",
       "English         0      700       0       0           0        0           0   \n",
       "French          0        2     696       0           0        0           1   \n",
       "German          1        0       5     693           0        0           0   \n",
       "Indonesian      0       10       0       4         686        0           0   \n",
       "Italian         0        5       0       2           0      693           0   \n",
       "Portuguese      0       17       0       1           0        1         681   \n",
       "Romanian        0        6       1       0           0        1           0   \n",
       "Spanish         0        5       2       2           0        1           1   \n",
       "Swedish         0        1       0       0           0        0           0   \n",
       "\n",
       "            Romanian  Spanish  Swedish  \n",
       "Dutch              0        0        0  \n",
       "English            0        0        0  \n",
       "French             0        1        0  \n",
       "German             0        1        0  \n",
       "Indonesian         0        0        0  \n",
       "Italian            0        0        0  \n",
       "Portuguese         0        0        0  \n",
       "Romanian         692        0        0  \n",
       "Spanish            1      688        0  \n",
       "Swedish            0        0      699  "
      ]
     },
     "execution_count": 12,
     "metadata": {},
     "output_type": "execute_result"
    }
   ],
   "source": [
    "y_train_pred = cross_val_predict(naive_pipeline, X_train, y_train, cv=5)\n",
    "\n",
    "pd.DataFrame(confusion_matrix(y_train, y_train_pred), columns=naive_pipeline.classes_, index=naive_pipeline.classes_)"
   ]
  },
  {
   "cell_type": "code",
   "execution_count": 13,
   "metadata": {},
   "outputs": [
    {
     "data": {
      "image/png": "[encoded data removed]",
      "text/plain": [
       "<Figure size 288x288 with 1 Axes>"
      ]
     },
     "metadata": {
      "needs_background": "light"
     },
     "output_type": "display_data"
    }
   ],
   "source": [
    "conf_mat = confusion_matrix(y_train, y_train_pred)\n",
    "plt.matshow(conf_mat, cmap=plt.cm.gray)\n",
    "plt.xticks(ticks=np.arange(10), labels=naive_pipeline.classes_, rotation=45, ha='left')\n",
    "plt.yticks(ticks=np.arange(10), labels=naive_pipeline.classes_)\n",
    "plt.show()"
   ]
  },
  {
   "cell_type": "code",
   "execution_count": 14,
   "metadata": {
    "scrolled": true
   },
   "outputs": [
    {
     "name": "stdout",
     "output_type": "stream",
     "text": [
      "              precision    recall  f1-score   support\n",
      "\n",
      "       Dutch      0.999     0.984     0.991       700\n",
      "     English      0.937     1.000     0.968       700\n",
      "      French      0.980     0.994     0.987       700\n",
      "      German      0.984     0.990     0.987       700\n",
      "  Indonesian      1.000     0.980     0.990       700\n",
      "     Italian      0.993     0.990     0.991       700\n",
      "  Portuguese      0.997     0.973     0.985       700\n",
      "    Romanian      0.999     0.989     0.994       700\n",
      "     Spanish      0.997     0.983     0.990       700\n",
      "     Swedish      1.000     0.999     0.999       700\n",
      "\n",
      "    accuracy                          0.988      7000\n",
      "   macro avg      0.989     0.988     0.988      7000\n",
      "weighted avg      0.989     0.988     0.988      7000\n",
      "\n"
     ]
    }
   ],
   "source": [
    "# Classification Report\n",
    "print(classification_report(y_train, y_train_pred, target_names=naive_pipeline.classes_, digits=3))\n",
    "\n",
    "# F1 Score and Accuracy\n",
    "naive_f1_score = f1_score(y_train, y_train_pred, average='macro')\n",
    "naive_accuracy = accuracy_score(y_train, y_train_pred)"
   ]
  },
  {
   "cell_type": "markdown",
   "metadata": {},
   "source": [
    "## Random Forest"
   ]
  },
  {
   "cell_type": "code",
   "execution_count": 15,
   "metadata": {},
   "outputs": [],
   "source": [
    "forest_pipeline = Pipeline([\n",
    "    ('vector', CountVectorizer()),\n",
    "    ('forest', RandomForestClassifier(n_estimators=50, criterion='entropy', \n",
    "                                      min_samples_split=6, max_features='log2', bootstrap=False))\n",
    "])"
   ]
  },
  {
   "cell_type": "code",
   "execution_count": 16,
   "metadata": {},
   "outputs": [
    {
     "data": {
      "text/plain": [
       "Pipeline(steps=[('vector', CountVectorizer()),\n",
       "                ('forest',\n",
       "                 RandomForestClassifier(bootstrap=False, criterion='entropy',\n",
       "                                        max_features='log2',\n",
       "                                        min_samples_split=6,\n",
       "                                        n_estimators=50))])"
      ]
     },
     "execution_count": 16,
     "metadata": {},
     "output_type": "execute_result"
    }
   ],
   "source": [
    "forest_pipeline.fit(X_train, y_train)"
   ]
  },
  {
   "cell_type": "code",
   "execution_count": 17,
   "metadata": {},
   "outputs": [
    {
     "data": {
      "text/html": [
       "<div>\n",
       "<style scoped>\n",
       "    .dataframe tbody tr th:only-of-type {\n",
       "        vertical-align: middle;\n",
       "    }\n",
       "\n",
       "    .dataframe tbody tr th {\n",
       "        vertical-align: top;\n",
       "    }\n",
       "\n",
       "    .dataframe thead th {\n",
       "        text-align: right;\n",
       "    }\n",
       "</style>\n",
       "<table border=\"1\" class=\"dataframe\">\n",
       "  <thead>\n",
       "    <tr style=\"text-align: right;\">\n",
       "      <th></th>\n",
       "      <th>Dutch</th>\n",
       "      <th>English</th>\n",
       "      <th>French</th>\n",
       "      <th>German</th>\n",
       "      <th>Indonesian</th>\n",
       "      <th>Italian</th>\n",
       "      <th>Portuguese</th>\n",
       "      <th>Romanian</th>\n",
       "      <th>Spanish</th>\n",
       "      <th>Swedish</th>\n",
       "    </tr>\n",
       "  </thead>\n",
       "  <tbody>\n",
       "    <tr>\n",
       "      <th>Dutch</th>\n",
       "      <td>687</td>\n",
       "      <td>1</td>\n",
       "      <td>7</td>\n",
       "      <td>3</td>\n",
       "      <td>0</td>\n",
       "      <td>2</td>\n",
       "      <td>0</td>\n",
       "      <td>0</td>\n",
       "      <td>0</td>\n",
       "      <td>0</td>\n",
       "    </tr>\n",
       "    <tr>\n",
       "      <th>English</th>\n",
       "      <td>1</td>\n",
       "      <td>699</td>\n",
       "      <td>0</td>\n",
       "      <td>0</td>\n",
       "      <td>0</td>\n",
       "      <td>0</td>\n",
       "      <td>0</td>\n",
       "      <td>0</td>\n",
       "      <td>0</td>\n",
       "      <td>0</td>\n",
       "    </tr>\n",
       "    <tr>\n",
       "      <th>French</th>\n",
       "      <td>0</td>\n",
       "      <td>1</td>\n",
       "      <td>697</td>\n",
       "      <td>0</td>\n",
       "      <td>0</td>\n",
       "      <td>0</td>\n",
       "      <td>1</td>\n",
       "      <td>0</td>\n",
       "      <td>1</td>\n",
       "      <td>0</td>\n",
       "    </tr>\n",
       "    <tr>\n",
       "      <th>German</th>\n",
       "      <td>0</td>\n",
       "      <td>1</td>\n",
       "      <td>4</td>\n",
       "      <td>693</td>\n",
       "      <td>0</td>\n",
       "      <td>0</td>\n",
       "      <td>1</td>\n",
       "      <td>0</td>\n",
       "      <td>1</td>\n",
       "      <td>0</td>\n",
       "    </tr>\n",
       "    <tr>\n",
       "      <th>Indonesian</th>\n",
       "      <td>0</td>\n",
       "      <td>9</td>\n",
       "      <td>0</td>\n",
       "      <td>4</td>\n",
       "      <td>687</td>\n",
       "      <td>0</td>\n",
       "      <td>0</td>\n",
       "      <td>0</td>\n",
       "      <td>0</td>\n",
       "      <td>0</td>\n",
       "    </tr>\n",
       "    <tr>\n",
       "      <th>Italian</th>\n",
       "      <td>0</td>\n",
       "      <td>1</td>\n",
       "      <td>0</td>\n",
       "      <td>2</td>\n",
       "      <td>0</td>\n",
       "      <td>697</td>\n",
       "      <td>0</td>\n",
       "      <td>0</td>\n",
       "      <td>0</td>\n",
       "      <td>0</td>\n",
       "    </tr>\n",
       "    <tr>\n",
       "      <th>Portuguese</th>\n",
       "      <td>0</td>\n",
       "      <td>8</td>\n",
       "      <td>0</td>\n",
       "      <td>2</td>\n",
       "      <td>0</td>\n",
       "      <td>0</td>\n",
       "      <td>690</td>\n",
       "      <td>0</td>\n",
       "      <td>0</td>\n",
       "      <td>0</td>\n",
       "    </tr>\n",
       "    <tr>\n",
       "      <th>Romanian</th>\n",
       "      <td>0</td>\n",
       "      <td>8</td>\n",
       "      <td>1</td>\n",
       "      <td>0</td>\n",
       "      <td>0</td>\n",
       "      <td>0</td>\n",
       "      <td>0</td>\n",
       "      <td>691</td>\n",
       "      <td>0</td>\n",
       "      <td>0</td>\n",
       "    </tr>\n",
       "    <tr>\n",
       "      <th>Spanish</th>\n",
       "      <td>1</td>\n",
       "      <td>5</td>\n",
       "      <td>3</td>\n",
       "      <td>3</td>\n",
       "      <td>0</td>\n",
       "      <td>1</td>\n",
       "      <td>2</td>\n",
       "      <td>0</td>\n",
       "      <td>685</td>\n",
       "      <td>0</td>\n",
       "    </tr>\n",
       "    <tr>\n",
       "      <th>Swedish</th>\n",
       "      <td>0</td>\n",
       "      <td>1</td>\n",
       "      <td>0</td>\n",
       "      <td>0</td>\n",
       "      <td>0</td>\n",
       "      <td>0</td>\n",
       "      <td>0</td>\n",
       "      <td>0</td>\n",
       "      <td>0</td>\n",
       "      <td>699</td>\n",
       "    </tr>\n",
       "  </tbody>\n",
       "</table>\n",
       "</div>"
      ],
      "text/plain": [
       "            Dutch  English  French  German  Indonesian  Italian  Portuguese  \\\n",
       "Dutch         687        1       7       3           0        2           0   \n",
       "English         1      699       0       0           0        0           0   \n",
       "French          0        1     697       0           0        0           1   \n",
       "German          0        1       4     693           0        0           1   \n",
       "Indonesian      0        9       0       4         687        0           0   \n",
       "Italian         0        1       0       2           0      697           0   \n",
       "Portuguese      0        8       0       2           0        0         690   \n",
       "Romanian        0        8       1       0           0        0           0   \n",
       "Spanish         1        5       3       3           0        1           2   \n",
       "Swedish         0        1       0       0           0        0           0   \n",
       "\n",
       "            Romanian  Spanish  Swedish  \n",
       "Dutch              0        0        0  \n",
       "English            0        0        0  \n",
       "French             0        1        0  \n",
       "German             0        1        0  \n",
       "Indonesian         0        0        0  \n",
       "Italian            0        0        0  \n",
       "Portuguese         0        0        0  \n",
       "Romanian         691        0        0  \n",
       "Spanish            0      685        0  \n",
       "Swedish            0        0      699  "
      ]
     },
     "execution_count": 17,
     "metadata": {},
     "output_type": "execute_result"
    }
   ],
   "source": [
    "y_train_pred = cross_val_predict(forest_pipeline, X_train, y_train, cv=5)\n",
    "\n",
    "pd.DataFrame(confusion_matrix(y_train, y_train_pred), \n",
    "             columns=forest_pipeline.classes_, index=forest_pipeline.classes_)"
   ]
  },
  {
   "cell_type": "code",
   "execution_count": 18,
   "metadata": {},
   "outputs": [
    {
     "data": {
      "image/png": "[encoded data removed]",
      "text/plain": [
       "<Figure size 288x288 with 1 Axes>"
      ]
     },
     "metadata": {
      "needs_background": "light"
     },
     "output_type": "display_data"
    }
   ],
   "source": [
    "conf_mat = confusion_matrix(y_train, y_train_pred)\n",
    "plt.matshow(conf_mat, cmap=plt.cm.gray)\n",
    "plt.xticks(ticks=np.arange(10), labels=forest_pipeline.classes_, rotation=45, ha='left')\n",
    "plt.yticks(ticks=np.arange(10), labels=forest_pipeline.classes_)\n",
    "plt.show()"
   ]
  },
  {
   "cell_type": "code",
   "execution_count": 19,
   "metadata": {},
   "outputs": [
    {
     "name": "stdout",
     "output_type": "stream",
     "text": [
      "              precision    recall  f1-score   support\n",
      "\n",
      "       Dutch      0.997     0.981     0.989       700\n",
      "     English      0.952     0.999     0.975       700\n",
      "      French      0.979     0.996     0.987       700\n",
      "      German      0.980     0.990     0.985       700\n",
      "  Indonesian      1.000     0.981     0.991       700\n",
      "     Italian      0.996     0.996     0.996       700\n",
      "  Portuguese      0.994     0.986     0.990       700\n",
      "    Romanian      1.000     0.987     0.994       700\n",
      "     Spanish      0.997     0.979     0.988       700\n",
      "     Swedish      1.000     0.999     0.999       700\n",
      "\n",
      "    accuracy                          0.989      7000\n",
      "   macro avg      0.990     0.989     0.989      7000\n",
      "weighted avg      0.990     0.989     0.989      7000\n",
      "\n"
     ]
    }
   ],
   "source": [
    "# Classification Report\n",
    "print(classification_report(y_train, y_train_pred, target_names=forest_pipeline.classes_, digits=3))\n",
    "\n",
    "# F1 Score and Accuracy\n",
    "forest_f1_score = f1_score(y_train, y_train_pred, average='macro')\n",
    "forest_accuracy = accuracy_score(y_train, y_train_pred)"
   ]
  },
  {
   "cell_type": "markdown",
   "metadata": {},
   "source": [
    "# Accuracy and F1 Score for Each Algorithm"
   ]
  },
  {
   "cell_type": "code",
   "execution_count": 20,
   "metadata": {},
   "outputs": [
    {
     "data": {
      "text/html": [
       "<div>\n",
       "<style scoped>\n",
       "    .dataframe tbody tr th:only-of-type {\n",
       "        vertical-align: middle;\n",
       "    }\n",
       "\n",
       "    .dataframe tbody tr th {\n",
       "        vertical-align: top;\n",
       "    }\n",
       "\n",
       "    .dataframe thead th {\n",
       "        text-align: right;\n",
       "    }\n",
       "</style>\n",
       "<table border=\"1\" class=\"dataframe\">\n",
       "  <thead>\n",
       "    <tr style=\"text-align: right;\">\n",
       "      <th></th>\n",
       "      <th>K Nearest Neighbors</th>\n",
       "      <th>Multinomial Naive Bayes</th>\n",
       "      <th>Random Forest</th>\n",
       "    </tr>\n",
       "  </thead>\n",
       "  <tbody>\n",
       "    <tr>\n",
       "      <th>Accuracy</th>\n",
       "      <td>0.909286</td>\n",
       "      <td>0.988143</td>\n",
       "      <td>0.989286</td>\n",
       "    </tr>\n",
       "    <tr>\n",
       "      <th>Avg Macro F1 Score</th>\n",
       "      <td>0.911846</td>\n",
       "      <td>0.988218</td>\n",
       "      <td>0.989328</td>\n",
       "    </tr>\n",
       "  </tbody>\n",
       "</table>\n",
       "</div>"
      ],
      "text/plain": [
       "                    K Nearest Neighbors  Multinomial Naive Bayes  \\\n",
       "Accuracy                       0.909286                 0.988143   \n",
       "Avg Macro F1 Score             0.911846                 0.988218   \n",
       "\n",
       "                    Random Forest  \n",
       "Accuracy                 0.989286  \n",
       "Avg Macro F1 Score       0.989328  "
      ]
     },
     "execution_count": 20,
     "metadata": {},
     "output_type": "execute_result"
    }
   ],
   "source": [
    "metrics = {\n",
    "    'K Nearest Neighbors': [knn_accuracy, knn_f1_score],\n",
    "    'Multinomial Naive Bayes': [naive_accuracy, naive_f1_score],\n",
    "    'Random Forest': [forest_accuracy, forest_f1_score]\n",
    "}\n",
    "\n",
    "pd.DataFrame(metrics, index=['Accuracy', 'Avg Macro F1 Score'])"
   ]
  },
  {
   "cell_type": "code",
   "execution_count": 21,
   "metadata": {},
   "outputs": [
    {
     "name": "stdout",
     "output_type": "stream",
     "text": [
      "The algorithm with the highest overall performance is Random Forest.\n"
     ]
    }
   ],
   "source": [
    "# best_algorithm = list(metrics.keys())[np.argmax(list(metrics.values()))]\n",
    "best_algorithm = list(metrics.keys())[np.argmax([np.mean(result) for result in list(metrics.values())])]\n",
    "\n",
    "print(f'The algorithm with the highest overall performance is {best_algorithm}.')"
   ]
  },
  {
   "cell_type": "markdown",
   "metadata": {},
   "source": [
    "## Random Forest Performed the Best\n",
    "Now we can test the model on the test set."
   ]
  },
  {
   "cell_type": "code",
   "execution_count": 22,
   "metadata": {},
   "outputs": [
    {
     "data": {
      "text/html": [
       "<div>\n",
       "<style scoped>\n",
       "    .dataframe tbody tr th:only-of-type {\n",
       "        vertical-align: middle;\n",
       "    }\n",
       "\n",
       "    .dataframe tbody tr th {\n",
       "        vertical-align: top;\n",
       "    }\n",
       "\n",
       "    .dataframe thead th {\n",
       "        text-align: right;\n",
       "    }\n",
       "</style>\n",
       "<table border=\"1\" class=\"dataframe\">\n",
       "  <thead>\n",
       "    <tr style=\"text-align: right;\">\n",
       "      <th></th>\n",
       "      <th>Dutch</th>\n",
       "      <th>English</th>\n",
       "      <th>French</th>\n",
       "      <th>German</th>\n",
       "      <th>Indonesian</th>\n",
       "      <th>Italian</th>\n",
       "      <th>Portuguese</th>\n",
       "      <th>Romanian</th>\n",
       "      <th>Spanish</th>\n",
       "      <th>Swedish</th>\n",
       "    </tr>\n",
       "  </thead>\n",
       "  <tbody>\n",
       "    <tr>\n",
       "      <th>Dutch</th>\n",
       "      <td>293</td>\n",
       "      <td>1</td>\n",
       "      <td>6</td>\n",
       "      <td>0</td>\n",
       "      <td>0</td>\n",
       "      <td>0</td>\n",
       "      <td>0</td>\n",
       "      <td>0</td>\n",
       "      <td>0</td>\n",
       "      <td>0</td>\n",
       "    </tr>\n",
       "    <tr>\n",
       "      <th>English</th>\n",
       "      <td>1</td>\n",
       "      <td>298</td>\n",
       "      <td>0</td>\n",
       "      <td>0</td>\n",
       "      <td>1</td>\n",
       "      <td>0</td>\n",
       "      <td>0</td>\n",
       "      <td>0</td>\n",
       "      <td>0</td>\n",
       "      <td>0</td>\n",
       "    </tr>\n",
       "    <tr>\n",
       "      <th>French</th>\n",
       "      <td>0</td>\n",
       "      <td>3</td>\n",
       "      <td>296</td>\n",
       "      <td>1</td>\n",
       "      <td>0</td>\n",
       "      <td>0</td>\n",
       "      <td>0</td>\n",
       "      <td>0</td>\n",
       "      <td>0</td>\n",
       "      <td>0</td>\n",
       "    </tr>\n",
       "    <tr>\n",
       "      <th>German</th>\n",
       "      <td>0</td>\n",
       "      <td>3</td>\n",
       "      <td>2</td>\n",
       "      <td>295</td>\n",
       "      <td>0</td>\n",
       "      <td>0</td>\n",
       "      <td>0</td>\n",
       "      <td>0</td>\n",
       "      <td>0</td>\n",
       "      <td>0</td>\n",
       "    </tr>\n",
       "    <tr>\n",
       "      <th>Indonesian</th>\n",
       "      <td>0</td>\n",
       "      <td>5</td>\n",
       "      <td>0</td>\n",
       "      <td>0</td>\n",
       "      <td>295</td>\n",
       "      <td>0</td>\n",
       "      <td>0</td>\n",
       "      <td>0</td>\n",
       "      <td>0</td>\n",
       "      <td>0</td>\n",
       "    </tr>\n",
       "    <tr>\n",
       "      <th>Italian</th>\n",
       "      <td>0</td>\n",
       "      <td>2</td>\n",
       "      <td>1</td>\n",
       "      <td>3</td>\n",
       "      <td>0</td>\n",
       "      <td>294</td>\n",
       "      <td>0</td>\n",
       "      <td>0</td>\n",
       "      <td>0</td>\n",
       "      <td>0</td>\n",
       "    </tr>\n",
       "    <tr>\n",
       "      <th>Portuguese</th>\n",
       "      <td>0</td>\n",
       "      <td>4</td>\n",
       "      <td>0</td>\n",
       "      <td>0</td>\n",
       "      <td>0</td>\n",
       "      <td>0</td>\n",
       "      <td>296</td>\n",
       "      <td>0</td>\n",
       "      <td>0</td>\n",
       "      <td>0</td>\n",
       "    </tr>\n",
       "    <tr>\n",
       "      <th>Romanian</th>\n",
       "      <td>0</td>\n",
       "      <td>4</td>\n",
       "      <td>0</td>\n",
       "      <td>0</td>\n",
       "      <td>0</td>\n",
       "      <td>0</td>\n",
       "      <td>0</td>\n",
       "      <td>295</td>\n",
       "      <td>1</td>\n",
       "      <td>0</td>\n",
       "    </tr>\n",
       "    <tr>\n",
       "      <th>Spanish</th>\n",
       "      <td>0</td>\n",
       "      <td>4</td>\n",
       "      <td>1</td>\n",
       "      <td>1</td>\n",
       "      <td>0</td>\n",
       "      <td>1</td>\n",
       "      <td>0</td>\n",
       "      <td>0</td>\n",
       "      <td>293</td>\n",
       "      <td>0</td>\n",
       "    </tr>\n",
       "    <tr>\n",
       "      <th>Swedish</th>\n",
       "      <td>0</td>\n",
       "      <td>0</td>\n",
       "      <td>0</td>\n",
       "      <td>0</td>\n",
       "      <td>0</td>\n",
       "      <td>0</td>\n",
       "      <td>0</td>\n",
       "      <td>0</td>\n",
       "      <td>0</td>\n",
       "      <td>300</td>\n",
       "    </tr>\n",
       "  </tbody>\n",
       "</table>\n",
       "</div>"
      ],
      "text/plain": [
       "            Dutch  English  French  German  Indonesian  Italian  Portuguese  \\\n",
       "Dutch         293        1       6       0           0        0           0   \n",
       "English         1      298       0       0           1        0           0   \n",
       "French          0        3     296       1           0        0           0   \n",
       "German          0        3       2     295           0        0           0   \n",
       "Indonesian      0        5       0       0         295        0           0   \n",
       "Italian         0        2       1       3           0      294           0   \n",
       "Portuguese      0        4       0       0           0        0         296   \n",
       "Romanian        0        4       0       0           0        0           0   \n",
       "Spanish         0        4       1       1           0        1           0   \n",
       "Swedish         0        0       0       0           0        0           0   \n",
       "\n",
       "            Romanian  Spanish  Swedish  \n",
       "Dutch              0        0        0  \n",
       "English            0        0        0  \n",
       "French             0        0        0  \n",
       "German             0        0        0  \n",
       "Indonesian         0        0        0  \n",
       "Italian            0        0        0  \n",
       "Portuguese         0        0        0  \n",
       "Romanian         295        1        0  \n",
       "Spanish            0      293        0  \n",
       "Swedish            0        0      300  "
      ]
     },
     "execution_count": 22,
     "metadata": {},
     "output_type": "execute_result"
    }
   ],
   "source": [
    "y_test_pred = forest_pipeline.predict(X_test)\n",
    "\n",
    "pd.DataFrame(confusion_matrix(y_test, y_test_pred), columns=forest_pipeline.classes_, index=forest_pipeline.classes_)"
   ]
  },
  {
   "cell_type": "code",
   "execution_count": 23,
   "metadata": {},
   "outputs": [
    {
     "data": {
      "image/png": "[encoded data removed]",
      "text/plain": [
       "<Figure size 288x288 with 1 Axes>"
      ]
     },
     "metadata": {
      "needs_background": "light"
     },
     "output_type": "display_data"
    }
   ],
   "source": [
    "conf_mat = confusion_matrix(y_test, y_test_pred)\n",
    "plt.matshow(conf_mat, cmap=plt.cm.gray)\n",
    "plt.xticks(ticks=np.arange(10), labels=naive_pipeline.classes_, rotation=45, ha='left')\n",
    "plt.yticks(ticks=np.arange(10), labels=naive_pipeline.classes_)\n",
    "plt.show()"
   ]
  },
  {
   "cell_type": "code",
   "execution_count": 24,
   "metadata": {},
   "outputs": [
    {
     "name": "stdout",
     "output_type": "stream",
     "text": [
      "              precision    recall  f1-score   support\n",
      "\n",
      "       Dutch     0.9966    0.9767    0.9865       300\n",
      "     English     0.9198    0.9933    0.9551       300\n",
      "      French     0.9673    0.9867    0.9769       300\n",
      "      German     0.9833    0.9833    0.9833       300\n",
      "  Indonesian     0.9966    0.9833    0.9899       300\n",
      "     Italian     0.9966    0.9800    0.9882       300\n",
      "  Portuguese     1.0000    0.9867    0.9933       300\n",
      "    Romanian     1.0000    0.9833    0.9916       300\n",
      "     Spanish     0.9966    0.9767    0.9865       300\n",
      "     Swedish     1.0000    1.0000    1.0000       300\n",
      "\n",
      "    accuracy                         0.9850      3000\n",
      "   macro avg     0.9857    0.9850    0.9851      3000\n",
      "weighted avg     0.9857    0.9850    0.9851      3000\n",
      "\n"
     ]
    }
   ],
   "source": [
    "print(classification_report(y_test, y_test_pred, target_names=forest_pipeline.classes_, digits=4))"
   ]
  },
  {
   "cell_type": "markdown",
   "metadata": {},
   "source": [
    "# Save the trained model as a pickle object"
   ]
  },
  {
   "cell_type": "code",
   "execution_count": 25,
   "metadata": {},
   "outputs": [],
   "source": [
    "# save the model\n",
    "filename = './saved-items/algorithm.sav'\n",
    "pickle.dump(forest_pipeline, open(filename, 'wb'))\n",
    "\n",
    "# save the list of languages\n",
    "langs = forest_pipeline.classes_\n",
    "pickle.dump(langs, open('./saved-items/languages.sav', 'wb'))"
   ]
  }
 ],
 "metadata": {
  "kernelspec": {
   "display_name": "Python 3",
   "language": "python",
   "name": "python3"
  },
  "language_info": {
   "codemirror_mode": {
    "name": "ipython",
    "version": 3
   },
   "file_extension": ".py",
   "mimetype": "text/x-python",
   "name": "python",
   "nbconvert_exporter": "python",
   "pygments_lexer": "ipython3",
   "version": "3.7.0"
  }
 },
 "nbformat": 4,
 "nbformat_minor": 2
}
